{
 "cells": [
  {
   "cell_type": "markdown",
   "id": "1046978b1876c67c",
   "metadata": {},
   "source": [
    "## Data preparation:"
   ]
  },
  {
   "cell_type": "markdown",
   "id": "513a217358e6bf6a",
   "metadata": {},
   "source": [
    "Load and check the A_share_list.json file to determine the company name data format."
   ]
  },
  {
   "cell_type": "code",
   "execution_count": 1,
   "id": "initial_id",
   "metadata": {
    "collapsed": true,
    "ExecuteTime": {
     "end_time": "2023-12-05T10:06:53.772617200Z",
     "start_time": "2023-12-05T10:06:53.423327500Z"
    }
   },
   "outputs": [
    {
     "name": "stdout",
     "output_type": "stream",
     "text": [
      "      name          fullname       code location        time\n",
      "0     邵阳液压      邵阳维克液压股份有限公司     301079  深圳证券交易所  2021-10-19\n",
      "1      同益中  北京同益中新材料科技股份有限公司     688722  上海证券交易所  2021-10-19\n",
      "2     华瓷股份      湖南华联瓷业股份有限公司     001216  深圳证券交易所  2021-10-19\n",
      "3      鸿富瀚    深圳市鸿富瀚科技股份有限公司     301086  深圳证券交易所  2021-10-20\n",
      "4     高铁电气    中铁高铁电气装备股份有限公司     688285  上海证券交易所  2021-10-20\n",
      "...    ...               ...        ...      ...         ...\n",
      "4649  众信旅游      众信旅游集团股份有限公司  002707.SZ  深圳证券交易所  2014-01-23\n",
      "4650  北新建材      北新集团建材股份有限公司  000786.SZ  深圳证券交易所  1997-06-06\n",
      "4651  乾景园林      北京乾景园林股份有限公司  603778.SH  上海证券交易所  2015-12-31\n",
      "4652  能科股份        能科科技股份有限公司  603859.SH  上海证券交易所  2016-10-21\n",
      "4653  中成股份       中成进出口股份有限公司  000151.SZ  深圳证券交易所  2000-09-06\n",
      "\n",
      "[4654 rows x 5 columns]\n"
     ]
    }
   ],
   "source": [
    "import pandas as pd\n",
    "import json\n",
    "\n",
    "with open('./data/A_share_list.json', 'r', encoding='utf-8') as file:\n",
    "    a_share_data = json.load(file)\n",
    "\n",
    "a_share_df = pd.DataFrame(a_share_data)\n",
    "\n",
    "print(a_share_df)\n",
    "\n",
    "\n"
   ]
  },
  {
   "cell_type": "markdown",
   "id": "e5b7eb4460a22a31",
   "metadata": {},
   "source": [
    "Load News data news.xlsx to understand the structure and content of news data."
   ]
  },
  {
   "cell_type": "code",
   "execution_count": 2,
   "id": "c06c539e7231b985",
   "metadata": {
    "ExecuteTime": {
     "end_time": "2023-12-05T08:31:21.598453700Z",
     "start_time": "2023-12-05T08:29:45.275026Z"
    }
   },
   "outputs": [
    {
     "name": "stdout",
     "output_type": "stream",
     "text": [
      "   NewsID                       Title  \\\n",
      "0       1          建设银行原董事长张恩照一审被判15年   \n",
      "1       2                农行信用卡中心搬到上海滩   \n",
      "2       3           外运发展：价值型蓝筹股补涨要求强烈   \n",
      "3       4           胜利股份：稳步走强形成标准上升通道   \n",
      "4       5  [港股快讯]恒指收市报18960点 成交467亿港元   \n",
      "\n",
      "                                         NewsContent NewsSource  \n",
      "0  　　本报记者 田雨 李京华    　　中国建设银行股份有限公司原董事长张恩照受贿案３日一审宣...      中国证券报  \n",
      "1  　　中国农业银行信用卡中心由北京搬到上海了！  　　农行行长杨明生日前在信用卡中心揭牌仪式上...       人民日报  \n",
      "2  　　在新基金快速发行以及申购资金回流的情况下，市场总体上呈现资金流动性过剩格局，考虑到现阶段...      杭州新希望  \n",
      "3  　　胜利股份（000407）公司子公司填海造地2800亩，以青岛的地价估算，静态价值在10亿...       源达投资  \n",
      "4  　　全景网11月30日讯 外围股市造好，带动港股今早造好，恒指高开后反覆上升，最高升252点...        全景网  \n"
     ]
    }
   ],
   "source": [
    "import pandas as pd\n",
    "\n",
    "news_data = pd.read_excel('./data/News.xlsx')\n",
    "# 确定DataFrame的行数\n",
    "\n",
    "# news_data = news_data.iloc[:10000]\n",
    "\n",
    "\n",
    "print(news_data.head())\n"
   ]
  },
  {
   "cell_type": "code",
   "execution_count": 3,
   "id": "97a7f192d3d09764",
   "metadata": {
    "ExecuteTime": {
     "end_time": "2023-12-01T05:34:30.958259600Z",
     "start_time": "2023-12-01T05:34:30.944260700Z"
    }
   },
   "outputs": [],
   "source": [
    "news_data = news_data.iloc[:10000]\n"
   ]
  },
  {
   "cell_type": "code",
   "execution_count": 4,
   "id": "a7fc5e67bd5003c1",
   "metadata": {
    "ExecuteTime": {
     "end_time": "2023-12-01T05:34:30.995260100Z",
     "start_time": "2023-12-01T05:34:30.960259700Z"
    }
   },
   "outputs": [
    {
     "name": "stdout",
     "output_type": "stream",
     "text": [
      "rows: 10000\n"
     ]
    }
   ],
   "source": [
    "rows, columns = news_data.shape\n",
    "print(f'rows: {rows}')\n"
   ]
  },
  {
   "cell_type": "code",
   "execution_count": 5,
   "id": "4c7827538f2f0c16",
   "metadata": {
    "ExecuteTime": {
     "end_time": "2023-12-01T05:34:30.997259900Z",
     "start_time": "2023-12-01T05:34:30.977259900Z"
    }
   },
   "outputs": [
    {
     "data": {
      "text/plain": [
       "NewsID          0\n",
       "Title           0\n",
       "NewsContent     2\n",
       "NewsSource     32\n",
       "dtype: int64"
      ]
     },
     "execution_count": 5,
     "metadata": {},
     "output_type": "execute_result"
    }
   ],
   "source": [
    "news_data.isnull().sum()"
   ]
  },
  {
   "cell_type": "markdown",
   "id": "5db7ba292e07a96a",
   "metadata": {},
   "source": [
    "## Data cleaning："
   ]
  },
  {
   "cell_type": "markdown",
   "id": "f67c23d4876e87a7",
   "metadata": {},
   "source": [
    "I started using it when I was doing vectorization, but I didn't use it when I was using ner"
   ]
  },
  {
   "cell_type": "code",
   "execution_count": 14,
   "id": "4687ee4907dc2cab",
   "metadata": {
    "ExecuteTime": {
     "end_time": "2023-12-05T08:56:32.623460700Z",
     "start_time": "2023-12-05T08:56:32.249480400Z"
    }
   },
   "outputs": [],
   "source": [
    "# Make sure all news content is of string type\n",
    "news_data['NewsContent'] = news_data['NewsContent'].astype(str)\n",
    "news_data['NewsContent'] = news_data['NewsContent'].astype(str).str.strip()\n",
    "news_data2=news_data"
   ]
  },
  {
   "cell_type": "code",
   "execution_count": null,
   "id": "d8e3794fdaa9233",
   "metadata": {},
   "outputs": [],
   "source": [
    "import re\n",
    "# Define a function to remove name prefixes (all non-Chinese characters starting with * and S)\n",
    "def remove_all_non_chinese_prefix(text):\n",
    "    # Remove the beginning '*', 'S', and 'T' until you encounter a Chinese character\n",
    "    return re.sub(r\"^[*ST]+\", \"\", text)\n",
    "\n",
    "a_share_df['name'] = a_share_df['name'].apply(remove_all_non_chinese_prefix)\n",
    "a_share_df['fullname'] = a_share_df['fullname'].apply(remove_all_non_chinese_prefix)\n",
    "\n",
    "a_share_df[['name', 'fullname']]\n"
   ]
  },
  {
   "cell_type": "code",
   "execution_count": null,
   "id": "82b1054bea3e7ead",
   "metadata": {},
   "outputs": [],
   "source": [
    "# filter out all names and fullnames starting with 'S' or '*'\n",
    "\n",
    "special_start_regex = re.compile(r\"^[S*]\")\n",
    "\n",
    "special_names_df = a_share_df[a_share_df['name'].str.match(special_start_regex)]\n",
    "\n",
    "special_names_df[['name', 'fullname']]  \n",
    "\n"
   ]
  },
  {
   "cell_type": "code",
   "execution_count": 9,
   "id": "7620179cfa7b0618",
   "metadata": {
    "ExecuteTime": {
     "end_time": "2023-12-01T02:40:52.821826800Z",
     "start_time": "2023-12-01T02:40:47.994982800Z"
    }
   },
   "outputs": [
    {
     "name": "stdout",
     "output_type": "stream",
     "text": [
      "True\n",
      "NVIDIA GeForce RTX 4060 Ti\n"
     ]
    }
   ],
   "source": [
    "import torch\n",
    "\n",
    "\n",
    "device = torch.device(\"cuda\" if torch.cuda.is_available() else \"cpu\")\n",
    "print(torch.cuda.is_available())\n",
    "print(torch.cuda.get_device_name(0))"
   ]
  },
  {
   "cell_type": "markdown",
   "id": "adad5725b5bb65e0",
   "metadata": {},
   "source": [
    "## vector similarity based method"
   ]
  },
  {
   "cell_type": "markdown",
   "id": "72f314621f0301d2",
   "metadata": {},
   "source": [
    "Text vectorization:\n",
    "Vectorization of news data and names of listed companies\n",
    "\n",
    "Similarity calculation:\n",
    "Calculate the similarity between the news text vector and the name vector of each listed company. This is usually done by calculating the cosine similarity between vectors.\n",
    "\n",
    "Filter news:\n",
    "Based on the similarity score, a threshold is set to determine which news stories mention public companies.\n",
    "If the similarity score between a news item and the name of any listed company is higher than the threshold, the news is retained; Otherwise, treat it as noise and remove it."
   ]
  },
  {
   "cell_type": "markdown",
   "id": "f18b90d58172a43f",
   "metadata": {},
   "source": [
    "Bert"
   ]
  },
  {
   "cell_type": "code",
   "execution_count": 7,
   "id": "b031001b61ce8bbd",
   "metadata": {
    "ExecuteTime": {
     "end_time": "2023-12-01T05:34:41.896799300Z",
     "start_time": "2023-12-01T05:34:31.866662600Z"
    }
   },
   "outputs": [
    {
     "name": "stdout",
     "output_type": "stream",
     "text": [
      "bin D:\\Anaconda3\\envs\\pytorch\\lib\\site-packages\\bitsandbytes\\libbitsandbytes_cuda118.dll\n",
      "BERT is ready！\n"
     ]
    }
   ],
   "source": [
    "\n",
    "from transformers import BertTokenizer, BertModel\n",
    "import torch\n",
    "from torch.nn import DataParallel\n",
    "device = torch.device(\"cuda:0\" if torch.cuda.is_available() else \"cpu\")\n",
    "tokenizer = BertTokenizer.from_pretrained('bert-base-chinese')\n",
    "model = BertModel.from_pretrained('bert-base-chinese').to(device)\n",
    "model = DataParallel(model)\n",
    "print(\"BERT is ready！\")"
   ]
  },
  {
   "cell_type": "code",
   "execution_count": 8,
   "id": "7c599247f70c6d67",
   "metadata": {
    "ExecuteTime": {
     "end_time": "2023-12-01T05:38:16.286529500Z",
     "start_time": "2023-12-01T05:34:41.900800300Z"
    }
   },
   "outputs": [
    {
     "name": "stderr",
     "output_type": "stream",
     "text": [
      "Processing News: 100%|██████████| 10000/10000 [02:30<00:00, 66.55it/s]\n"
     ]
    },
    {
     "name": "stdout",
     "output_type": "stream",
     "text": [
      "new data cost time：150.27s。\n"
     ]
    },
    {
     "name": "stderr",
     "output_type": "stream",
     "text": [
      "Processing A-share Companies: 100%|██████████| 4654/4654 [01:04<00:00, 72.59it/s]"
     ]
    },
    {
     "name": "stdout",
     "output_type": "stream",
     "text": [
      "company data cost time：64.12s。\n"
     ]
    },
    {
     "name": "stderr",
     "output_type": "stream",
     "text": [
      "\n"
     ]
    }
   ],
   "source": [
    "import time\n",
    "from tqdm import tqdm\n",
    "\n",
    "#  News get BERT embedded vector\n",
    "def get_bert_embedding(text):\n",
    "\n",
    "    encoded_input = tokenizer.encode_plus(\n",
    "        text,\n",
    "        add_special_tokens=True,  \n",
    "        max_length=512,  \n",
    "        padding='max_length',  \n",
    "        truncation=True,  \n",
    "        return_attention_mask=True,  \n",
    "        return_tensors='pt' \n",
    "    )\n",
    "    encoded_input = {key: value.to(device) for key, value in encoded_input.items()}\n",
    "\n",
    "    with torch.no_grad():\n",
    "        model_output = model(**encoded_input)\n",
    "    \n",
    "    return model_output.last_hidden_state[:, 0, :].detach().cpu().numpy()\n",
    "\n",
    "# Get the embed vector for each news item separately\n",
    "news_embeddings_bert = []\n",
    "start_time = time.time()  \n",
    "for text in tqdm(news_data['NewsContent'], desc=\"Processing News\"):\n",
    "    embedding = get_bert_embedding(text)\n",
    "    news_embeddings_bert.append(embedding)\n",
    "end_time = time.time()  \n",
    "print(f\"new data cost time：{end_time - start_time:.2f}s。\")\n",
    "\n",
    "# Get an embeddings vector for each listed company name\n",
    "a_share_embeddings_bert = []\n",
    "start_time = time.time()  \n",
    "for name in tqdm(a_share_df['name'], desc=\"Processing A-share Companies\"):\n",
    "    embedding = get_bert_embedding(name)\n",
    "    a_share_embeddings_bert.append(embedding)\n",
    "end_time = time.time()  \n",
    "print(f\"company data cost time：{end_time - start_time:.2f}s。\")\n"
   ]
  },
  {
   "cell_type": "markdown",
   "id": "223e24d68bbf5949",
   "metadata": {},
   "source": [
    "TF-IDF"
   ]
  },
  {
   "cell_type": "code",
   "execution_count": 9,
   "id": "9a3dfcc595924fcf",
   "metadata": {
    "ExecuteTime": {
     "end_time": "2023-12-01T05:38:21.267441800Z",
     "start_time": "2023-12-01T05:38:16.286529500Z"
    }
   },
   "outputs": [],
   "source": [
    "from sklearn.feature_extraction.text import TfidfVectorizer\n",
    "\n",
    "# Gets the TF-IDF embedding vector\n",
    "def get_tfidf_embedding(texts):\n",
    "    vectorizer = TfidfVectorizer(max_features=512)  \n",
    "    tfidf_matrix = vectorizer.fit_transform(texts)\n",
    "    return tfidf_matrix.toarray(), vectorizer\n",
    "\n",
    "\n",
    "vectorizer = TfidfVectorizer(max_features=512)\n",
    "\n",
    "# Vectorized news data using TF-IDF\n",
    "news_texts = news_data['NewsContent']  \n",
    "vectorizer.fit(news_texts)\n",
    "\n",
    "news_embeddings_tf = []\n",
    "for text in news_texts:\n",
    "    embedding = vectorizer.transform([text]).toarray()\n",
    "    news_embeddings_tf.append(embedding)\n",
    "\n",
    "# The TF-IDF embedding vector is obtained for each listed company name\n",
    "a_share_embeddings_tf = []\n",
    "for name in a_share_df['name']:\n",
    "    embedding = vectorizer.transform([name]).toarray()\n",
    "    a_share_embeddings_tf.append(embedding)\n",
    "\n"
   ]
  },
  {
   "cell_type": "code",
   "execution_count": 10,
   "id": "7a8de9a3c5a7ac3f",
   "metadata": {
    "ExecuteTime": {
     "end_time": "2023-12-01T05:40:16.729720800Z",
     "start_time": "2023-12-01T05:38:21.268442400Z"
    }
   },
   "outputs": [
    {
     "name": "stderr",
     "output_type": "stream",
     "text": [
      "news:   0%|          | 0/10000 [00:00<?, ?it/s]Building prefix dict from the default dictionary ...\n",
      "Loading model from cache C:\\Users\\ADMINI~1\\AppData\\Local\\Temp\\jieba.cache\n",
      "Loading model cost 0.310 seconds.\n",
      "Prefix dict has been built successfully.\n",
      "news: 100%|██████████| 10000/10000 [00:08<00:00, 1165.55it/s]\n",
      "company: 100%|██████████| 4654/4654 [00:00<00:00, 62053.69it/s]\n",
      "news: 100%|██████████| 10000/10000 [00:02<00:00, 4060.07it/s]\n",
      "company: 100%|██████████| 4654/4654 [00:00<00:00, 64184.67it/s]\n"
     ]
    }
   ],
   "source": [
    "import jieba\n",
    "from gensim.models import KeyedVectors\n",
    "import numpy as np\n",
    "from tqdm import tqdm\n",
    "\n",
    "\n",
    "# Use jieba for word segmentation\n",
    "news_texts = [' '.join(jieba.cut(content)) for content in tqdm(news_data['NewsContent'], desc=\"news\")]\n",
    "company_names = [' '.join(jieba.cut(name)) for name in tqdm(a_share_df['name'], desc=\"company\")]\n",
    "\n",
    "# Load the pre-trained Word2Vec model\n",
    "model_path = './model/sgns.financial.char.bz2'\n",
    "w2v_model = KeyedVectors.load_word2vec_format(model_path, binary=False)\n",
    "\n",
    "#Use the Word2Vec model to get the average embedding vector of text\n",
    "def get_w2v_embedding(text, model):\n",
    "    words = text.split()\n",
    "    words = [word for word in words if word in model.key_to_index]\n",
    "    if len(words) == 0:\n",
    "        return np.zeros(model.vector_size).tolist()\n",
    "    return model[words].mean(axis=0).tolist()\n",
    "\n",
    "\n",
    "news_embeddings_w2v = []\n",
    "for text in tqdm(news_texts, desc=\"news\"):\n",
    "    embedding = get_w2v_embedding(text, w2v_model)\n",
    "    news_embeddings_w2v.append(embedding)\n",
    "\n",
    "\n",
    "a_share_embeddings_w2v = []\n",
    "for name in tqdm(company_names, desc=\"company\"):\n",
    "    embedding = get_w2v_embedding(name, w2v_model)\n",
    "    a_share_embeddings_w2v.append(embedding)\n",
    "\n"
   ]
  },
  {
   "cell_type": "markdown",
   "id": "c1bc61932b2a0b57",
   "metadata": {},
   "source": [
    "\n"
   ]
  },
  {
   "cell_type": "markdown",
   "id": "d8e98fd54b8c7092",
   "metadata": {},
   "source": [
    "## Similarity calculation & Evaluation"
   ]
  },
  {
   "cell_type": "markdown",
   "id": "d23cd1537ceedd99",
   "metadata": {},
   "source": [
    "cosine_similarities"
   ]
  },
  {
   "cell_type": "markdown",
   "id": "5298799f1469a0c1",
   "metadata": {},
   "source": [
    "Bert + cos"
   ]
  },
  {
   "cell_type": "code",
   "execution_count": 34,
   "id": "aae879d02e3cc63f",
   "metadata": {
    "ExecuteTime": {
     "end_time": "2023-12-01T05:46:54.770807100Z",
     "start_time": "2023-12-01T05:46:16.042721400Z"
    }
   },
   "outputs": [
    {
     "name": "stdout",
     "output_type": "stream",
     "text": [
      "0.5269\n"
     ]
    },
    {
     "data": {
      "text/html": [
       "<div>\n",
       "<style scoped>\n",
       "    .dataframe tbody tr th:only-of-type {\n",
       "        vertical-align: middle;\n",
       "    }\n",
       "\n",
       "    .dataframe tbody tr th {\n",
       "        vertical-align: top;\n",
       "    }\n",
       "\n",
       "    .dataframe thead th {\n",
       "        text-align: right;\n",
       "    }\n",
       "</style>\n",
       "<table border=\"1\" class=\"dataframe\">\n",
       "  <thead>\n",
       "    <tr style=\"text-align: right;\">\n",
       "      <th></th>\n",
       "      <th>NewsContent</th>\n",
       "      <th>Explicit_Company</th>\n",
       "    </tr>\n",
       "  </thead>\n",
       "  <tbody>\n",
       "    <tr>\n",
       "      <th>0</th>\n",
       "      <td>本报记者 田雨 李京华    　　中国建设银行股份有限公司原董事长张恩照受贿案３日一审宣判，...</td>\n",
       "      <td></td>\n",
       "    </tr>\n",
       "    <tr>\n",
       "      <th>1</th>\n",
       "      <td>中国农业银行信用卡中心由北京搬到上海了！  　　农行行长杨明生日前在信用卡中心揭牌仪式上表示...</td>\n",
       "      <td></td>\n",
       "    </tr>\n",
       "    <tr>\n",
       "      <th>2</th>\n",
       "      <td>在新基金快速发行以及申购资金回流的情况下，市场总体上呈现资金流动性过剩格局，考虑到现阶段权重...</td>\n",
       "      <td></td>\n",
       "    </tr>\n",
       "    <tr>\n",
       "      <th>3</th>\n",
       "      <td>胜利股份（000407）公司子公司填海造地2800亩，以青岛的地价估算，静态价值在10亿元左...</td>\n",
       "      <td></td>\n",
       "    </tr>\n",
       "    <tr>\n",
       "      <th>4</th>\n",
       "      <td>全景网11月30日讯 外围股市造好，带动港股今早造好，恒指高开后反覆上升，最高升252点，曾...</td>\n",
       "      <td></td>\n",
       "    </tr>\n",
       "  </tbody>\n",
       "</table>\n",
       "</div>"
      ],
      "text/plain": [
       "                                         NewsContent Explicit_Company\n",
       "0  本报记者 田雨 李京华    　　中国建设银行股份有限公司原董事长张恩照受贿案３日一审宣判，...                 \n",
       "1  中国农业银行信用卡中心由北京搬到上海了！  　　农行行长杨明生日前在信用卡中心揭牌仪式上表示...                 \n",
       "2  在新基金快速发行以及申购资金回流的情况下，市场总体上呈现资金流动性过剩格局，考虑到现阶段权重...                 \n",
       "3  胜利股份（000407）公司子公司填海造地2800亩，以青岛的地价估算，静态价值在10亿元左...                 \n",
       "4  全景网11月30日讯 外围股市造好，带动港股今早造好，恒指高开后反覆上升，最高升252点，曾...                 "
      ]
     },
     "execution_count": 34,
     "metadata": {},
     "output_type": "execute_result"
    }
   ],
   "source": [
    "from sklearn.metrics.pairwise import cosine_similarity\n",
    "news_embeddings =news_embeddings_bert\n",
    "a_share_embeddings =a_share_embeddings_bert\n",
    "news_embeddings = [emb.squeeze() for emb in news_embeddings]  # 将每个新闻嵌入向量压缩成一维\n",
    "a_share_embeddings = [emb.squeeze() for emb in a_share_embeddings]  # 将每个公司名称嵌入向量压缩成一维\n",
    "\n",
    "def rescale_cosine_similarities(cosine_similarities):\n",
    "\n",
    "    min_sim = np.min(cosine_similarities)\n",
    "    max_sim = np.max(cosine_similarities)\n",
    "    return (cosine_similarities - min_sim) / (max_sim - min_sim)\n",
    "\n",
    "def filter_news_by_rescaled_similarity(news_embeddings, a_share_embeddings, a_share_df, threshold=0.5):\n",
    "\n",
    "    cosine_similarities = cosine_similarity(news_embeddings, a_share_embeddings)\n",
    "\n",
    "    rescaled_similarities = rescale_cosine_similarities(cosine_similarities)\n",
    "\n",
    "    filtered_companies = []\n",
    "    for similarities in rescaled_similarities:\n",
    "        company_indices = [idx for idx, sim in enumerate(similarities) if sim >= threshold]\n",
    "        company_names = ', '.join(a_share_df['name'][company_indices])\n",
    "        filtered_companies.append(company_names)\n",
    "\n",
    "    filtered_news_count = len([comp for comp in filtered_companies if comp != ''])\n",
    "    total_news_count = len(news_embeddings)\n",
    "    filter_rate = filtered_news_count / total_news_count if total_news_count > 0 else 0\n",
    "\n",
    "    return filtered_companies, filter_rate\n",
    "\n",
    "filtered_companies1, filter_rate1 = filter_news_by_rescaled_similarity(news_embeddings, a_share_embeddings, a_share_df, threshold=0.68)\n",
    "print(filter_rate1)\n",
    "\n",
    "news_data_cos_bert=news_data2\n",
    "news_data_cos_bert['Explicit_Company'] = filtered_companies1\n",
    "news_data_cos_bert = news_data_cos_bert[[ 'NewsContent', 'Explicit_Company']]\n",
    "news_data_cos_bert.head(5)"
   ]
  },
  {
   "cell_type": "code",
   "execution_count": 41,
   "id": "5e3185d5b67c3c7e",
   "metadata": {
    "ExecuteTime": {
     "end_time": "2023-12-01T05:49:47.289657400Z",
     "start_time": "2023-12-01T05:49:47.245661200Z"
    }
   },
   "outputs": [
    {
     "data": {
      "text/html": [
       "<div>\n",
       "<style scoped>\n",
       "    .dataframe tbody tr th:only-of-type {\n",
       "        vertical-align: middle;\n",
       "    }\n",
       "\n",
       "    .dataframe tbody tr th {\n",
       "        vertical-align: top;\n",
       "    }\n",
       "\n",
       "    .dataframe thead th {\n",
       "        text-align: right;\n",
       "    }\n",
       "</style>\n",
       "<table border=\"1\" class=\"dataframe\">\n",
       "  <thead>\n",
       "    <tr style=\"text-align: right;\">\n",
       "      <th></th>\n",
       "      <th>NewsContent</th>\n",
       "      <th>Explicit_Company</th>\n",
       "    </tr>\n",
       "  </thead>\n",
       "  <tbody>\n",
       "    <tr>\n",
       "      <th>0</th>\n",
       "      <td>本报记者 田雨 李京华    　　中国建设银行股份有限公司原董事长张恩照受贿案３日一审宣判，...</td>\n",
       "      <td></td>\n",
       "    </tr>\n",
       "    <tr>\n",
       "      <th>1</th>\n",
       "      <td>中国农业银行信用卡中心由北京搬到上海了！  　　农行行长杨明生日前在信用卡中心揭牌仪式上表示...</td>\n",
       "      <td></td>\n",
       "    </tr>\n",
       "    <tr>\n",
       "      <th>2</th>\n",
       "      <td>在新基金快速发行以及申购资金回流的情况下，市场总体上呈现资金流动性过剩格局，考虑到现阶段权重...</td>\n",
       "      <td></td>\n",
       "    </tr>\n",
       "    <tr>\n",
       "      <th>3</th>\n",
       "      <td>胜利股份（000407）公司子公司填海造地2800亩，以青岛的地价估算，静态价值在10亿元左...</td>\n",
       "      <td></td>\n",
       "    </tr>\n",
       "    <tr>\n",
       "      <th>4</th>\n",
       "      <td>全景网11月30日讯 外围股市造好，带动港股今早造好，恒指高开后反覆上升，最高升252点，曾...</td>\n",
       "      <td></td>\n",
       "    </tr>\n",
       "    <tr>\n",
       "      <th>...</th>\n",
       "      <td>...</td>\n",
       "      <td>...</td>\n",
       "    </tr>\n",
       "    <tr>\n",
       "      <th>1150</th>\n",
       "      <td>本报讯 先锋股份(600246)称，近日，公司董事会接到控股股东北京万通星河实业有限公司通知...</td>\n",
       "      <td>亚康股份, 卓锦股份, 科汇股份, 财达证券, 致远新能, 晓鸣股份, 恒帅股份, 海天股份...</td>\n",
       "    </tr>\n",
       "    <tr>\n",
       "      <th>1151</th>\n",
       "      <td>本报讯 S乐电(600644)称，公司于近日接到乐山市物价局有关批复文件，居民生活用电实行阶...</td>\n",
       "      <td></td>\n",
       "    </tr>\n",
       "    <tr>\n",
       "      <th>1152</th>\n",
       "      <td>纽约证券交易所日前向美国证券交易监督委员会（SEC）递交申请，请求立即取消美国及非美国公司从...</td>\n",
       "      <td></td>\n",
       "    </tr>\n",
       "    <tr>\n",
       "      <th>1153</th>\n",
       "      <td>本报讯  雪莱特（002076）今日披露称，该公司于2006年12月4日与丹阳市光点汽车灯具...</td>\n",
       "      <td>开勒股份, 卓锦股份, 金沃股份, 迈拓股份, 晓鸣股份, 迎丰股份, 中辰股份, 中伟股份...</td>\n",
       "    </tr>\n",
       "    <tr>\n",
       "      <th>1154</th>\n",
       "      <td>盘中沪综指逼近2200点、深成指突破6000点     　　本报记者 徐海洋 北京报道　　 ...</td>\n",
       "      <td></td>\n",
       "    </tr>\n",
       "  </tbody>\n",
       "</table>\n",
       "<p>1155 rows × 2 columns</p>\n",
       "</div>"
      ],
      "text/plain": [
       "                                            NewsContent  \\\n",
       "0     本报记者 田雨 李京华    　　中国建设银行股份有限公司原董事长张恩照受贿案３日一审宣判，...   \n",
       "1     中国农业银行信用卡中心由北京搬到上海了！  　　农行行长杨明生日前在信用卡中心揭牌仪式上表示...   \n",
       "2     在新基金快速发行以及申购资金回流的情况下，市场总体上呈现资金流动性过剩格局，考虑到现阶段权重...   \n",
       "3     胜利股份（000407）公司子公司填海造地2800亩，以青岛的地价估算，静态价值在10亿元左...   \n",
       "4     全景网11月30日讯 外围股市造好，带动港股今早造好，恒指高开后反覆上升，最高升252点，曾...   \n",
       "...                                                 ...   \n",
       "1150  本报讯 先锋股份(600246)称，近日，公司董事会接到控股股东北京万通星河实业有限公司通知...   \n",
       "1151  本报讯 S乐电(600644)称，公司于近日接到乐山市物价局有关批复文件，居民生活用电实行阶...   \n",
       "1152  纽约证券交易所日前向美国证券交易监督委员会（SEC）递交申请，请求立即取消美国及非美国公司从...   \n",
       "1153  本报讯  雪莱特（002076）今日披露称，该公司于2006年12月4日与丹阳市光点汽车灯具...   \n",
       "1154  盘中沪综指逼近2200点、深成指突破6000点     　　本报记者 徐海洋 北京报道　　 ...   \n",
       "\n",
       "                                       Explicit_Company  \n",
       "0                                                        \n",
       "1                                                        \n",
       "2                                                        \n",
       "3                                                        \n",
       "4                                                        \n",
       "...                                                 ...  \n",
       "1150  亚康股份, 卓锦股份, 科汇股份, 财达证券, 致远新能, 晓鸣股份, 恒帅股份, 海天股份...  \n",
       "1151                                                     \n",
       "1152                                                     \n",
       "1153  开勒股份, 卓锦股份, 金沃股份, 迈拓股份, 晓鸣股份, 迎丰股份, 中辰股份, 中伟股份...  \n",
       "1154                                                     \n",
       "\n",
       "[1155 rows x 2 columns]"
      ]
     },
     "execution_count": 41,
     "metadata": {},
     "output_type": "execute_result"
    }
   ],
   "source": [
    "news_data_cos_bert.head(1155)"
   ]
  },
  {
   "cell_type": "markdown",
   "id": "a56d4627a3f3d049",
   "metadata": {},
   "source": [
    "The filter rate is based on the threshold, but no matter how I adjust the threshold, the company name checked out is not correct"
   ]
  },
  {
   "cell_type": "markdown",
   "id": "58f12e3bd4133174",
   "metadata": {},
   "source": [
    "tf-idf + cos"
   ]
  },
  {
   "cell_type": "code",
   "execution_count": 52,
   "id": "487b57b945e78dff",
   "metadata": {
    "ExecuteTime": {
     "end_time": "2023-12-01T05:56:45.659575600Z",
     "start_time": "2023-12-01T05:56:41.021423400Z"
    }
   },
   "outputs": [
    {
     "name": "stdout",
     "output_type": "stream",
     "text": [
      "0.0708\n"
     ]
    }
   ],
   "source": [
    "news_embeddings =news_embeddings_tf\n",
    "a_share_embeddings =a_share_embeddings_tf\n",
    "news_embeddings = [emb.squeeze() for emb in news_embeddings]  \n",
    "a_share_embeddings = [emb.squeeze() for emb in a_share_embeddings]  \n",
    "import numpy as np\n",
    "\n",
    "def rescale_cosine_similarities(cosine_similarities):\n",
    "\n",
    "    min_sim = np.min(cosine_similarities)\n",
    "    max_sim = np.max(cosine_similarities)\n",
    "    return (cosine_similarities - min_sim) / (max_sim - min_sim)\n",
    "\n",
    "def filter_news_by_rescaled_similarity(news_embeddings, a_share_embeddings, a_share_df, threshold):\n",
    "\n",
    "    cosine_similarities = cosine_similarity(news_embeddings, a_share_embeddings)\n",
    "\n",
    "    rescaled_similarities = rescale_cosine_similarities(cosine_similarities)\n",
    "\n",
    "    filtered_companies = []\n",
    "    for similarities in rescaled_similarities:\n",
    "        company_indices = [idx for idx, sim in enumerate(similarities) if sim >= threshold]\n",
    "        company_names = ', '.join(a_share_df['name'][company_indices])\n",
    "        filtered_companies.append(company_names)\n",
    "\n",
    "    filtered_news_count = len([comp for comp in filtered_companies if comp != ''])\n",
    "    total_news_count = len(news_embeddings)\n",
    "    filter_rate = filtered_news_count / total_news_count if total_news_count > 0 else 0\n",
    "\n",
    "    return filtered_companies, filter_rate\n",
    "\n",
    "filtered_companies2, filter_rate2 = filter_news_by_rescaled_similarity(news_embeddings, a_share_embeddings, a_share_df, threshold=0.000000001)\n",
    "print(filter_rate2)\n",
    "\n",
    "news_data_cos_tf=news_data2\n",
    "news_data_cos_tf['Explicit_Company'] = filtered_companies2\n",
    "\n",
    "news_data_cos_tf=news_data_cos_tf[[ 'NewsContent', 'Explicit_Company']]\n"
   ]
  },
  {
   "cell_type": "code",
   "execution_count": 53,
   "id": "de93dcdf2bb32ac2",
   "metadata": {
    "ExecuteTime": {
     "end_time": "2023-12-01T05:56:50.325617Z",
     "start_time": "2023-12-01T05:56:50.308618100Z"
    }
   },
   "outputs": [
    {
     "data": {
      "text/html": [
       "<div>\n",
       "<style scoped>\n",
       "    .dataframe tbody tr th:only-of-type {\n",
       "        vertical-align: middle;\n",
       "    }\n",
       "\n",
       "    .dataframe tbody tr th {\n",
       "        vertical-align: top;\n",
       "    }\n",
       "\n",
       "    .dataframe thead th {\n",
       "        text-align: right;\n",
       "    }\n",
       "</style>\n",
       "<table border=\"1\" class=\"dataframe\">\n",
       "  <thead>\n",
       "    <tr style=\"text-align: right;\">\n",
       "      <th></th>\n",
       "      <th>NewsContent</th>\n",
       "      <th>Explicit_Company</th>\n",
       "    </tr>\n",
       "  </thead>\n",
       "  <tbody>\n",
       "    <tr>\n",
       "      <th>0</th>\n",
       "      <td>本报记者 田雨 李京华    　　中国建设银行股份有限公司原董事长张恩照受贿案３日一审宣判，...</td>\n",
       "      <td></td>\n",
       "    </tr>\n",
       "    <tr>\n",
       "      <th>1</th>\n",
       "      <td>中国农业银行信用卡中心由北京搬到上海了！  　　农行行长杨明生日前在信用卡中心揭牌仪式上表示...</td>\n",
       "      <td></td>\n",
       "    </tr>\n",
       "    <tr>\n",
       "      <th>2</th>\n",
       "      <td>在新基金快速发行以及申购资金回流的情况下，市场总体上呈现资金流动性过剩格局，考虑到现阶段权重...</td>\n",
       "      <td></td>\n",
       "    </tr>\n",
       "    <tr>\n",
       "      <th>3</th>\n",
       "      <td>胜利股份（000407）公司子公司填海造地2800亩，以青岛的地价估算，静态价值在10亿元左...</td>\n",
       "      <td></td>\n",
       "    </tr>\n",
       "    <tr>\n",
       "      <th>4</th>\n",
       "      <td>全景网11月30日讯 外围股市造好，带动港股今早造好，恒指高开后反覆上升，最高升252点，曾...</td>\n",
       "      <td></td>\n",
       "    </tr>\n",
       "    <tr>\n",
       "      <th>...</th>\n",
       "      <td>...</td>\n",
       "      <td>...</td>\n",
       "    </tr>\n",
       "    <tr>\n",
       "      <th>1110</th>\n",
       "      <td>本周，惠誉评级将中国工商银行的个体评级从“D/E”上调至“D”。该次评级上调是在工行完成21...</td>\n",
       "      <td></td>\n",
       "    </tr>\n",
       "    <tr>\n",
       "      <th>1111</th>\n",
       "      <td>天威保变(600550.SH) 今日公告称，其为宝硕股份（600155.SH）提供的7000...</td>\n",
       "      <td></td>\n",
       "    </tr>\n",
       "    <tr>\n",
       "      <th>1112</th>\n",
       "      <td>沪指在站上2100点之后，昨日步伐稍显蹒跚。  　　昨日，上证指数在2167.36点高开之后...</td>\n",
       "      <td>招商银行, 工商银行</td>\n",
       "    </tr>\n",
       "    <tr>\n",
       "      <th>1113</th>\n",
       "      <td>匡志勇    　　白云机场 （600004.SH）今日宣布将用定向增发方式以20.3亿元价格...</td>\n",
       "      <td></td>\n",
       "    </tr>\n",
       "    <tr>\n",
       "      <th>1114</th>\n",
       "      <td>基金经理：陈实；报告日期：2006年12月5日；第1251期；起始日：2000年1月19日；...</td>\n",
       "      <td></td>\n",
       "    </tr>\n",
       "  </tbody>\n",
       "</table>\n",
       "<p>1115 rows × 2 columns</p>\n",
       "</div>"
      ],
      "text/plain": [
       "                                            NewsContent Explicit_Company\n",
       "0     本报记者 田雨 李京华    　　中国建设银行股份有限公司原董事长张恩照受贿案３日一审宣判，...                 \n",
       "1     中国农业银行信用卡中心由北京搬到上海了！  　　农行行长杨明生日前在信用卡中心揭牌仪式上表示...                 \n",
       "2     在新基金快速发行以及申购资金回流的情况下，市场总体上呈现资金流动性过剩格局，考虑到现阶段权重...                 \n",
       "3     胜利股份（000407）公司子公司填海造地2800亩，以青岛的地价估算，静态价值在10亿元左...                 \n",
       "4     全景网11月30日讯 外围股市造好，带动港股今早造好，恒指高开后反覆上升，最高升252点，曾...                 \n",
       "...                                                 ...              ...\n",
       "1110  本周，惠誉评级将中国工商银行的个体评级从“D/E”上调至“D”。该次评级上调是在工行完成21...                 \n",
       "1111  天威保变(600550.SH) 今日公告称，其为宝硕股份（600155.SH）提供的7000...                 \n",
       "1112  沪指在站上2100点之后，昨日步伐稍显蹒跚。  　　昨日，上证指数在2167.36点高开之后...       招商银行, 工商银行\n",
       "1113  匡志勇    　　白云机场 （600004.SH）今日宣布将用定向增发方式以20.3亿元价格...                 \n",
       "1114  基金经理：陈实；报告日期：2006年12月5日；第1251期；起始日：2000年1月19日；...                 \n",
       "\n",
       "[1115 rows x 2 columns]"
      ]
     },
     "execution_count": 53,
     "metadata": {},
     "output_type": "execute_result"
    }
   ],
   "source": [
    "news_data_cos_tf.head(1115)"
   ]
  },
  {
   "cell_type": "markdown",
   "id": "740c9e16ba39e38c",
   "metadata": {},
   "source": [
    "Although the correct rate of the company name is much higher than bert, the filter rate is too low, so this algorithm is also abandoned"
   ]
  },
  {
   "cell_type": "markdown",
   "id": "f9dc3af2ac85f30f",
   "metadata": {},
   "source": [
    "w2v + cos"
   ]
  },
  {
   "cell_type": "code",
   "execution_count": 70,
   "id": "c4e6247c314996b1",
   "metadata": {
    "ExecuteTime": {
     "end_time": "2023-12-01T06:04:25.016713100Z",
     "start_time": "2023-12-01T06:04:19.772698900Z"
    }
   },
   "outputs": [
    {
     "name": "stdout",
     "output_type": "stream",
     "text": [
      "0.4822\n"
     ]
    },
    {
     "data": {
      "text/html": [
       "<div>\n",
       "<style scoped>\n",
       "    .dataframe tbody tr th:only-of-type {\n",
       "        vertical-align: middle;\n",
       "    }\n",
       "\n",
       "    .dataframe tbody tr th {\n",
       "        vertical-align: top;\n",
       "    }\n",
       "\n",
       "    .dataframe thead th {\n",
       "        text-align: right;\n",
       "    }\n",
       "</style>\n",
       "<table border=\"1\" class=\"dataframe\">\n",
       "  <thead>\n",
       "    <tr style=\"text-align: right;\">\n",
       "      <th></th>\n",
       "      <th>NewsContent</th>\n",
       "      <th>Explicit_Company</th>\n",
       "    </tr>\n",
       "  </thead>\n",
       "  <tbody>\n",
       "    <tr>\n",
       "      <th>0</th>\n",
       "      <td>本报记者 田雨 李京华    　　中国建设银行股份有限公司原董事长张恩照受贿案３日一审宣判，...</td>\n",
       "      <td></td>\n",
       "    </tr>\n",
       "    <tr>\n",
       "      <th>1</th>\n",
       "      <td>中国农业银行信用卡中心由北京搬到上海了！  　　农行行长杨明生日前在信用卡中心揭牌仪式上表示...</td>\n",
       "      <td></td>\n",
       "    </tr>\n",
       "    <tr>\n",
       "      <th>2</th>\n",
       "      <td>在新基金快速发行以及申购资金回流的情况下，市场总体上呈现资金流动性过剩格局，考虑到现阶段权重...</td>\n",
       "      <td>正和生态, 呈和科技, 同有科技</td>\n",
       "    </tr>\n",
       "    <tr>\n",
       "      <th>3</th>\n",
       "      <td>胜利股份（000407）公司子公司填海造地2800亩，以青岛的地价估算，静态价值在10亿元左...</td>\n",
       "      <td>正和生态, 呈和科技, 中体产业</td>\n",
       "    </tr>\n",
       "    <tr>\n",
       "      <th>4</th>\n",
       "      <td>全景网11月30日讯 外围股市造好，带动港股今早造好，恒指高开后反覆上升，最高升252点，曾...</td>\n",
       "      <td></td>\n",
       "    </tr>\n",
       "  </tbody>\n",
       "</table>\n",
       "</div>"
      ],
      "text/plain": [
       "                                         NewsContent  Explicit_Company\n",
       "0  本报记者 田雨 李京华    　　中国建设银行股份有限公司原董事长张恩照受贿案３日一审宣判，...                  \n",
       "1  中国农业银行信用卡中心由北京搬到上海了！  　　农行行长杨明生日前在信用卡中心揭牌仪式上表示...                  \n",
       "2  在新基金快速发行以及申购资金回流的情况下，市场总体上呈现资金流动性过剩格局，考虑到现阶段权重...  正和生态, 呈和科技, 同有科技\n",
       "3  胜利股份（000407）公司子公司填海造地2800亩，以青岛的地价估算，静态价值在10亿元左...  正和生态, 呈和科技, 中体产业\n",
       "4  全景网11月30日讯 外围股市造好，带动港股今早造好，恒指高开后反覆上升，最高升252点，曾...                  "
      ]
     },
     "execution_count": 70,
     "metadata": {},
     "output_type": "execute_result"
    }
   ],
   "source": [
    "news_embeddings =news_embeddings_w2v\n",
    "a_share_embeddings =a_share_embeddings_w2v\n",
    "\n",
    "\n",
    "def rescale_cosine_similarities(cosine_similarities):\n",
    "\n",
    "    min_sim = np.min(cosine_similarities)\n",
    "    max_sim = np.max(cosine_similarities)\n",
    "    return (cosine_similarities - min_sim) / (max_sim - min_sim)\n",
    "\n",
    "def filter_news_by_rescaled_similarity(news_embeddings, a_share_embeddings, a_share_df, threshold):\n",
    "\n",
    "    cosine_similarities = cosine_similarity(news_embeddings, a_share_embeddings)\n",
    "\n",
    "    rescaled_similarities = rescale_cosine_similarities(cosine_similarities)\n",
    "\n",
    "\n",
    "    filtered_companies = []\n",
    "    for similarities in rescaled_similarities:\n",
    "        company_indices = [idx for idx, sim in enumerate(similarities) if sim >= threshold]\n",
    "        company_names = ', '.join(a_share_df['name'][company_indices])\n",
    "        filtered_companies.append(company_names)\n",
    "\n",
    "\n",
    "    filtered_news_count = len([comp for comp in filtered_companies if comp != ''])\n",
    "    total_news_count = len(news_embeddings)\n",
    "    filter_rate = filtered_news_count / total_news_count if total_news_count > 0 else 0\n",
    "\n",
    "    return filtered_companies, filter_rate\n",
    "\n",
    "\n",
    "filtered_companies3, filter_rate3 = filter_news_by_rescaled_similarity(news_embeddings, a_share_embeddings, a_share_df, threshold=0.81)\n",
    "print(filter_rate3)\n",
    "\n",
    "news_data_cos_w2v=news_data2\n",
    "news_data_cos_w2v['Explicit_Company'] = filtered_companies3\n",
    "\n",
    "news_data_cos_w2v=news_data_cos_w2v[[ 'NewsContent', 'Explicit_Company']]\n",
    "news_data_cos_w2v.head(5)"
   ]
  },
  {
   "cell_type": "markdown",
   "id": "5111e1bb54a5cf91",
   "metadata": {},
   "source": [
    "w2v is also not available"
   ]
  },
  {
   "cell_type": "markdown",
   "id": "40b8cba66937d044",
   "metadata": {},
   "source": [
    "jaccard_similarity + bert"
   ]
  },
  {
   "cell_type": "code",
   "execution_count": 72,
   "id": "e05d1f4ffcc09215",
   "metadata": {
    "ExecuteTime": {
     "end_time": "2023-12-01T06:05:19.111898500Z",
     "start_time": "2023-12-01T06:05:10.596389600Z"
    }
   },
   "outputs": [
    {
     "name": "stderr",
     "output_type": "stream",
     "text": [
      "D:\\Anaconda3\\envs\\pytorch\\lib\\site-packages\\sklearn\\metrics\\pairwise.py:2182: DataConversionWarning: Data was converted to boolean for metric jaccard\n",
      "  warnings.warn(msg, DataConversionWarning)\n"
     ]
    },
    {
     "name": "stdout",
     "output_type": "stream",
     "text": [
      "0.4813\n"
     ]
    },
    {
     "data": {
      "text/html": [
       "<div>\n",
       "<style scoped>\n",
       "    .dataframe tbody tr th:only-of-type {\n",
       "        vertical-align: middle;\n",
       "    }\n",
       "\n",
       "    .dataframe tbody tr th {\n",
       "        vertical-align: top;\n",
       "    }\n",
       "\n",
       "    .dataframe thead th {\n",
       "        text-align: right;\n",
       "    }\n",
       "</style>\n",
       "<table border=\"1\" class=\"dataframe\">\n",
       "  <thead>\n",
       "    <tr style=\"text-align: right;\">\n",
       "      <th></th>\n",
       "      <th>NewsContent</th>\n",
       "      <th>Explicit_Company</th>\n",
       "    </tr>\n",
       "  </thead>\n",
       "  <tbody>\n",
       "    <tr>\n",
       "      <th>0</th>\n",
       "      <td>本报记者 田雨 李京华    　　中国建设银行股份有限公司原董事长张恩照受贿案３日一审宣判，...</td>\n",
       "      <td></td>\n",
       "    </tr>\n",
       "    <tr>\n",
       "      <th>1</th>\n",
       "      <td>中国农业银行信用卡中心由北京搬到上海了！  　　农行行长杨明生日前在信用卡中心揭牌仪式上表示...</td>\n",
       "      <td></td>\n",
       "    </tr>\n",
       "    <tr>\n",
       "      <th>2</th>\n",
       "      <td>在新基金快速发行以及申购资金回流的情况下，市场总体上呈现资金流动性过剩格局，考虑到现阶段权重...</td>\n",
       "      <td>呈和科技</td>\n",
       "    </tr>\n",
       "    <tr>\n",
       "      <th>3</th>\n",
       "      <td>胜利股份（000407）公司子公司填海造地2800亩，以青岛的地价估算，静态价值在10亿元左...</td>\n",
       "      <td>和达科技</td>\n",
       "    </tr>\n",
       "    <tr>\n",
       "      <th>4</th>\n",
       "      <td>全景网11月30日讯 外围股市造好，带动港股今早造好，恒指高开后反覆上升，最高升252点，曾...</td>\n",
       "      <td></td>\n",
       "    </tr>\n",
       "  </tbody>\n",
       "</table>\n",
       "</div>"
      ],
      "text/plain": [
       "                                         NewsContent Explicit_Company\n",
       "0  本报记者 田雨 李京华    　　中国建设银行股份有限公司原董事长张恩照受贿案３日一审宣判，...                 \n",
       "1  中国农业银行信用卡中心由北京搬到上海了！  　　农行行长杨明生日前在信用卡中心揭牌仪式上表示...                 \n",
       "2  在新基金快速发行以及申购资金回流的情况下，市场总体上呈现资金流动性过剩格局，考虑到现阶段权重...             呈和科技\n",
       "3  胜利股份（000407）公司子公司填海造地2800亩，以青岛的地价估算，静态价值在10亿元左...             和达科技\n",
       "4  全景网11月30日讯 外围股市造好，带动港股今早造好，恒指高开后反覆上升，最高升252点，曾...                 "
      ]
     },
     "execution_count": 72,
     "metadata": {},
     "output_type": "execute_result"
    }
   ],
   "source": [
    "from sklearn.metrics import pairwise_distances\n",
    "\n",
    "def calculate_jaccard_similarity(embeddings1, embeddings2):\n",
    "\n",
    "    embeddings1_array = np.array(embeddings1)\n",
    "    embeddings2_array = np.array(embeddings2)\n",
    "\n",
    "    embeddings1_binarized = np.where(embeddings1_array > 0, 1, 0)\n",
    "    embeddings2_binarized = np.where(embeddings2_array > 0, 1, 0)\n",
    "\n",
    "    jaccard_distances = pairwise_distances(embeddings1_binarized, embeddings2_binarized, metric='jaccard')\n",
    "    jaccard_similarities = 1 - jaccard_distances\n",
    "\n",
    "    return jaccard_similarities\n",
    "\n",
    "\n",
    "# jaccard_similarity\n",
    "\n",
    "def filter_news_by_rescaled_similarity(news_embeddings, a_share_embeddings, a_share_df, threshold):\n",
    "\n",
    "    jaccard_similarities = calculate_jaccard_similarity(news_embeddings, a_share_embeddings)\n",
    "\n",
    "\n",
    "    filtered_companies = []\n",
    "    for similarities in jaccard_similarities:\n",
    "        company_indices = [idx for idx, sim in enumerate(similarities) if sim >= threshold]\n",
    "        company_names = ', '.join(a_share_df['name'][company_indices])\n",
    "        filtered_companies.append(company_names)\n",
    "\n",
    "    # 计算过滤比率\n",
    "    filtered_news_count = len([comp for comp in filtered_companies if comp != ''])\n",
    "    total_news_count = len(news_embeddings)\n",
    "    filter_rate = filtered_news_count / total_news_count if total_news_count > 0 else 0\n",
    "\n",
    "    return filtered_companies, filter_rate\n",
    "\n",
    "filtered_companies4, filter_rate4 = filter_news_by_rescaled_similarity(news_embeddings, a_share_embeddings, a_share_df, threshold=0.635)\n",
    "print(filter_rate4)\n",
    "\n",
    "news_data_jard_bert=news_data2\n",
    "news_data_jard_bert['Explicit_Company'] = filtered_companies4\n",
    "\n",
    "news_data_jard_bert=news_data_jard_bert[[ 'NewsContent', 'Explicit_Company']]\n",
    "news_data_jard_bert.head(5)"
   ]
  },
  {
   "cell_type": "markdown",
   "id": "e010df0804913e7c",
   "metadata": {},
   "source": [
    "According to the above results, we can see that the method based on text vectorization and similarity calculation is not very good, so we choose another method"
   ]
  },
  {
   "cell_type": "markdown",
   "id": "bad26f86248c7817",
   "metadata": {},
   "source": [
    "## Method based on Named Entity Recognition（Selected）"
   ]
  },
  {
   "cell_type": "markdown",
   "id": "9d41ddbb115afefa",
   "metadata": {},
   "source": [
    "1. Use NER to detect text\n",
    "2. extract entities(org)\n",
    "3. using"
   ]
  },
  {
   "cell_type": "markdown",
   "id": "c1df38b3edb4e0f2",
   "metadata": {},
   "source": [
    "just use bert-base-chinese"
   ]
  },
  {
   "cell_type": "code",
   "execution_count": 20,
   "id": "a4b80541acaf8eb8",
   "metadata": {
    "ExecuteTime": {
     "end_time": "2023-12-01T03:59:26.505717400Z",
     "start_time": "2023-12-01T03:59:26.495430600Z"
    }
   },
   "outputs": [],
   "source": [
    "news_data = news_data.iloc[:30]"
   ]
  },
  {
   "cell_type": "code",
   "execution_count": 21,
   "id": "c8ff78a2a7de197c",
   "metadata": {
    "ExecuteTime": {
     "end_time": "2023-12-01T03:59:29.514789600Z",
     "start_time": "2023-12-01T03:59:26.502095300Z"
    }
   },
   "outputs": [
    {
     "name": "stderr",
     "output_type": "stream",
     "text": [
      "Some weights of BertForTokenClassification were not initialized from the model checkpoint at bert-base-chinese and are newly initialized: ['classifier.weight', 'classifier.bias']\n",
      "You should probably TRAIN this model on a down-stream task to be able to use it for predictions and inference.\n",
      "D:\\Anaconda3\\envs\\pytorch\\lib\\site-packages\\transformers\\pipelines\\base.py:1101: UserWarning: You seem to be using the pipelines sequentially on GPU. In order to maximize efficiency please use a dataset\n",
      "  warnings.warn(\n"
     ]
    },
    {
     "name": "stdout",
     "output_type": "stream",
     "text": [
      "news 0 entities: (本, LABEL_1), (报, LABEL_1), (记, LABEL_1), (者, LABEL_1), (田, LABEL_1), (雨, LABEL_1), (李, LABEL_1), (京, LABEL_1), (华, LABEL_1), (中, LABEL_1), (国, LABEL_1), (银, LABEL_1), (行, LABEL_1), (股, LABEL_1), (份, LABEL_1), (有, LABEL_1), (限, LABEL_1), (公, LABEL_1), (董, LABEL_1), (事, LABEL_1), (张, LABEL_1), (恩, LABEL_1), (受, LABEL_1), (贿, LABEL_1), (３, LABEL_1), (日, LABEL_1), (一, LABEL_1), (，, LABEL_1), (北, LABEL_1), (京, LABEL_1), (市, LABEL_1), (第, LABEL_1), (一, LABEL_1), (中, LABEL_1), (级, LABEL_1), (人, LABEL_1), (民, LABEL_1), (法, LABEL_1), (院, LABEL_1), (以, LABEL_1), (受, LABEL_1), (贿, LABEL_1), (张, LABEL_1), (恩, LABEL_1), (照, LABEL_1), (有, LABEL_1), (期, LABEL_1), (刑, LABEL_1), (１５, LABEL_1), (年, LABEL_1), (。, LABEL_1), (法, LABEL_1), (院, LABEL_1), (经, LABEL_1), (开, LABEL_1), (，, LABEL_1), (２０, LABEL_1), (##００, LABEL_1), (年, LABEL_1), (至, LABEL_1), (２０, LABEL_1), (##０, LABEL_1), (##４, LABEL_1), (年, LABEL_1), (期, LABEL_1), (间, LABEL_1), (，, LABEL_1), (被, LABEL_1), (告, LABEL_1), (人, LABEL_1), (张, LABEL_1), (恩, LABEL_1), (照, LABEL_1), (利, LABEL_1), (用, LABEL_1), (其, LABEL_1), (担, LABEL_1), (任, LABEL_1), (原, LABEL_1), (中, LABEL_1), (国, LABEL_1), (建, LABEL_1), (设, LABEL_1), (银, LABEL_1), (行, LABEL_1), (行, LABEL_1), (长, LABEL_1), (、, LABEL_1), (行, LABEL_1), (长, LABEL_1), (，, LABEL_1), (中, LABEL_1), (国, LABEL_1), (建, LABEL_1), (设, LABEL_1), (银, LABEL_1), (行, LABEL_1), (股, LABEL_1), (份, LABEL_1), (有, LABEL_1), (公, LABEL_1), (董, LABEL_1), (事, LABEL_1), (的, LABEL_1), (职, LABEL_1), (务, LABEL_1), (便, LABEL_1), (，, LABEL_1), (为, LABEL_1), (他, LABEL_1), (人, LABEL_1), (牟, LABEL_1), (取, LABEL_1), (利, LABEL_1), (益, LABEL_1), (，, LABEL_1), (多, LABEL_1), (非, LABEL_1), (法, LABEL_1), (收, LABEL_1), (受, LABEL_1), (他, LABEL_1), (给, LABEL_1), (予, LABEL_1), (的, LABEL_1), (款, LABEL_1), (人, LABEL_1), (民, LABEL_1), (４, LABEL_1), (##００, LABEL_1), (元, LABEL_1), (。, LABEL_1), (，, LABEL_1), (赃, LABEL_1), (赃, LABEL_1), (。, LABEL_1), (法, LABEL_1), (院, LABEL_1), (，, LABEL_1), (被, LABEL_1), (告, LABEL_1), (人, LABEL_1), (张, LABEL_1), (恩, LABEL_1), (照, LABEL_1), (身, LABEL_1), (为, LABEL_1), (国, LABEL_1), (家, LABEL_1), (工, LABEL_1), (作, LABEL_1), (人, LABEL_1), (员, LABEL_1), (，, LABEL_1), (利, LABEL_1), (用, LABEL_1), (职, LABEL_1), (务, LABEL_1), (上, LABEL_1), (的, LABEL_1), (便, LABEL_1), (，, LABEL_1), (为, LABEL_1), (他, LABEL_1), (人, LABEL_1), (谋, LABEL_1), (取, LABEL_1), (利, LABEL_1), (益, LABEL_1), (，, LABEL_1), (非, LABEL_1), (法, LABEL_1), (收, LABEL_1), (受, LABEL_1), (他, LABEL_1), (人, LABEL_1), (财, LABEL_1), (，, LABEL_1), (其, LABEL_1), (行, LABEL_1), (为, LABEL_1), (受, LABEL_1), (贿, LABEL_1), (，, LABEL_1), (受, LABEL_1), (贿, LABEL_1), (数, LABEL_1), (额, LABEL_1), (特, LABEL_1), (别, LABEL_1), (。, LABEL_1), (鉴, LABEL_1), (于, LABEL_1), (张, LABEL_1), (恩, LABEL_1), (照, LABEL_1), (因, LABEL_1), (被, LABEL_1), (，, LABEL_1), (主, LABEL_1), (动, LABEL_1), (交, LABEL_1), (了, LABEL_1), (有, LABEL_1), (关, LABEL_1), (部, LABEL_1), (门, LABEL_1), (不, LABEL_1), (掌, LABEL_1), (握, LABEL_1), (的, LABEL_1), (本, LABEL_1), (受, LABEL_1), (贿, LABEL_1), (，, LABEL_1), (于, LABEL_1), (首, LABEL_1), (，, LABEL_1), (且, LABEL_1), (赃, LABEL_1), (对, LABEL_1), (张, LABEL_1), (恩, LABEL_1), (照, LABEL_1), (从, LABEL_1), (。, LABEL_1), (法, LABEL_1), (以, LABEL_1), (受, LABEL_1), (贿, LABEL_1), (张, LABEL_1), (恩, LABEL_1), (照, LABEL_1), (有, LABEL_1), (期, LABEL_1), (刑, LABEL_1), (１５, LABEL_1), (年, LABEL_1), (。, LABEL_1)\n",
      "news 1 entities: (中, LABEL_1), (国, LABEL_1), (农, LABEL_1), (银, LABEL_1), (行, LABEL_1), (信, LABEL_1), (用, LABEL_1), (卡, LABEL_1), (中, LABEL_1), (心, LABEL_1), (由, LABEL_1), (北, LABEL_1), (京, LABEL_1), (搬, LABEL_1), (到, LABEL_1), (上, LABEL_1), (海, LABEL_1), (了, LABEL_1), (！, LABEL_1), (农, LABEL_1), (行, LABEL_1), (行, LABEL_1), (长, LABEL_1), (杨, LABEL_1), (明, LABEL_1), (日, LABEL_1), (前, LABEL_1), (在, LABEL_1), (信, LABEL_1), (用, LABEL_1), (卡, LABEL_1), (中, LABEL_1), (心, LABEL_1), (上, LABEL_1), (表, LABEL_1), (示, LABEL_1), (，, LABEL_1), (农, LABEL_1), (行, LABEL_1), (开, LABEL_1), (了, LABEL_1), (信, LABEL_1), (用, LABEL_1), (卡, LABEL_1), (业, LABEL_1), (务, LABEL_1), (的, LABEL_1), (里, LABEL_1), (程, LABEL_1), (，, LABEL_1), (其, LABEL_1), (信, LABEL_1), (用, LABEL_1), (卡, LABEL_1), (中, LABEL_1), (心, LABEL_1), (入, LABEL_1), (一, LABEL_1), (个, LABEL_1), (崭, LABEL_1), (新, LABEL_1), (的, LABEL_1), (发, LABEL_1), (展, LABEL_1), (阶, LABEL_1), (段, LABEL_1), (。, LABEL_1), (杨, LABEL_1), (明, LABEL_1), (生, LABEL_1), (表, LABEL_1), (示, LABEL_1), (，, LABEL_1), (银, LABEL_1), (行, LABEL_1), (卡, LABEL_1), (业, LABEL_1), (务, LABEL_1), (是, LABEL_1), (农, LABEL_1), (行, LABEL_1), (的, LABEL_1), (一, LABEL_1), (项, LABEL_1), (优, LABEL_1), (质, LABEL_1), (资, LABEL_1), (产, LABEL_1), (。, LABEL_1), (目, LABEL_1), (前, LABEL_1), (，, LABEL_1), (农, LABEL_1), (行, LABEL_1), (的, LABEL_1), (卡, LABEL_1), (已, LABEL_1), (经, LABEL_1), (超, LABEL_1), (过, LABEL_1), (２, LABEL_1), (４, LABEL_1), (，, LABEL_1), (农, LABEL_1), (行, LABEL_1), (金, LABEL_1), (穗, LABEL_1), (卡, LABEL_1), (的, LABEL_1), (各, LABEL_1), (保, LABEL_1), (快, LABEL_1), (速, LABEL_1), (增, LABEL_1), (长, LABEL_1), (势, LABEL_1), (头, LABEL_1), (。, LABEL_1), (他, LABEL_1), (说, LABEL_1), (，, LABEL_1), (信, LABEL_1), (卡, LABEL_1), (中, LABEL_1), (心, LABEL_1), (迁, LABEL_1), (沪, LABEL_1), (看, LABEL_1), (中, LABEL_1), (上, LABEL_1), (海, LABEL_1), (际, LABEL_1), (金, LABEL_1), (融, LABEL_1), (心, LABEL_1), (的, LABEL_1), (区, LABEL_1), (位, LABEL_1), (优, LABEL_1), (，, LABEL_1), (已, LABEL_1), (的, LABEL_1), (银, LABEL_1), (行, LABEL_1), (卡, LABEL_1), (产, LABEL_1), (环, LABEL_1), (境, LABEL_1), (及, LABEL_1), (高, LABEL_1), (素, LABEL_1), (质, LABEL_1), (的, LABEL_1), (人, LABEL_1), (才, LABEL_1), (市, LABEL_1), (场, LABEL_1), (。, LABEL_1), (农, LABEL_1), (行, LABEL_1), (信, LABEL_1), (用, LABEL_1), (卡, LABEL_1), (中, LABEL_1), (心, LABEL_1), (２０, LABEL_1), (##０, LABEL_1), (##３, LABEL_1), (年, LABEL_1), (于, LABEL_1), (北, LABEL_1), (京, LABEL_1), (，, LABEL_1), (以, LABEL_1), (金, LABEL_1), (穗, LABEL_1), (卡, LABEL_1), (主, LABEL_1), (营, LABEL_1), (业, LABEL_1), (务, LABEL_1), (，, LABEL_1), (有, LABEL_1), (全, LABEL_1), (行, LABEL_1), (信, LABEL_1), (用, LABEL_1), (卡, LABEL_1), (产, LABEL_1), (中, LABEL_1), (心, LABEL_1), (、, LABEL_1), (中, LABEL_1), (心, LABEL_1), (和, LABEL_1), (客, LABEL_1), (中, LABEL_1), (心, LABEL_1), (的, LABEL_1), (职, LABEL_1), (能, LABEL_1), (。, LABEL_1), (悉, LABEL_1), (，, LABEL_1), (农, LABEL_1), (行, LABEL_1), (信, LABEL_1), (卡, LABEL_1), (中, LABEL_1), (心, LABEL_1), (已, LABEL_1), (完, LABEL_1), (成, LABEL_1), (了, LABEL_1), (所, LABEL_1), (有, LABEL_1), (搬, LABEL_1), (迁, LABEL_1), (工, LABEL_1), (作, LABEL_1), (并, LABEL_1), (进, LABEL_1), (入, LABEL_1), (常, LABEL_1), (。, LABEL_1)\n",
      "news 2 entities: (在, LABEL_1), (快, LABEL_1), (速, LABEL_1), (以, LABEL_1), (及, LABEL_1), (金, LABEL_1), (回, LABEL_1), (流, LABEL_1), (的, LABEL_1), (情, LABEL_1), (况, LABEL_1), (下, LABEL_1), (，, LABEL_1), (市, LABEL_1), (场, LABEL_1), (总, LABEL_1), (上, LABEL_1), (呈, LABEL_1), (金, LABEL_1), (流, LABEL_1), (过, LABEL_1), (格, LABEL_1), (局, LABEL_1), (，, LABEL_1), (考, LABEL_1), (虑, LABEL_1), (阶, LABEL_1), (段, LABEL_1), (重, LABEL_1), (股, LABEL_1), (价, LABEL_1), (高, LABEL_1), (位, LABEL_1), (的, LABEL_1), (，, LABEL_1), (目, LABEL_1), (前, LABEL_1), (主, LABEL_1), (力, LABEL_1), (金, LABEL_1), (主, LABEL_1), (要, LABEL_1), (针, LABEL_1), (低, LABEL_1), (估, LABEL_1), (的, LABEL_1), (开, LABEL_1), (了, LABEL_1), (挖, LABEL_1), (，, LABEL_1), (得, LABEL_1), (近, LABEL_1), (期, LABEL_1), (上, LABEL_1), (轮, LABEL_1), (上, LABEL_1), (涨, LABEL_1), (情, LABEL_1), (，, LABEL_1), (建, LABEL_1), (议, LABEL_1), (投, LABEL_1), (者, LABEL_1), (对, LABEL_1), (品, LABEL_1), (种, LABEL_1), (关, LABEL_1), (，, LABEL_1), (如, LABEL_1), (（, LABEL_1), (##27, LABEL_1), (）, LABEL_1), (外, LABEL_1), (，, LABEL_1), (该, LABEL_1), (股, LABEL_1), (有, LABEL_1), (的, LABEL_1), (力, LABEL_1), (，, LABEL_1), (除, LABEL_1), (口, LABEL_1), (对, LABEL_1), (股, LABEL_1), (有, LABEL_1), (较, LABEL_1), (的, LABEL_1), (，, LABEL_1), (目, LABEL_1), (前, LABEL_1), (涨, LABEL_1), (幅, LABEL_1), (滞, LABEL_1), (，, LABEL_1), (可, LABEL_1), (。, LABEL_1), (外, LABEL_1), (龙, LABEL_1), (头, LABEL_1), (国, LABEL_1), (际, LABEL_1), (市, LABEL_1), (场, LABEL_1), (高, LABEL_1), (占, LABEL_1), (有, LABEL_1), (公, LABEL_1), (司, LABEL_1), (核, LABEL_1), (心, LABEL_1), (务, LABEL_1), (包, LABEL_1), (括, LABEL_1), (航, LABEL_1), (代, LABEL_1), (理, LABEL_1), (、, LABEL_1), (国, LABEL_1), (际, LABEL_1), (快, LABEL_1), (综, LABEL_1), (合, LABEL_1), (物, LABEL_1), (流, LABEL_1), (，, LABEL_1), (在, LABEL_1), (全, LABEL_1), (国, LABEL_1), (拥, LABEL_1), (有, LABEL_1), (35, LABEL_1), (家, LABEL_1), (公, LABEL_1), (司, LABEL_1), (，, LABEL_1), (80, LABEL_1), (个, LABEL_1), (级, LABEL_1), (物, LABEL_1), (流, LABEL_1), (中, LABEL_1), (心, LABEL_1), (近, LABEL_1), (200, LABEL_1), (个, LABEL_1), (流, LABEL_1), (，, LABEL_1), (营, LABEL_1), (络, LABEL_1), (辐, LABEL_1), (全, LABEL_1), (国, LABEL_1), (，, LABEL_1), (同, LABEL_1), (时, LABEL_1), (，, LABEL_1), (在, LABEL_1), (际, LABEL_1), (上, LABEL_1), (与, LABEL_1), (50, LABEL_1), (多, LABEL_1), (家, LABEL_1), (海, LABEL_1), (外, LABEL_1), (代, LABEL_1), (理, LABEL_1), (司, LABEL_1), (有, LABEL_1), (通, LABEL_1), (合, LABEL_1), (作, LABEL_1), (，, LABEL_1), (目, LABEL_1), (前, LABEL_1), (在, LABEL_1), (国, LABEL_1), (际, LABEL_1), (航, LABEL_1), (快, LABEL_1), (领, LABEL_1), (域, LABEL_1), (际, LABEL_1), (代, LABEL_1), (理, LABEL_1), (领, LABEL_1), (域, LABEL_1), (分, LABEL_1), (别, LABEL_1), (拥, LABEL_1), (有, LABEL_1), (约, LABEL_1), (40, LABEL_1), (%, LABEL_1), (和, LABEL_1), (10, LABEL_1), (%, LABEL_1), (的, LABEL_1), (市, LABEL_1), (场, LABEL_1), (占, LABEL_1), (有, LABEL_1), (率, LABEL_1), (，, LABEL_1), (公, LABEL_1), (司, LABEL_1), (力, LABEL_1), (争, LABEL_1), (发, LABEL_1), (展, LABEL_1), (成, LABEL_1), (为, LABEL_1), (有, LABEL_1), (航, LABEL_1), (空, LABEL_1), (保, LABEL_1), (障, LABEL_1), (，, LABEL_1), (又, LABEL_1), (有, LABEL_1), (地, LABEL_1), (面, LABEL_1), (络, LABEL_1), (通, LABEL_1), (道, LABEL_1), (的, LABEL_1), (国, LABEL_1), (内, LABEL_1), (一, LABEL_1), (流, LABEL_1), (的, LABEL_1), (快, LABEL_1), (速, LABEL_1), (物, LABEL_1), (流, LABEL_1), (供, LABEL_1), (应, LABEL_1), (商, LABEL_1), (。, LABEL_1), (主, LABEL_1), (要, LABEL_1), (利, LABEL_1), (润, LABEL_1), (来, LABEL_1), (源, LABEL_1), (是, LABEL_1), (与, LABEL_1), ((, LABEL_1), (国, LABEL_1), (豪, LABEL_1), (), LABEL_1), (资, LABEL_1), (的, LABEL_1), (中, LABEL_1), (外, LABEL_1), (豪, LABEL_1), ((, LABEL_1), (方, LABEL_1), (50, LABEL_1), (%, LABEL_1), (), LABEL_1), (，, LABEL_1), (中, LABEL_1), (外, LABEL_1), (敦, LABEL_1), (豪, LABEL_1), (的, LABEL_1), (规, LABEL_1), (模, LABEL_1), (为, LABEL_1), (，, LABEL_1), (06, LABEL_1), (半, LABEL_1), ((, LABEL_1), (05, LABEL_1), (年, LABEL_1), (04, LABEL_1), (), LABEL_1), (，, LABEL_1), (中, LABEL_1), (外, LABEL_1), (豪, LABEL_1), (是, LABEL_1), (全, LABEL_1), (球, LABEL_1), (络, LABEL_1), (的, LABEL_1), (重, LABEL_1), (要, LABEL_1), (组, LABEL_1), (成, LABEL_1), (部, LABEL_1), (分, LABEL_1), (，, LABEL_1), (在, LABEL_1), (中, LABEL_1), (国, LABEL_1), (要, LABEL_1), (城, LABEL_1), (市, LABEL_1), (立, LABEL_1), (了, LABEL_1), (56, LABEL_1), (家, LABEL_1), (公, LABEL_1), (司, LABEL_1), ((, LABEL_1), (中, LABEL_1), (04, LABEL_1), (年, LABEL_1), (新, LABEL_1), (增, LABEL_1), (6, LABEL_1), (家, LABEL_1), (公, LABEL_1), (司, LABEL_1), (), LABEL_1), (。, LABEL_1), (根, LABEL_1), (据, LABEL_1), (DHL, LABEL_1), (的, LABEL_1), (规, LABEL_1), (划, LABEL_1), (，, LABEL_1), (未, LABEL_1), (来, LABEL_1), (3, LABEL_1), (合, LABEL_1), (资, LABEL_1), (公, LABEL_1), (司, LABEL_1), (的, LABEL_1), (利, LABEL_1), (润, LABEL_1), (合, LABEL_1), (增, LABEL_1), (长, LABEL_1), (率, LABEL_1), (有, LABEL_1), (达, LABEL_1), (到, LABEL_1)\n",
      "news 3 entities: (（, LABEL_1), (##40, LABEL_1), (##7, LABEL_1), (）, LABEL_1), (公, LABEL_1), (司, LABEL_1), (子, LABEL_1), (公, LABEL_1), (司, LABEL_1), (填, LABEL_1), (海, LABEL_1), (造, LABEL_1), (地, LABEL_1), (，, LABEL_1), (的, LABEL_1), (地, LABEL_1), (价, LABEL_1), (估, LABEL_1), (算, LABEL_1), (，, LABEL_1), (在, LABEL_1), (左, LABEL_1), (右, LABEL_1), (。, LABEL_1), (公, LABEL_1), (司, LABEL_1), (旗, LABEL_1), (下, LABEL_1), (的, LABEL_1), (青, LABEL_1), (岛, LABEL_1), (通, LABEL_1), (海, LABEL_1), (置, LABEL_1), (发, LABEL_1), (展, LABEL_1), (有, LABEL_1), (公, LABEL_1), (司, LABEL_1), (对, LABEL_1), (岛, LABEL_1), (市, LABEL_1), (四, LABEL_1), (方, LABEL_1), (区, LABEL_1), (海, LABEL_1), (岸, LABEL_1), (目, LABEL_1), (的, LABEL_1), (开, LABEL_1), (发, LABEL_1), (，, LABEL_1), (岸, LABEL_1), (全, LABEL_1), (长, LABEL_1), (58, LABEL_1), (##30, LABEL_1), (米, LABEL_1), (，, LABEL_1), (开, LABEL_1), (形, LABEL_1), (成, LABEL_1), (新, LABEL_1), (陆, LABEL_1), (域, LABEL_1), (面, LABEL_1), (积, LABEL_1), (高, LABEL_1), (达, LABEL_1), (。, LABEL_1), (子, LABEL_1), (公, LABEL_1), (司, LABEL_1), (低, LABEL_1), (成, LABEL_1), (本, LABEL_1), (的, LABEL_1), (填, LABEL_1), (海, LABEL_1), (造, LABEL_1), (地, LABEL_1), (目, LABEL_1), (使, LABEL_1), (司, LABEL_1), (土, LABEL_1), (地, LABEL_1), (然, LABEL_1), (增, LABEL_1), (，, LABEL_1), (加, LABEL_1), (之, LABEL_1), (地, LABEL_1), (区, LABEL_1), (越, LABEL_1), (的, LABEL_1), (经, LABEL_1), (济, LABEL_1), (旅, LABEL_1), (，, LABEL_1), (土, LABEL_1), (地, LABEL_1), (增, LABEL_1), (间, LABEL_1), (常, LABEL_1), (，, LABEL_1), (以, LABEL_1), (的, LABEL_1), (价, LABEL_1), (估, LABEL_1), (算, LABEL_1), (在, LABEL_1), (10, LABEL_1), (元, LABEL_1), (左, LABEL_1), (右, LABEL_1), (。, LABEL_1), (工, LABEL_1), (，, LABEL_1), (公, LABEL_1), (司, LABEL_1), (可, LABEL_1), (直, LABEL_1), (接, LABEL_1), (转, LABEL_1), (让, LABEL_1), (土, LABEL_1), (地, LABEL_1), (，, LABEL_1), (得, LABEL_1), (土, LABEL_1), (地, LABEL_1), (让, LABEL_1), (入, LABEL_1), (；, LABEL_1), (或, LABEL_1), (和, LABEL_1), (一, LABEL_1), (些, LABEL_1), (世, LABEL_1), (界, LABEL_1), (级, LABEL_1), (公, LABEL_1), (司, LABEL_1), (合, LABEL_1), (作, LABEL_1), (，, LABEL_1), (共, LABEL_1), (同, LABEL_1), (参, LABEL_1), (与, LABEL_1), (后, LABEL_1), (续, LABEL_1), (的, LABEL_1), (设, LABEL_1), (经, LABEL_1), (营, LABEL_1), (理, LABEL_1), (，, LABEL_1), (从, LABEL_1), (而, LABEL_1), (介, LABEL_1), (入, LABEL_1), (港, LABEL_1), (口, LABEL_1), (务, LABEL_1), (。, LABEL_1), (目, LABEL_1), (前, LABEL_1), (因, LABEL_1), (为, LABEL_1), (好, LABEL_1), (，, LABEL_1), (已, LABEL_1), (有, LABEL_1), (深, LABEL_1), (圳, LABEL_1), (集, LABEL_1), (、, LABEL_1), (新, LABEL_1), (加, LABEL_1), (坡, LABEL_1), (集, LABEL_1), (团, LABEL_1), (、, LABEL_1), (阿, LABEL_1), (联, LABEL_1), (酋, LABEL_1), (迪, LABEL_1), (拜, LABEL_1), (际, LABEL_1), (投, LABEL_1), (资, LABEL_1), (者, LABEL_1), (来, LABEL_1), (谈, LABEL_1), (投, LABEL_1), (资, LABEL_1), (事, LABEL_1), (宜, LABEL_1), (。, LABEL_1), (种, LABEL_1), (式, LABEL_1), (的, LABEL_1), (选, LABEL_1), (也, LABEL_1), (为, LABEL_1), (公, LABEL_1), (司, LABEL_1), (从, LABEL_1), (取, LABEL_1), (益, LABEL_1), (供, LABEL_1), (了, LABEL_1), (间, LABEL_1), (，, LABEL_1), (为, LABEL_1), (公, LABEL_1), (司, LABEL_1), (资, LABEL_1), (产, LABEL_1), (来, LABEL_1), (增, LABEL_1), (会, LABEL_1), (。, LABEL_1), (公, LABEL_1), (司, LABEL_1), (在, LABEL_1), (物, LABEL_1), (医, LABEL_1), (药, LABEL_1), (产, LABEL_1), (业, LABEL_1), (也, LABEL_1), (，, LABEL_1), (开, LABEL_1), (海, LABEL_1), (南, LABEL_1), (中, LABEL_1), (国, LABEL_1), (一, LABEL_1), (自, LABEL_1), (主, LABEL_1), (开, LABEL_1), (国, LABEL_1), (家, LABEL_1), (十, LABEL_1), (五, LABEL_1), (科, LABEL_1), (技, LABEL_1), (关, LABEL_1), (目, LABEL_1), (，, LABEL_1), (有, LABEL_1), (广, LABEL_1), (。, LABEL_1), (同, LABEL_1), (时, LABEL_1), (，, LABEL_1), (公, LABEL_1), (司, LABEL_1), (一, LABEL_1), (拳, LABEL_1), (头, LABEL_1), (产, LABEL_1), (品, LABEL_1), (泰, LABEL_1), (妙, LABEL_1), (是, LABEL_1), (一, LABEL_1), (种, LABEL_1), (动, LABEL_1), (，, LABEL_1), (要, LABEL_1), (家, LABEL_1), (畜, LABEL_1), (家, LABEL_1), (禽, LABEL_1), (吸, LABEL_1), (疾, LABEL_1), (动, LABEL_1), (是, LABEL_1), (世, LABEL_1), (界, LABEL_1), (十, LABEL_1), (大, LABEL_1), (生, LABEL_1), (之, LABEL_1), (一, LABEL_1), (，, LABEL_1), (公, LABEL_1), (司, LABEL_1), (出, LABEL_1), (口, LABEL_1), (占, LABEL_1), (国, LABEL_1), (内, LABEL_1), (出, LABEL_1), (口, LABEL_1), (量, LABEL_1), (的, LABEL_1), (比, LABEL_1), (重, LABEL_1), (在, LABEL_1), (80, LABEL_1), (％, LABEL_1), (左, LABEL_1), (右, LABEL_1), (。, LABEL_1), (公, LABEL_1), (司, LABEL_1), (资, LABEL_1), (3, LABEL_1), (亿, LABEL_1), (元, LABEL_1), (建, LABEL_1), (设, LABEL_1), (的, LABEL_1), (工, LABEL_1), (程, LABEL_1), (目, LABEL_1), (去, LABEL_1), (年, LABEL_1), (10, LABEL_1)\n",
      "news 4 entities: (全, LABEL_1), (景, LABEL_1), (网, LABEL_1), (11, LABEL_1), (月, LABEL_1), (30, LABEL_1), (日, LABEL_1), (讯, LABEL_1), (外, LABEL_1), (围, LABEL_1), (股, LABEL_1), (市, LABEL_1), (好, LABEL_1), (，, LABEL_1), (带, LABEL_1), (动, LABEL_1), (港, LABEL_1), (股, LABEL_1), (今, LABEL_1), (早, LABEL_1), (造, LABEL_1), (好, LABEL_1), (，, LABEL_1), (恒, LABEL_1), (高, LABEL_1), (开, LABEL_1), (后, LABEL_1), (反, LABEL_1), (上, LABEL_1), (升, LABEL_1), (，, LABEL_1), (最, LABEL_1), (高, LABEL_1), (升, LABEL_1), (，, LABEL_1), (曾, LABEL_1), (一, LABEL_1), (度, LABEL_1), (升, LABEL_1), (越, LABEL_1), (关, LABEL_1), (口, LABEL_1), (，, LABEL_1), (其, LABEL_1), (后, LABEL_1), (升, LABEL_1), (幅, LABEL_1), (收, LABEL_1), (窄, LABEL_1), (，, LABEL_1), (午, LABEL_1), (后, LABEL_1), (开, LABEL_1), (盘, LABEL_1), (围, LABEL_1), (绕, LABEL_1), (九, LABEL_1), (争, LABEL_1), (，, LABEL_1), (今, LABEL_1), (日, LABEL_1), (波, LABEL_1), (幅, LABEL_1), (介, LABEL_1), (乎, LABEL_1), (##23, LABEL_1), (63, LABEL_1), (点, LABEL_1), (至, LABEL_1), (##3, LABEL_1), (40, LABEL_1), (点, LABEL_1), (。, LABEL_1), (最, LABEL_1), (恒, LABEL_1), (数, LABEL_1), (全, LABEL_1), (日, LABEL_1), (收, LABEL_1), (报, LABEL_1), (##0, LABEL_1), (48, LABEL_1), (点, LABEL_1), (，, LABEL_1), (升, LABEL_1), (., LABEL_1), (55, LABEL_1), (点, LABEL_1), (，, LABEL_1), (成, LABEL_1), (交, LABEL_1), (46, LABEL_1), (##6, LABEL_1), (67, LABEL_1), (港, LABEL_1), (元, LABEL_1), (；, LABEL_1), (普, LABEL_1), (遍, LABEL_1), (好, LABEL_1), (，, LABEL_1), (且, LABEL_1), (价, LABEL_1), (上, LABEL_1), (涨, LABEL_1), (带, LABEL_1), (动, LABEL_1), (数, LABEL_1), (全, LABEL_1), (日, LABEL_1), (升, LABEL_1), (., LABEL_1), (34, LABEL_1), (点, LABEL_1), (，, LABEL_1), (报, LABEL_1), (85, LABEL_1), (##46, LABEL_1), (60, LABEL_1), (点, LABEL_1), (。, LABEL_1), (有, LABEL_1), (分, LABEL_1), (析, LABEL_1), (师, LABEL_1), (表, LABEL_1), (示, LABEL_1), (，, LABEL_1), (美, LABEL_1), (国, LABEL_1), (经, LABEL_1), (济, LABEL_1), (，, LABEL_1), (加, LABEL_1), (投, LABEL_1), (资, LABEL_1), (者, LABEL_1), (，, LABEL_1), (中, LABEL_1), (资, LABEL_1), (金, LABEL_1), (融, LABEL_1), (股, LABEL_1), (回, LABEL_1), (升, LABEL_1), (至, LABEL_1), (水, LABEL_1), (平, LABEL_1), (，, LABEL_1), (看, LABEL_1), (好, LABEL_1), (后, LABEL_1), (市, LABEL_1), (表, LABEL_1), (现, LABEL_1), (，, LABEL_1), (恒, LABEL_1), (数, LABEL_1), (于, LABEL_1), (##0, LABEL_1), (点, LABEL_1), (有, LABEL_1), (阻, LABEL_1), (力, LABEL_1), (，, LABEL_1), (支, LABEL_1), (持, LABEL_1), (位, LABEL_1), (则, LABEL_1), (在, LABEL_1), (1880, LABEL_1), (##0, LABEL_1), (点, LABEL_1), (。, LABEL_1), (蓝, LABEL_1), (筹, LABEL_1), (股, LABEL_1), (普, LABEL_1), (遍, LABEL_1), (好, LABEL_1), (，, LABEL_1), (中, LABEL_1), (移, LABEL_1), ((, LABEL_1), (-, LABEL_1), (HK, LABEL_1), (), LABEL_1), (升, LABEL_1), (., LABEL_1), (71, LABEL_1), (%, LABEL_1), (；, LABEL_1), (汇, LABEL_1), ((, LABEL_1), (-, LABEL_1), (), LABEL_1), (升, LABEL_1), (., LABEL_1), (48, LABEL_1), (%, LABEL_1), (；, LABEL_1), (和, LABEL_1), ((, LABEL_1), (-, LABEL_1), (HK, LABEL_1), (), LABEL_1), (升, LABEL_1), (03, LABEL_1), (%, LABEL_1), (；, LABEL_1), (地, LABEL_1), (产, LABEL_1), (股, LABEL_1), (继, LABEL_1), (续, LABEL_1), (日, LABEL_1), (升, LABEL_1), (势, LABEL_1), (，, LABEL_1), (长, LABEL_1), ((, LABEL_1), (-, LABEL_1), (HK, LABEL_1), (), LABEL_1), (升, LABEL_1), (., LABEL_1), (82, LABEL_1), (%, LABEL_1), (、, LABEL_1), ((, LABEL_1), (008, LABEL_1), (-, LABEL_1), (HK, LABEL_1), (), LABEL_1), (升, LABEL_1), (., LABEL_1), (24, LABEL_1), (%, LABEL_1), (、, LABEL_1), (恒, LABEL_1), ((, LABEL_1), (-, LABEL_1), (HK, LABEL_1), (), LABEL_1), (涨, LABEL_1), (., LABEL_1), (81, LABEL_1), (%, LABEL_1), (、, LABEL_1), (-, LABEL_1), (), LABEL_1), (上, LABEL_1), (升, LABEL_1), (., LABEL_1), (57, LABEL_1), (%, LABEL_1), (、, LABEL_1), (恒, LABEL_1), (地, LABEL_1), ((, LABEL_1), (010, LABEL_1), (-, LABEL_1), (), LABEL_1), (升, LABEL_1), (24, LABEL_1), (%, LABEL_1), (，, LABEL_1), ((, LABEL_1), (-, LABEL_1), (), LABEL_1), (收, LABEL_1), (盘, LABEL_1), (前, LABEL_1), (股, LABEL_1), (价, LABEL_1), (跌, LABEL_1), (并, LABEL_1), (回, LABEL_1), (之, LABEL_1), (升, LABEL_1), (幅, LABEL_1), (最, LABEL_1), (跌, LABEL_1), (14, LABEL_1), (%, LABEL_1), (。, LABEL_1), (中, LABEL_1), (资, LABEL_1), (金, LABEL_1), (融, LABEL_1), (股, LABEL_1), (普, LABEL_1), (遍, LABEL_1), (先, LABEL_1), (升, LABEL_1), (回, LABEL_1), (，, LABEL_1), (-, LABEL_1), (HK, LABEL_1), (), LABEL_1), (、, LABEL_1), ((, LABEL_1), (-, LABEL_1), (HK, LABEL_1), (), LABEL_1), (-, LABEL_1), (), LABEL_1), (全, LABEL_1), (日, LABEL_1), (升, LABEL_1), (幅, LABEL_1), (均, LABEL_1), (1, LABEL_1), (%, LABEL_1), (，, LABEL_1), (下, LABEL_1), (周, LABEL_1), (一, LABEL_1), (的, LABEL_1), (中, LABEL_1), (行, LABEL_1), ((, LABEL_1), (##8, LABEL_1), (-, LABEL_1), (HK, LABEL_1), (), LABEL_1), (升, LABEL_1), (1, LABEL_1), (., LABEL_1), (07, LABEL_1), (%, LABEL_1), (，, LABEL_1), (招, LABEL_1), (行, LABEL_1), ((, LABEL_1), (-, LABEL_1), (HK, LABEL_1), (), LABEL_1), (升, LABEL_1), (幅, LABEL_1), (最, LABEL_1), (大, LABEL_1), (，, LABEL_1), (涨, LABEL_1), (1, LABEL_1), (76, LABEL_1), (%, LABEL_1), (。, LABEL_1), (只, LABEL_1), (中, LABEL_1), (资, LABEL_1), (股, LABEL_1), (今, LABEL_1), (日, LABEL_1), (表, LABEL_1), (现, LABEL_1), (好, LABEL_1), (，, LABEL_1), (国, LABEL_1), (寿, LABEL_1), ((, LABEL_1), (##8, LABEL_1), (-, LABEL_1), (), LABEL_1), (升, LABEL_1), (., LABEL_1), (39, LABEL_1), (%, LABEL_1), (，, LABEL_1), (平, LABEL_1), (保, LABEL_1), ((, LABEL_1), (-, LABEL_1), (), LABEL_1), (升, LABEL_1)\n",
      "news 5 entities: (日, LABEL_1), (，, LABEL_1), (沪, LABEL_1), (市, LABEL_1), (，, LABEL_1), (30, LABEL_1), (最, LABEL_1), (高, LABEL_1), (205, LABEL_1), (77, LABEL_1), (后, LABEL_1), (，, LABEL_1), (上, LABEL_1), (数, LABEL_1), (再, LABEL_1), (次, LABEL_1), (。, LABEL_1), (而, LABEL_1), (与, LABEL_1), (年, LABEL_1), (的, LABEL_1), (情, LABEL_1), (况, LABEL_1), (不, LABEL_1), (同, LABEL_1), (的, LABEL_1), (，, LABEL_1), (市, LABEL_1), (数, LABEL_1), (飙, LABEL_1), (升, LABEL_1), (的, LABEL_1), (同, LABEL_1), (时, LABEL_1), (，, LABEL_1), (六, LABEL_1), (成, LABEL_1), (的, LABEL_1), (个, LABEL_1), (股, LABEL_1), (反, LABEL_1), (而, LABEL_1), (下, LABEL_1), (跌, LABEL_1), (。, LABEL_1), (中, LABEL_1), (，, LABEL_1), (20, LABEL_1), (天, LABEL_1), (，, LABEL_1), (沪, LABEL_1), (市, LABEL_1), (有, LABEL_1), (326, LABEL_1), (家, LABEL_1), (上, LABEL_1), (涨, LABEL_1), (、, LABEL_1), (511, LABEL_1), (家, LABEL_1), (下, LABEL_1), (跌, LABEL_1), (；, LABEL_1), (市, LABEL_1), (225, LABEL_1), (家, LABEL_1), (上, LABEL_1), (涨, LABEL_1), (、, LABEL_1), (356, LABEL_1), (家, LABEL_1), (下, LABEL_1), (跌, LABEL_1), (泰, LABEL_1), (基, LABEL_1), (金, LABEL_1), (经, LABEL_1), (高, LABEL_1), (清, LABEL_1), (表, LABEL_1), (示, LABEL_1), (，, LABEL_1), (个, LABEL_1), (股, LABEL_1), (走, LABEL_1), (的, LABEL_1), (分, LABEL_1), (化, LABEL_1), (已, LABEL_1), (经, LABEL_1), (告, LABEL_1), (别, LABEL_1), (了, LABEL_1), (普, LABEL_1), (时, LABEL_1), (，, LABEL_1), (投, LABEL_1), (正, LABEL_1), (在, LABEL_1), (的, LABEL_1), (。, LABEL_1), (只, LABEL_1), (有, LABEL_1), (从, LABEL_1), (研, LABEL_1), (本, LABEL_1), (发, LABEL_1), (，, LABEL_1), (挖, LABEL_1), (企, LABEL_1), (投, LABEL_1), (资, LABEL_1), (价, LABEL_1), (，, LABEL_1), (才, LABEL_1), (能, LABEL_1), (在, LABEL_1), (今, LABEL_1), (市, LABEL_1), (中, LABEL_1), (地, LABEL_1), (。, LABEL_1), (高, LABEL_1), (清, LABEL_1), (海, LABEL_1), (表, LABEL_1), (示, LABEL_1), (，, LABEL_1), (有, LABEL_1), (人, LABEL_1), (说, LABEL_1), (投, LABEL_1), (资, LABEL_1), (像, LABEL_1), (芭, LABEL_1), (蕾, LABEL_1), (一, LABEL_1), (样, LABEL_1), (是, LABEL_1), (一, LABEL_1), (门, LABEL_1), (艺, LABEL_1), (术, LABEL_1), (，, LABEL_1), (那, LABEL_1), (么, LABEL_1), (究, LABEL_1), (工, LABEL_1), (作, LABEL_1), (优, LABEL_1), (雅, LABEL_1), (的, LABEL_1), (舞, LABEL_1), (蹈, LABEL_1), (背, LABEL_1), (后, LABEL_1), (无, LABEL_1), (数, LABEL_1), (艰, LABEL_1), (的, LABEL_1), (功, LABEL_1), (习, LABEL_1), (。, LABEL_1), (除, LABEL_1), (了, LABEL_1), (掌, LABEL_1), (必, LABEL_1), (要, LABEL_1), (的, LABEL_1), (专, LABEL_1), (识, LABEL_1), (、, LABEL_1), (法, LABEL_1), (以, LABEL_1), (外, LABEL_1), (，, LABEL_1), (更, LABEL_1), (重, LABEL_1), (要, LABEL_1), (的, LABEL_1), (是, LABEL_1), (要, LABEL_1), (有, LABEL_1), (吃, LABEL_1), (苦, LABEL_1), (耐, LABEL_1), (劳, LABEL_1), (、, LABEL_1), (勤, LABEL_1), (勉, LABEL_1), (的, LABEL_1), (工, LABEL_1), (作, LABEL_1), (态, LABEL_1), (度, LABEL_1), (，, LABEL_1), (到, LABEL_1), (最, LABEL_1), (贴, LABEL_1), (的, LABEL_1), (数, LABEL_1), (据, LABEL_1), (，, LABEL_1), (进, LABEL_1), (行, LABEL_1), (深, LABEL_1), (、, LABEL_1), (细, LABEL_1), (、, LABEL_1), (科, LABEL_1), (的, LABEL_1), (本, LABEL_1), (研, LABEL_1), (。, LABEL_1), (高, LABEL_1), (清, LABEL_1), (，, LABEL_1), (论, LABEL_1), (市, LABEL_1), (怎, LABEL_1), (样, LABEL_1), (变, LABEL_1), (化, LABEL_1), (，, LABEL_1), (对, LABEL_1), (基, LABEL_1), (金, LABEL_1), (经, LABEL_1), (理, LABEL_1), (和, LABEL_1), (理, LABEL_1), (司, LABEL_1), (来, LABEL_1), (说, LABEL_1), (，, LABEL_1), (需, LABEL_1), (要, LABEL_1), (有, LABEL_1), (一, LABEL_1), (东, LABEL_1), (西, LABEL_1), (。, LABEL_1), (些, LABEL_1), (东, LABEL_1), (西, LABEL_1), (？, LABEL_1), (其, LABEL_1), (不, LABEL_1), (，, LABEL_1), (之, LABEL_1), (一, LABEL_1), (投, LABEL_1), (。, LABEL_1), (投, LABEL_1), (资, LABEL_1), (的, LABEL_1), (永, LABEL_1), (，, LABEL_1), (而, LABEL_1), (此, LABEL_1), (的, LABEL_1), (一, LABEL_1), (金, LABEL_1), (一, LABEL_1), (杠, LABEL_1), (，, LABEL_1), (往, LABEL_1), (往, LABEL_1), (垃, LABEL_1), (圾, LABEL_1), (增, LABEL_1), (幅, LABEL_1), (超, LABEL_1), (过, LABEL_1), (筹, LABEL_1), (，, LABEL_1), (司, LABEL_1), (的, LABEL_1), (。, LABEL_1), (且, LABEL_1), (在, LABEL_1), (股, LABEL_1), (完, LABEL_1), (之, LABEL_1), (后, LABEL_1), (，, LABEL_1), (市, LABEL_1), (所, LABEL_1), (表, LABEL_1), (现, LABEL_1), (出, LABEL_1), (来, LABEL_1), (的, LABEL_1), (牛, LABEL_1), (恰, LABEL_1), (恰, LABEL_1), (，, LABEL_1), (未, LABEL_1), (来, LABEL_1), (是, LABEL_1), (价, LABEL_1), (投, LABEL_1), (资, LABEL_1), (占, LABEL_1), (主, LABEL_1), (流, LABEL_1), (的, LABEL_1), (时, LABEL_1), (代, LABEL_1), (。, LABEL_1), (对, LABEL_1), (价, LABEL_1), (的, LABEL_1), (理, LABEL_1), (能, LABEL_1), (力, LABEL_1), (越, LABEL_1), (高, LABEL_1), (，, LABEL_1), (对, LABEL_1), (司, LABEL_1), (得, LABEL_1)\n",
      "news 6 entities: (网, LABEL_1), (30, LABEL_1), (日, LABEL_1), (讯, LABEL_1), (在, LABEL_1), (蓝, LABEL_1), (筹, LABEL_1), (股, LABEL_1), (的, LABEL_1), (推, LABEL_1), (动, LABEL_1), (下, LABEL_1), (，, LABEL_1), (周, LABEL_1), (四, LABEL_1), (股, LABEL_1), (市, LABEL_1), (表, LABEL_1), (现, LABEL_1), (强, LABEL_1), (，, LABEL_1), (中, LABEL_1), (新, LABEL_1), (财, LABEL_1), (数, LABEL_1), (更, LABEL_1), (是, LABEL_1), (以, LABEL_1), (上, LABEL_1), (扬, LABEL_1), (势, LABEL_1), (大, LABEL_1), (涨, LABEL_1), (42, LABEL_1), (％, LABEL_1), (，, LABEL_1), (跑, LABEL_1), (赢, LABEL_1), (分, LABEL_1), (别, LABEL_1), (大, LABEL_1), (、, LABEL_1), (和, LABEL_1), (筹, LABEL_1), (股, LABEL_1), (走, LABEL_1), (势, LABEL_1), (的, LABEL_1), (、, LABEL_1), (深, LABEL_1), (和, LABEL_1), (上, LABEL_1), (50, LABEL_1), (指, LABEL_1), (数, LABEL_1), (。, LABEL_1), (今, LABEL_1), (日, LABEL_1), (上, LABEL_1), (涨, LABEL_1), (., LABEL_1), (20, LABEL_1), (％, LABEL_1), (，, LABEL_1), (沪, LABEL_1), (深, LABEL_1), (涨, LABEL_1), (83, LABEL_1), (％, LABEL_1), (，, LABEL_1), (50, LABEL_1), (涨, LABEL_1), (07, LABEL_1), (％, LABEL_1), (。, LABEL_1), (由, LABEL_1), (《, LABEL_1), (财, LABEL_1), (富, LABEL_1), (》, LABEL_1), (编, LABEL_1), (制, LABEL_1), (发, LABEL_1), (布, LABEL_1), (的, LABEL_1), (财, LABEL_1), (分, LABEL_1), (析, LABEL_1), (指, LABEL_1), (数, LABEL_1), (于, LABEL_1), (25, LABEL_1), (11, LABEL_1), (27, LABEL_1), (通, LABEL_1), (过, LABEL_1), (巨, LABEL_1), (潮, LABEL_1), (数, LABEL_1), (、, LABEL_1), (网, LABEL_1), (、, LABEL_1), (《, LABEL_1), (交, LABEL_1), (》, LABEL_1), (视, LABEL_1), (节, LABEL_1), (目, LABEL_1), (向, LABEL_1), (社, LABEL_1), (会, LABEL_1), (布, LABEL_1), (。, LABEL_1), (新, LABEL_1), (财, LABEL_1), (富, LABEL_1), (最, LABEL_1), (佳, LABEL_1), (分, LABEL_1), (析, LABEL_1), (指, LABEL_1), (数, LABEL_1), (是, LABEL_1), (国, LABEL_1), (内, LABEL_1), (由, LABEL_1), (媒, LABEL_1), (体, LABEL_1), (合, LABEL_1), (研, LABEL_1), (究, LABEL_1), (选, LABEL_1), (指, LABEL_1), (数, LABEL_1), (本, LABEL_1), (由, LABEL_1), (权, LABEL_1), (指, LABEL_1), (数, LABEL_1), (制, LABEL_1), (构, LABEL_1), (按, LABEL_1), (通, LABEL_1), (客, LABEL_1), (编, LABEL_1), (制, LABEL_1), (的, LABEL_1), (型, LABEL_1), (类, LABEL_1), (指, LABEL_1), (数, LABEL_1), (，, LABEL_1), (其, LABEL_1), (成, LABEL_1), (分, LABEL_1), (代, LABEL_1), (各, LABEL_1), (大, LABEL_1), (内, LABEL_1), (最, LABEL_1), (分, LABEL_1), (析, LABEL_1), (来, LABEL_1), (一, LABEL_1), (年, LABEL_1), (投, LABEL_1), (资, LABEL_1), (。, LABEL_1), (（, LABEL_1), (网, LABEL_1), (/, LABEL_1), (陆, LABEL_1), (泽, LABEL_1), (洪, LABEL_1), (）, LABEL_1)\n",
      "news 7 entities: (由, LABEL_1), (于, LABEL_1), (全, LABEL_1), (球, LABEL_1), (最, LABEL_1), (大, LABEL_1), (的, LABEL_1), (俄, LABEL_1), (罗, LABEL_1), (斯, LABEL_1), (Uralkaly, LABEL_1), (钾, LABEL_1), (被, LABEL_1), (淹, LABEL_1), (，, LABEL_1), (产, LABEL_1), (大, LABEL_1), (减, LABEL_1), (，, LABEL_1), (同, LABEL_1), (时, LABEL_1), (满, LABEL_1), (洲, LABEL_1), (里, LABEL_1), (岸, LABEL_1), (路, LABEL_1), (在, LABEL_1), (修, LABEL_1), (，, LABEL_1), (导, LABEL_1), (致, LABEL_1), (中, LABEL_1), (边, LABEL_1), (贸, LABEL_1), (供, LABEL_1), (应, LABEL_1), (偏, LABEL_1), (紧, LABEL_1), (且, LABEL_1), (同, LABEL_1), (推, LABEL_1), (迟, LABEL_1), (，, LABEL_1), (加, LABEL_1), (国, LABEL_1), (内, LABEL_1), (钾, LABEL_1), (肥, LABEL_1), (供, LABEL_1), (应, LABEL_1), (紧, LABEL_1), (张, LABEL_1), (局, LABEL_1), (面, LABEL_1), (，, LABEL_1), (钾, LABEL_1), (肥, LABEL_1), (股, LABEL_1), (盐, LABEL_1), (湖, LABEL_1), (钾, LABEL_1), (肥, LABEL_1), (和, LABEL_1), (冠, LABEL_1), (农, LABEL_1), (近, LABEL_1), (日, LABEL_1), (应, LABEL_1), (暴, LABEL_1), (涨, LABEL_1), (。, LABEL_1), (我, LABEL_1), (国, LABEL_1), (钾, LABEL_1), (盐, LABEL_1), (产, LABEL_1), (只, LABEL_1), (占, LABEL_1), (全, LABEL_1), (球, LABEL_1), (的, LABEL_1), (1, LABEL_1), (%, LABEL_1), (左, LABEL_1), (右, LABEL_1), (，, LABEL_1), (但, LABEL_1), (占, LABEL_1), (世, LABEL_1), (界, LABEL_1), (消, LABEL_1), (耗, LABEL_1), (量, LABEL_1), (的, LABEL_1), (20, LABEL_1), (%, LABEL_1), (，, LABEL_1), (中, LABEL_1), (需, LABEL_1), (求, LABEL_1), (钾, LABEL_1), (盐, LABEL_1), (价, LABEL_1), (格, LABEL_1), (非, LABEL_1), (常, LABEL_1), (，, LABEL_1), (明, LABEL_1), (价, LABEL_1), (格, LABEL_1), (依, LABEL_1), (然, LABEL_1), (涨, LABEL_1), (。, LABEL_1), (提, LABEL_1), (高, LABEL_1), (我, LABEL_1), (国, LABEL_1), (的, LABEL_1), (钾, LABEL_1), (盐, LABEL_1), (，, LABEL_1), (国, LABEL_1), (家, LABEL_1), (决, LABEL_1), (定, LABEL_1), (加, LABEL_1), (大, LABEL_1), (对, LABEL_1), (海, LABEL_1), (察, LABEL_1), (盐, LABEL_1), (湖, LABEL_1), (、, LABEL_1), (新, LABEL_1), (疆, LABEL_1), (布, LABEL_1), (泊, LABEL_1), (盐, LABEL_1), (湖, LABEL_1), (、, LABEL_1), (山, LABEL_1), (盐, LABEL_1), (湖, LABEL_1), (三, LABEL_1), (大, LABEL_1), (钾, LABEL_1), (盐, LABEL_1), (湖, LABEL_1), (的, LABEL_1), (开, LABEL_1), (发, LABEL_1), (力, LABEL_1), (度, LABEL_1), (，, LABEL_1), (盐, LABEL_1), (湖, LABEL_1), (中, LABEL_1), (，, LABEL_1), (由, LABEL_1), (于, LABEL_1), (察, LABEL_1), (盐, LABEL_1), (湖, LABEL_1), (和, LABEL_1), (布, LABEL_1), (盐, LABEL_1), (湖, LABEL_1), (在, LABEL_1), (西, LABEL_1), (部, LABEL_1), (边, LABEL_1), (陲, LABEL_1), (，, LABEL_1), (采, LABEL_1), (出, LABEL_1), (的, LABEL_1), (钾, LABEL_1), (盐, LABEL_1), (通, LABEL_1), (过, LABEL_1), (紧, LABEL_1), (张, LABEL_1), (的, LABEL_1), (路, LABEL_1), (输, LABEL_1), (出, LABEL_1), (来, LABEL_1), (，, LABEL_1), (而, LABEL_1), (山, LABEL_1), (盐, LABEL_1), (湖, LABEL_1), (位, LABEL_1), (于, LABEL_1), (中, LABEL_1), (原, LABEL_1), (，, LABEL_1), (交, LABEL_1), (通, LABEL_1), (和, LABEL_1), (采, LABEL_1), (越, LABEL_1), (，, LABEL_1), (其, LABEL_1), (主, LABEL_1), (要, LABEL_1), (开, LABEL_1), (者, LABEL_1), (化, LABEL_1), (工, LABEL_1), (（, LABEL_1), (）, LABEL_1), (是, LABEL_1), (上, LABEL_1), (市, LABEL_1), (，, LABEL_1), (拥, LABEL_1), (有, LABEL_1), (盐, LABEL_1), (湖, LABEL_1), (的, LABEL_1), (开, LABEL_1), (发, LABEL_1), (权, LABEL_1), (，, LABEL_1), (钾, LABEL_1), (盐, LABEL_1), (产, LABEL_1), (和, LABEL_1), (储, LABEL_1), (于, LABEL_1), (国, LABEL_1), (内, LABEL_1), (三, LABEL_1), (强, LABEL_1), (之, LABEL_1), (列, LABEL_1), (。, LABEL_1), (我, LABEL_1), (国, LABEL_1), (最, LABEL_1), (主, LABEL_1), (要, LABEL_1), (的, LABEL_1), (钾, LABEL_1), (肥, LABEL_1), (进, LABEL_1), (口, LABEL_1), (和, LABEL_1), (生, LABEL_1), (产, LABEL_1), (商, LABEL_1), (化, LABEL_1), (继, LABEL_1), (收, LABEL_1), (购, LABEL_1), (盐, LABEL_1), (湖, LABEL_1), (钾, LABEL_1), (肥, LABEL_1), (股, LABEL_1), (权, LABEL_1), (，, LABEL_1), (正, LABEL_1), (打, LABEL_1), (化, LABEL_1), (来, LABEL_1), (介, LABEL_1), (盐, LABEL_1), (钾, LABEL_1), (盐, LABEL_1), (开, LABEL_1), (，, LABEL_1), (化, LABEL_1), (工, LABEL_1), (告, LABEL_1), (中, LABEL_1), (化, LABEL_1), (集, LABEL_1), (就, LABEL_1), (司, LABEL_1), (股, LABEL_1), (权, LABEL_1), (，, LABEL_1), (或, LABEL_1), (化, LABEL_1), (对, LABEL_1), (增, LABEL_1), (资, LABEL_1), (扩, LABEL_1), (合, LABEL_1), (作, LABEL_1), (事, LABEL_1), (宜, LABEL_1), (进, LABEL_1), (行, LABEL_1), (了, LABEL_1), (接, LABEL_1), (触, LABEL_1), (，, LABEL_1), (，, LABEL_1), (南, LABEL_1), (化, LABEL_1), (工, LABEL_1), (的, LABEL_1), (潜, LABEL_1), (能, LABEL_1), (得, LABEL_1), (情, LABEL_1), (。, LABEL_1), (南, LABEL_1), (化, LABEL_1), (工, LABEL_1), (全, LABEL_1), (权, LABEL_1), (开, LABEL_1), (发, LABEL_1), (的, LABEL_1), (盐, LABEL_1), (湖, LABEL_1), (面, LABEL_1), (积, LABEL_1), (为, LABEL_1), (方, LABEL_1), (里, LABEL_1), (，, LABEL_1), (是, LABEL_1), (世, LABEL_1), (界, LABEL_1), (第, LABEL_1), (三, LABEL_1), (大, LABEL_1), (硫, LABEL_1), (酸, LABEL_1), (型, LABEL_1), (内, LABEL_1), (陆, LABEL_1), (湖, LABEL_1), (泊, LABEL_1), (，, LABEL_1), (水, LABEL_1), (中, LABEL_1), (的, LABEL_1), (钾, LABEL_1), (盐, LABEL_1), (、, LABEL_1), (镁, LABEL_1), (盐, LABEL_1), (硫, LABEL_1), (盐, LABEL_1), (以, LABEL_1), (及, LABEL_1), (食, LABEL_1), (盐, LABEL_1), (逐, LABEL_1), (渐, LABEL_1), (与, LABEL_1), (早, LABEL_1), (淤, LABEL_1), (积, LABEL_1), (层, LABEL_1), (相, LABEL_1), (结, LABEL_1), (合, LABEL_1), (，, LABEL_1), (结, LABEL_1), (成, LABEL_1), (了, LABEL_1), (很, LABEL_1), (厚, LABEL_1), (的, LABEL_1), (矿, LABEL_1), (石, LABEL_1), (层, LABEL_1), (，, LABEL_1)\n",
      "news 8 entities: (如, LABEL_1), (何, LABEL_1), (来, LABEL_1), (形, LABEL_1), (容, LABEL_1), (当, LABEL_1), (下, LABEL_1), (的, LABEL_1), (股, LABEL_1), (市, LABEL_1), (，, LABEL_1), (相, LABEL_1), (信, LABEL_1), (红, LABEL_1), (茶, LABEL_1), (馆, LABEL_1), (里, LABEL_1), (的, LABEL_1), (茶, LABEL_1), (客, LABEL_1), (们, LABEL_1), (都, LABEL_1), (会, LABEL_1), (异, LABEL_1), (口, LABEL_1), (同, LABEL_1), (声, LABEL_1), (道, LABEL_1), (：, LABEL_1), (“, LABEL_1), (牛, LABEL_1), (！, LABEL_1), (”, LABEL_1), (那, LABEL_1), (为, LABEL_1), (什, LABEL_1), (么, LABEL_1), (会, LABEL_1), (么, LABEL_1), (牛, LABEL_1), (呢, LABEL_1), (？, LABEL_1), (有, LABEL_1), (人, LABEL_1), (会, LABEL_1), (回, LABEL_1), (：, LABEL_1), (连, LABEL_1), (续, LABEL_1), (下, LABEL_1), (跌, LABEL_1), (了, LABEL_1), (五, LABEL_1), (年, LABEL_1), (才, LABEL_1), (来, LABEL_1), (了, LABEL_1), (此, LABEL_1), (牛, LABEL_1), (。, LABEL_1), (”, LABEL_1), (有, LABEL_1), (会, LABEL_1), (说, LABEL_1), (：, LABEL_1), (“, LABEL_1), (是, LABEL_1), (股, LABEL_1), (带, LABEL_1), (来, LABEL_1), (中, LABEL_1), (国, LABEL_1), (股, LABEL_1), (的, LABEL_1), (投, LABEL_1), (资, LABEL_1), (会, LABEL_1), (。, LABEL_1), (”, LABEL_1), (还, LABEL_1), (有, LABEL_1), (人, LABEL_1), (说, LABEL_1), (：, LABEL_1), (的, LABEL_1), (外, LABEL_1), (资, LABEL_1), (涌, LABEL_1), (入, LABEL_1), (才, LABEL_1), (给, LABEL_1), (了, LABEL_1), (股, LABEL_1), (春, LABEL_1), (天, LABEL_1), (！, LABEL_1), (”, LABEL_1), (都, LABEL_1), (，, LABEL_1), (但, LABEL_1), (最, LABEL_1), (中, LABEL_1), (国, LABEL_1), (股, LABEL_1), (牛, LABEL_1), (中, LABEL_1), (国, LABEL_1), (给, LABEL_1), (中, LABEL_1), (国, LABEL_1), (股, LABEL_1), (。, LABEL_1), (是, LABEL_1), (有, LABEL_1), (了, LABEL_1), (每, LABEL_1), (年, LABEL_1), (高, LABEL_1), (速, LABEL_1), (增, LABEL_1), (长, LABEL_1), (的, LABEL_1), (经, LABEL_1), (济, LABEL_1), (，, LABEL_1), (让, LABEL_1), (中, LABEL_1), (国, LABEL_1), (为, LABEL_1), (了, LABEL_1), (世, LABEL_1), (界, LABEL_1), (的, LABEL_1), (焦, LABEL_1), (，, LABEL_1), (中, LABEL_1), (国, LABEL_1), (股, LABEL_1), (也, LABEL_1), (成, LABEL_1), (为, LABEL_1), (全, LABEL_1), (世, LABEL_1), (界, LABEL_1), (关, LABEL_1), (注, LABEL_1), (的, LABEL_1), (目, LABEL_1), (标, LABEL_1), (，, LABEL_1), (一, LABEL_1), (年, LABEL_1), (接, LABEL_1), (100, LABEL_1), (％, LABEL_1), (涨, LABEL_1), (幅, LABEL_1), (让, LABEL_1), (个, LABEL_1), (曾, LABEL_1), (经, LABEL_1), (饱, LABEL_1), (受, LABEL_1), (争, LABEL_1), (议, LABEL_1), (的, LABEL_1), (金, LABEL_1), (融, LABEL_1), (市, LABEL_1), (场, LABEL_1), (也, LABEL_1), (成, LABEL_1), (为, LABEL_1), (了, LABEL_1), (全, LABEL_1), (球, LABEL_1), (最, LABEL_1), (闪, LABEL_1), (亮, LABEL_1), (点, LABEL_1), (，, LABEL_1), (投, LABEL_1), (者, LABEL_1), (疯, LABEL_1), (狂, LABEL_1), (，, LABEL_1), (陶, LABEL_1), (醉, LABEL_1), (，, LABEL_1), (那, LABEL_1), (么, LABEL_1), (为, LABEL_1), (个, LABEL_1), (的, LABEL_1), (投, LABEL_1), (资, LABEL_1), (者, LABEL_1), (之, LABEL_1), (一, LABEL_1), (，, LABEL_1), (我, LABEL_1), (们, LABEL_1), (又, LABEL_1), (怎, LABEL_1), (面, LABEL_1), (个, LABEL_1), (市, LABEL_1), (呢, LABEL_1), (？, LABEL_1), (今, LABEL_1), (年, LABEL_1), (在, LABEL_1), (个, LABEL_1), (市, LABEL_1), (中, LABEL_1), (赚, LABEL_1), (100, LABEL_1), (％, LABEL_1), (的, LABEL_1), (人, LABEL_1), (可, LABEL_1), (以, LABEL_1), (说, LABEL_1), (不, LABEL_1), (数, LABEL_1), (，, LABEL_1), (赚, LABEL_1), (％, LABEL_1), (以, LABEL_1), (上, LABEL_1), (的, LABEL_1), (也, LABEL_1), (不, LABEL_1), (是, LABEL_1), (屈, LABEL_1), (指, LABEL_1), (可, LABEL_1), (数, LABEL_1), (，, LABEL_1), (甚, LABEL_1), (至, LABEL_1), (有, LABEL_1), (不, LABEL_1), (少, LABEL_1), (人, LABEL_1), (上, LABEL_1), (一, LABEL_1), (年, LABEL_1), (十, LABEL_1), (倍, LABEL_1), (的, LABEL_1), (股, LABEL_1), (市, LABEL_1), (话, LABEL_1), (，, LABEL_1), (但, LABEL_1), (是, LABEL_1), (我, LABEL_1), (们, LABEL_1), (数, LABEL_1), (人, LABEL_1), (赚, LABEL_1), (钱, LABEL_1), (的, LABEL_1), (也, LABEL_1), (在, LABEL_1), (个, LABEL_1), (市, LABEL_1), (中, LABEL_1), (。, LABEL_1), (今, LABEL_1), (年, LABEL_1), (整, LABEL_1), (个, LABEL_1), (股, LABEL_1), (低, LABEL_1), (到, LABEL_1), (高, LABEL_1), (，, LABEL_1), (很, LABEL_1), (多, LABEL_1), (都, LABEL_1), (翻, LABEL_1), (番, LABEL_1), (止, LABEL_1), (，, LABEL_1), (但, LABEL_1), (我, LABEL_1), (们, LABEL_1), (依, LABEL_1), (旧, LABEL_1), (很, LABEL_1), (多, LABEL_1), (，, LABEL_1), (，, LABEL_1), (更, LABEL_1), (有, LABEL_1), (甚, LABEL_1), (至, LABEL_1), (之, LABEL_1), (上, LABEL_1), (，, LABEL_1), (如, LABEL_1), (果, LABEL_1), (我, LABEL_1), (们, LABEL_1), (之, LABEL_1), (中, LABEL_1), (有, LABEL_1), (人, LABEL_1), (买, LABEL_1), (样, LABEL_1), (的, LABEL_1), (股, LABEL_1), (怎, LABEL_1), (么, LABEL_1), (啊, LABEL_1), (？, LABEL_1), (牛, LABEL_1), (，, LABEL_1), (熊, LABEL_1), (，, LABEL_1), (既, LABEL_1), (然, LABEL_1), (现, LABEL_1), (在, LABEL_1), (你, LABEL_1), (手, LABEL_1), (中, LABEL_1), (的, LABEL_1), (股, LABEL_1), (有, LABEL_1), (上, LABEL_1), (攻, LABEL_1), (，, LABEL_1), (那, LABEL_1), (么, LABEL_1), (一, LABEL_1), (旦, LABEL_1), (下, LABEL_1), (跌, LABEL_1), (来, LABEL_1), (之, LABEL_1), (，, LABEL_1), (会, LABEL_1), (不, LABEL_1), (会, LABEL_1), (下, LABEL_1), (跌, LABEL_1), (？, LABEL_1), (然, LABEL_1), (。, LABEL_1), (那, LABEL_1), (么, LABEL_1), (候, LABEL_1), (我, LABEL_1), (们, LABEL_1), (最, LABEL_1), (需, LABEL_1), (要, LABEL_1), (干, LABEL_1)\n",
      "news 9 entities: (招, LABEL_1), (商, LABEL_1), (源, LABEL_1), (输, LABEL_1), (股, LABEL_1), (份, LABEL_1), (有, LABEL_1), (限, LABEL_1), (公, LABEL_1), (司, LABEL_1), (于, LABEL_1), (流, LABEL_1), (，, LABEL_1), (券, LABEL_1), (简, LABEL_1), (称, LABEL_1), (为, LABEL_1), (“, LABEL_1), (招, LABEL_1), (商, LABEL_1), (，, LABEL_1), (##2, LABEL_1), (,, LABEL_1), (为, LABEL_1), (71, LABEL_1), (元, LABEL_1), (,, LABEL_1), (司, LABEL_1), (由, LABEL_1), (招, LABEL_1), (商, LABEL_1), (集, LABEL_1), (团, LABEL_1), (手, LABEL_1), (中, LABEL_1), (石, LABEL_1), (集, LABEL_1), (、, LABEL_1), (中, LABEL_1), (化, LABEL_1), (集, LABEL_1), (、, LABEL_1), (中, LABEL_1), (远, LABEL_1), (和, LABEL_1), (中, LABEL_1), (海, LABEL_1), (油, LABEL_1), (同, LABEL_1), (起, LABEL_1), (立, LABEL_1), (的, LABEL_1), (国, LABEL_1), (内, LABEL_1), (最, LABEL_1), (大, LABEL_1), (的, LABEL_1), (远, LABEL_1), (洋, LABEL_1), (油, LABEL_1), (输, LABEL_1), (企, LABEL_1), (业, LABEL_1), (，, LABEL_1), (它, LABEL_1), (占, LABEL_1), (有, LABEL_1), (内, LABEL_1), (远, LABEL_1), (洋, LABEL_1), (原, LABEL_1), (油, LABEL_1), (28, LABEL_1), (., LABEL_1), (2, LABEL_1), (%, LABEL_1), (的, LABEL_1), (市, LABEL_1), (场, LABEL_1), (份, LABEL_1), (额, LABEL_1), (。, LABEL_1), (为, LABEL_1), (目, LABEL_1), (前, LABEL_1), (中, LABEL_1), (国, LABEL_1), (一, LABEL_1), (一, LABEL_1), (家, LABEL_1), (有, LABEL_1), (40, LABEL_1), (多, LABEL_1), (的, LABEL_1), (油, LABEL_1), (东, LABEL_1), (，, LABEL_1), (该, LABEL_1), (司, LABEL_1), (专, LABEL_1), (从, LABEL_1), (事, LABEL_1), (远, LABEL_1), (洋, LABEL_1), (油, LABEL_1), (、, LABEL_1), (干, LABEL_1), (散, LABEL_1), (和, LABEL_1), (化, LABEL_1), (天, LABEL_1), (然, LABEL_1), (), LABEL_1), (输, LABEL_1), (，, LABEL_1), (其, LABEL_1), (下, LABEL_1), (属, LABEL_1), (的, LABEL_1), (中, LABEL_1), (国, LABEL_1), (液, LABEL_1), (化, LABEL_1), (天, LABEL_1), (然, LABEL_1), (输, LABEL_1), ((, LABEL_1), (), LABEL_1), (有, LABEL_1), (公, LABEL_1), (司, LABEL_1), ((, LABEL_1), (), LABEL_1), (是, LABEL_1), (目, LABEL_1), (前, LABEL_1), (国, LABEL_1), (内, LABEL_1), (一, LABEL_1), (一, LABEL_1), (家, LABEL_1), (专, LABEL_1), (经, LABEL_1), (营, LABEL_1), (务, LABEL_1), (的, LABEL_1), (公, LABEL_1), (司, LABEL_1), (。, LABEL_1), (公, LABEL_1), (司, LABEL_1), (募, LABEL_1), (资, LABEL_1), (主, LABEL_1), (要, LABEL_1), (扩, LABEL_1), (油, LABEL_1), (建, LABEL_1), (造, LABEL_1), (化, LABEL_1), (天, LABEL_1), (然, LABEL_1), (输, LABEL_1), (，, LABEL_1), (未, LABEL_1), (来, LABEL_1), (三, LABEL_1), (油, LABEL_1), (番, LABEL_1), (、, LABEL_1), (油, LABEL_1), (扩, LABEL_1), (目, LABEL_1), (预, LABEL_1), (计, LABEL_1), (募, LABEL_1), (金, LABEL_1), (50, LABEL_1), (68, LABEL_1), (元, LABEL_1), (2, LABEL_1), (造, LABEL_1), (化, LABEL_1), (然, LABEL_1), (51, LABEL_1), (合, LABEL_1), (来, LABEL_1), (看, LABEL_1), (，, LABEL_1), (公, LABEL_1), (司, LABEL_1), (是, LABEL_1), (中, LABEL_1), (国, LABEL_1), (远, LABEL_1), (洋, LABEL_1), (源, LABEL_1), (市, LABEL_1), (的, LABEL_1), (领, LABEL_1), (先, LABEL_1), (者, LABEL_1), (；, LABEL_1), (公, LABEL_1), (司, LABEL_1), (所, LABEL_1), (处, LABEL_1), (的, LABEL_1), (中, LABEL_1), (国, LABEL_1), (源, LABEL_1), (一, LABEL_1), (个, LABEL_1), (高, LABEL_1), (增, LABEL_1), (长, LABEL_1), (的, LABEL_1), (市, LABEL_1), (；, LABEL_1), (国, LABEL_1), (家, LABEL_1), (源, LABEL_1), (”, LABEL_1), (为, LABEL_1), (中, LABEL_1), (国, LABEL_1), (东, LABEL_1), (供, LABEL_1), (了, LABEL_1), (发, LABEL_1), (；, LABEL_1), (公, LABEL_1), (司, LABEL_1), (已, LABEL_1), (经, LABEL_1), (安, LABEL_1), (了, LABEL_1), (未, LABEL_1), (来, LABEL_1), (三, LABEL_1), (年, LABEL_1), (油, LABEL_1), (的, LABEL_1), (扩, LABEL_1), (张, LABEL_1), (，, LABEL_1), (以, LABEL_1), (最, LABEL_1), (大, LABEL_1), (限, LABEL_1), (度, LABEL_1), (地, LABEL_1), (抓, LABEL_1), (住, LABEL_1), (高, LABEL_1), (速, LABEL_1), (增, LABEL_1), (长, LABEL_1), (的, LABEL_1), (市, LABEL_1), (益, LABEL_1), (；, LABEL_1), (公, LABEL_1), (司, LABEL_1), (在, LABEL_1), (发, LABEL_1), (展, LABEL_1), (前, LABEL_1), (景, LABEL_1), (广, LABEL_1), (的, LABEL_1), (市, LABEL_1), (场, LABEL_1), (占, LABEL_1), (据, LABEL_1), (了, LABEL_1), (先, LABEL_1), (，, LABEL_1), (目, LABEL_1), (前, LABEL_1), (是, LABEL_1), (中, LABEL_1), (国, LABEL_1), (一, LABEL_1), (一, LABEL_1), (家, LABEL_1), (专, LABEL_1), (公, LABEL_1), (司, LABEL_1), (；, LABEL_1), (公, LABEL_1), (司, LABEL_1), (有, LABEL_1), (世, LABEL_1), (界, LABEL_1), (级, LABEL_1), (的, LABEL_1), (源, LABEL_1), (输, LABEL_1), (理, LABEL_1), (水, LABEL_1), (平, LABEL_1), (结, LABEL_1), (市, LABEL_1), (场, LABEL_1), (状, LABEL_1), (况, LABEL_1), (，, LABEL_1), (预, LABEL_1), (计, LABEL_1), (上, LABEL_1)\n",
      "news 10 entities: (经, LABEL_1), (过, LABEL_1), (连, LABEL_1), (续, LABEL_1), (两, LABEL_1), (个, LABEL_1), (交, LABEL_1), (易, LABEL_1), (日, LABEL_1), (的, LABEL_1), (震, LABEL_1), (荡, LABEL_1), (调, LABEL_1), (整, LABEL_1), (之, LABEL_1), (后, LABEL_1), (，, LABEL_1), (周, LABEL_1), (四, LABEL_1), (B, LABEL_1), (股, LABEL_1), (多, LABEL_1), (方, LABEL_1), (再, LABEL_1), (度, LABEL_1), (，, LABEL_1), (数, LABEL_1), (大, LABEL_1), (幅, LABEL_1), (收, LABEL_1), (高, LABEL_1), (，, LABEL_1), (中, LABEL_1), (涨, LABEL_1), (幅, LABEL_1), (超, LABEL_1), (5, LABEL_1), (%, LABEL_1), (，, LABEL_1), (涨, LABEL_1), (幅, LABEL_1), (超, LABEL_1), (%, LABEL_1), (，, LABEL_1), (很, LABEL_1), (明, LABEL_1), (B, LABEL_1), (股, LABEL_1), (股, LABEL_1), (股, LABEL_1), (。, LABEL_1), (个, LABEL_1), (股, LABEL_1), (方, LABEL_1), (面, LABEL_1), (，, LABEL_1), (市, LABEL_1), (上, LABEL_1), (涨, LABEL_1), (股, LABEL_1), (超, LABEL_1), (过, LABEL_1), (下, LABEL_1), (跌, LABEL_1), (股, LABEL_1), (，, LABEL_1), (中, LABEL_1), (深, LABEL_1), (市, LABEL_1), (B, LABEL_1), (权, LABEL_1), (重, LABEL_1), (股, LABEL_1), (表, LABEL_1), (现, LABEL_1), (尤, LABEL_1), (其, LABEL_1), (突, LABEL_1), (出, LABEL_1), (，, LABEL_1), (对, LABEL_1), (数, LABEL_1), (贡, LABEL_1), (献, LABEL_1), (很, LABEL_1), (。, LABEL_1), (从, LABEL_1), (近, LABEL_1), (日, LABEL_1), (看, LABEL_1), (，, LABEL_1), (再, LABEL_1), (度, LABEL_1), (收, LABEL_1), (上, LABEL_1), (中, LABEL_1), (，, LABEL_1), (数, LABEL_1), (仍, LABEL_1), (于, LABEL_1), (上, LABEL_1), (升, LABEL_1), (道, LABEL_1), (中, LABEL_1), (，, LABEL_1), (且, LABEL_1), (势, LABEL_1), (回, LABEL_1), (没, LABEL_1), (有, LABEL_1), (给, LABEL_1), (投, LABEL_1), (资, LABEL_1), (多, LABEL_1), (的, LABEL_1), (会, LABEL_1), (。, LABEL_1), (B, LABEL_1), (走, LABEL_1), (强, LABEL_1), (主, LABEL_1), (要, LABEL_1), (：, LABEL_1), (一, LABEL_1), (如, LABEL_1), (万, LABEL_1), (科, LABEL_1), (、, LABEL_1), (杭, LABEL_1), (，, LABEL_1), (现, LABEL_1), (在, LABEL_1), (都, LABEL_1), (相, LABEL_1), (当, LABEL_1), (好, LABEL_1), (，, LABEL_1), (使, LABEL_1), (得, LABEL_1), (B, LABEL_1), (在, LABEL_1), (某, LABEL_1), (种, LABEL_1), (程, LABEL_1), (度, LABEL_1), (上, LABEL_1), (了, LABEL_1), (价, LABEL_1), (投, LABEL_1), (资, LABEL_1), (的, LABEL_1), (空, LABEL_1), (间, LABEL_1), (。, LABEL_1), (事, LABEL_1), (实, LABEL_1), (上, LABEL_1), (，, LABEL_1), (B, LABEL_1), (之, LABEL_1), (所, LABEL_1), (以, LABEL_1), (够, LABEL_1), (在, LABEL_1), (沪, LABEL_1), (四, LABEL_1), (中, LABEL_1), (先, LABEL_1), (新, LABEL_1), (高, LABEL_1), (，, LABEL_1), (就, LABEL_1), (是, LABEL_1), (和, LABEL_1), (它, LABEL_1), (有, LABEL_1), (一, LABEL_1), (权, LABEL_1), (重, LABEL_1), (大, LABEL_1), (的, LABEL_1), (分, LABEL_1), (不, LABEL_1), (开, LABEL_1), (的, LABEL_1), (。, LABEL_1), (当, LABEL_1), (一, LABEL_1), (股, LABEL_1), (上, LABEL_1), (了, LABEL_1), (一, LABEL_1), (个, LABEL_1), (台, LABEL_1), (阶, LABEL_1), (之, LABEL_1), (后, LABEL_1), (，, LABEL_1), (二, LABEL_1), (也, LABEL_1), (蠢, LABEL_1), (蠢, LABEL_1), (动, LABEL_1), (，, LABEL_1), (一, LABEL_1), (步, LABEL_1), (支, LABEL_1), (了, LABEL_1), (。, LABEL_1), (上, LABEL_1), (看, LABEL_1), (，, LABEL_1), (人, LABEL_1), (民, LABEL_1), (入, LABEL_1), (长, LABEL_1), (升, LABEL_1), (期, LABEL_1), (，, LABEL_1), (外, LABEL_1), (资, LABEL_1), (入, LABEL_1), (我, LABEL_1), (国, LABEL_1), (金, LABEL_1), (模, LABEL_1), (前, LABEL_1), (的, LABEL_1), (,, LABEL_1), (上, LABEL_1), (，, LABEL_1), (现, LABEL_1), (在, LABEL_1), (B, LABEL_1), (的, LABEL_1), (走, LABEL_1), (有, LABEL_1), (不, LABEL_1), (相, LABEL_1), (同, LABEL_1), (的, LABEL_1), (内, LABEL_1), (在, LABEL_1), (，, LABEL_1), (但, LABEL_1), (是, LABEL_1), (人, LABEL_1), (们, LABEL_1), (也, LABEL_1), (应, LABEL_1), (，, LABEL_1), (上, LABEL_1), (涨, LABEL_1), (重, LABEL_1), (要, LABEL_1), (因, LABEL_1), (素, LABEL_1), (以, LABEL_1), (目, LABEL_1), (前, LABEL_1), (经, LABEL_1), (济, LABEL_1), (有, LABEL_1), (影, LABEL_1), (响, LABEL_1), (的, LABEL_1), (升, LABEL_1), (，, LABEL_1), (对, LABEL_1), (A, LABEL_1), (股, LABEL_1), (股, LABEL_1), (都, LABEL_1), (是, LABEL_1), (的, LABEL_1), (，, LABEL_1), (而, LABEL_1), (且, LABEL_1), (似, LABEL_1), (乎, LABEL_1), (对, LABEL_1), (股, LABEL_1), (的, LABEL_1), (更, LABEL_1), (一, LABEL_1), (些, LABEL_1), (。, LABEL_1), (另, LABEL_1), (外, LABEL_1), (，, LABEL_1), (B, LABEL_1), (毕, LABEL_1), (竟, LABEL_1), (是, LABEL_1), (现, LABEL_1), (在, LABEL_1), (海, LABEL_1), (外, LABEL_1), (投, LABEL_1), (资, LABEL_1), (者, LABEL_1), (不, LABEL_1), (受, LABEL_1), (度, LABEL_1), (身, LABEL_1), (份, LABEL_1), (限, LABEL_1), (制, LABEL_1), (投, LABEL_1), (资, LABEL_1), (内, LABEL_1), (地, LABEL_1), (上, LABEL_1), (市, LABEL_1), (可, LABEL_1), (流, LABEL_1), (通, LABEL_1), (股, LABEL_1), (的, LABEL_1), (一, LABEL_1), (通, LABEL_1), (道, LABEL_1), (。, LABEL_1), (因, LABEL_1), (此, LABEL_1), (，, LABEL_1), (B, LABEL_1), (股, LABEL_1), (的, LABEL_1), (行, LABEL_1), (情, LABEL_1), (多, LABEL_1), (少, LABEL_1), (也, LABEL_1), (外, LABEL_1), (资, LABEL_1)\n",
      "news 11 entities: (大, LABEL_1), (行, LABEL_1), (成, LABEL_1), (交, LABEL_1), (金, LABEL_1), (相, LABEL_1), (加, LABEL_1), (达, LABEL_1), (到, LABEL_1), (71, LABEL_1), (##3, LABEL_1), (元, LABEL_1), (，, LABEL_1), (为, LABEL_1), (8, LABEL_1), (份, LABEL_1), (以, LABEL_1), (来, LABEL_1), (的, LABEL_1), (最, LABEL_1), (成, LABEL_1), (交, LABEL_1), (，, LABEL_1), (也, LABEL_1), (是, LABEL_1), (5, LABEL_1), (以, LABEL_1), (来, LABEL_1), (的, LABEL_1), (第, LABEL_1), (三, LABEL_1), (成, LABEL_1), (交, LABEL_1), (，, LABEL_1), (增, LABEL_1), (资, LABEL_1), (金, LABEL_1), (快, LABEL_1), (象, LABEL_1), (，, LABEL_1), (加, LABEL_1), (速, LABEL_1), (局, LABEL_1), (在, LABEL_1), (继, LABEL_1), (续, LABEL_1), (，, LABEL_1), (今, LABEL_1), (天, LABEL_1), (在, LABEL_1), (，, LABEL_1), (沪, LABEL_1), (向, LABEL_1), (高, LABEL_1), (##5, LABEL_1), (和, LABEL_1), (冲, LABEL_1), (，, LABEL_1), (向, LABEL_1), (高, LABEL_1), (冲, LABEL_1), (，, LABEL_1), (中, LABEL_1), (市, LABEL_1), (新, LABEL_1), (的, LABEL_1), (章, LABEL_1), (。, LABEL_1), (分, LABEL_1), (于, LABEL_1), (增, LABEL_1), (金, LABEL_1), (快, LABEL_1), (，, LABEL_1), (股, LABEL_1), (增, LABEL_1), (加, LABEL_1), (，, LABEL_1), (个, LABEL_1), (股, LABEL_1), (普, LABEL_1), (涨, LABEL_1), (局, LABEL_1), (慢, LABEL_1), (慢, LABEL_1), (，, LABEL_1), (投, LABEL_1), (者, LABEL_1), (可, LABEL_1), (加, LABEL_1), (度, LABEL_1), (，, LABEL_1), (对, LABEL_1), (加, LABEL_1), (个, LABEL_1), (股, LABEL_1), (进, LABEL_1), (，, LABEL_1), (底, LABEL_1), (部, LABEL_1), (放, LABEL_1), (明, LABEL_1), (的, LABEL_1), (个, LABEL_1), (股, LABEL_1), (，, LABEL_1), (差, LABEL_1), (、, LABEL_1), (亏, LABEL_1), (损, LABEL_1), (股, LABEL_1), (逢, LABEL_1), (高, LABEL_1), (降, LABEL_1), (低, LABEL_1), (仓, LABEL_1), (位, LABEL_1), (，, LABEL_1), (回, LABEL_1), (。, LABEL_1), (板, LABEL_1), (块, LABEL_1), (分, LABEL_1), (析, LABEL_1), (大, LABEL_1), (盘, LABEL_1), (权, LABEL_1), (重, LABEL_1), (股, LABEL_1), (：, LABEL_1), (可, LABEL_1), (关, LABEL_1), (，, LABEL_1), (重, LABEL_1), (涨, LABEL_1), (幅, LABEL_1), (的, LABEL_1), (品, LABEL_1), (种, LABEL_1), (上, LABEL_1), (，, LABEL_1), (尤, LABEL_1), (其, LABEL_1), (是, LABEL_1), (大, LABEL_1), (的, LABEL_1), (个, LABEL_1), (股, LABEL_1), (。, LABEL_1), (地, LABEL_1), (产, LABEL_1), (、, LABEL_1), (金, LABEL_1), (融, LABEL_1), (：, LABEL_1), (在, LABEL_1), (经, LABEL_1), (过, LABEL_1), (技, LABEL_1), (术, LABEL_1), (之, LABEL_1), (后, LABEL_1), (，, LABEL_1), (仍, LABEL_1), (有, LABEL_1), (强, LABEL_1), (势, LABEL_1), (的, LABEL_1), (表, LABEL_1), (现, LABEL_1), (，, LABEL_1), (继, LABEL_1), (推, LABEL_1), (短, LABEL_1), (线, LABEL_1), (会, LABEL_1), (较, LABEL_1), (好, LABEL_1), (。, LABEL_1), (钢, LABEL_1), (铁, LABEL_1), (板, LABEL_1), (块, LABEL_1), (：, LABEL_1), (继, LABEL_1), (加, LABEL_1), (短, LABEL_1), (会, LABEL_1), (较, LABEL_1), (好, LABEL_1), (。, LABEL_1), (工, LABEL_1), (程, LABEL_1), (：, LABEL_1), (加, LABEL_1), (度, LABEL_1), (，, LABEL_1), (尤, LABEL_1), (其, LABEL_1), (是, LABEL_1), (被, LABEL_1), (金, LABEL_1), (的, LABEL_1), (品, LABEL_1), (种, LABEL_1), (。, LABEL_1), (水, LABEL_1), (：, LABEL_1), (未, LABEL_1), (来, LABEL_1), (的, LABEL_1), (之, LABEL_1), (一, LABEL_1), (，, LABEL_1), (价, LABEL_1), (格, LABEL_1), (低, LABEL_1), (品, LABEL_1), (种, LABEL_1), (的, LABEL_1), (中, LABEL_1), (线, LABEL_1), (。, LABEL_1), (行, LABEL_1), (业, LABEL_1), (：, LABEL_1), (可, LABEL_1), (。, LABEL_1), (力, LABEL_1), (高, LABEL_1), (：, LABEL_1), (品, LABEL_1), (种, LABEL_1), (，, LABEL_1), (但, LABEL_1), (，, LABEL_1), (属, LABEL_1), (于, LABEL_1), (的, LABEL_1), (品, LABEL_1), (种, LABEL_1), (。, LABEL_1), (科, LABEL_1), (：, LABEL_1), (个, LABEL_1), (股, LABEL_1), (多, LABEL_1), (，, LABEL_1), (容, LABEL_1), (易, LABEL_1), (把, LABEL_1), (。, LABEL_1), (股, LABEL_1), (路, LABEL_1), (短, LABEL_1), (方, LABEL_1), (面, LABEL_1), (，, LABEL_1), (强, LABEL_1), (者, LABEL_1), (恒, LABEL_1), (强, LABEL_1), (将, LABEL_1), (持, LABEL_1), (，, LABEL_1), (新, LABEL_1), (高, LABEL_1), (之, LABEL_1), (有, LABEL_1), (新, LABEL_1), (高, LABEL_1), (，, LABEL_1), (是, LABEL_1), (牛, LABEL_1), (变, LABEL_1), (的, LABEL_1), (特, LABEL_1), (点, LABEL_1), (，, LABEL_1), (史, LABEL_1), (新, LABEL_1), (高, LABEL_1), (的, LABEL_1), (个, LABEL_1), (股, LABEL_1), (短, LABEL_1), (会, LABEL_1), (众, LABEL_1), (多, LABEL_1), (，, LABEL_1), (尤, LABEL_1), (其, LABEL_1), (随, LABEL_1), (高, LABEL_1), (，, LABEL_1), (较, LABEL_1), (日, LABEL_1), (涨, LABEL_1), (幅, LABEL_1), (而, LABEL_1), (且, LABEL_1), (成, LABEL_1), (交, LABEL_1)\n",
      "news 12 entities: (网, LABEL_1), (30, LABEL_1), (日, LABEL_1), (讯, LABEL_1), (近, LABEL_1), (日, LABEL_1), (，, LABEL_1), (企, LABEL_1), (培, LABEL_1), (训, LABEL_1), (中, LABEL_1), (心, LABEL_1), (在, LABEL_1), (办, LABEL_1), (了, LABEL_1), (第, LABEL_1), (五, LABEL_1), (期, LABEL_1), (“, LABEL_1), (资, LABEL_1), (本, LABEL_1), (制, LABEL_1), (度, LABEL_1), (”, LABEL_1), (来, LABEL_1), (自, LABEL_1), (构, LABEL_1), (、, LABEL_1), (司, LABEL_1), (、, LABEL_1), (金, LABEL_1), (司, LABEL_1), (、, LABEL_1), (上, LABEL_1), (有, LABEL_1), (关, LABEL_1), (中, LABEL_1), (介, LABEL_1), (构, LABEL_1), (的, LABEL_1), (260, LABEL_1), (多, LABEL_1), (名, LABEL_1), (专, LABEL_1), (人, LABEL_1), (士, LABEL_1), (加, LABEL_1), (培, LABEL_1), (交, LABEL_1), (总, LABEL_1), (经, LABEL_1), (理, LABEL_1), (张, LABEL_1), (颖, LABEL_1), (在, LABEL_1), (开, LABEL_1), (仪, LABEL_1), (式, LABEL_1), (上, LABEL_1), (说, LABEL_1), (，, LABEL_1), (新, LABEL_1), (“, LABEL_1), (股, LABEL_1), (权, LABEL_1), (为, LABEL_1), (我, LABEL_1), (国, LABEL_1), (资, LABEL_1), (本, LABEL_1), (品, LABEL_1), (制, LABEL_1), (度, LABEL_1), (了, LABEL_1), (间, LABEL_1), (，, LABEL_1), (良, LABEL_1), (好, LABEL_1), (的, LABEL_1), (市, LABEL_1), (场, LABEL_1), (境, LABEL_1), (，, LABEL_1), (将, LABEL_1), (一, LABEL_1), (如, LABEL_1), (既, LABEL_1), (往, LABEL_1), (地, LABEL_1), (大, LABEL_1), (支, LABEL_1), (持, LABEL_1), (、, LABEL_1), (积, LABEL_1), (极, LABEL_1), (推, LABEL_1), (动, LABEL_1), (市, LABEL_1), (与, LABEL_1), (各, LABEL_1), (方, LABEL_1), (的, LABEL_1), (创, LABEL_1), (新, LABEL_1), (动, LABEL_1), (在, LABEL_1), (两, LABEL_1), (天, LABEL_1), (的, LABEL_1), (研, LABEL_1), (讨, LABEL_1), (活, LABEL_1), (动, LABEL_1), (中, LABEL_1), (，, LABEL_1), (来, LABEL_1), (自, LABEL_1), (中, LABEL_1), (国, LABEL_1), (、, LABEL_1), (中, LABEL_1), (国, LABEL_1), (协, LABEL_1), (会, LABEL_1), (有, LABEL_1), (关, LABEL_1), (的, LABEL_1), (专, LABEL_1), (家, LABEL_1), (就, LABEL_1), (目, LABEL_1), (前, LABEL_1), (我, LABEL_1), (国, LABEL_1), (本, LABEL_1), (品, LABEL_1), (制, LABEL_1), (度, LABEL_1), (创, LABEL_1), (新, LABEL_1), (的, LABEL_1), (政, LABEL_1), (策, LABEL_1), (导, LABEL_1), (、, LABEL_1), (前, LABEL_1), (沿, LABEL_1), (动, LABEL_1), (态, LABEL_1), (等, LABEL_1), (进, LABEL_1), (行, LABEL_1), (了, LABEL_1), (浅, LABEL_1), (的, LABEL_1), (讲, LABEL_1), (解, LABEL_1), (，, LABEL_1), (并, LABEL_1), (与, LABEL_1), (学, LABEL_1), (员, LABEL_1), (开, LABEL_1), (了, LABEL_1), (的, LABEL_1), (交, LABEL_1), (流, LABEL_1), (与, LABEL_1), (。, LABEL_1), (许, LABEL_1), (多, LABEL_1), (学, LABEL_1), (员, LABEL_1), (会, LABEL_1), (表, LABEL_1), (示, LABEL_1), (，, LABEL_1), (研, LABEL_1), (讨, LABEL_1), (专, LABEL_1), (紧, LABEL_1), (扣, LABEL_1), (当, LABEL_1), (前, LABEL_1), (大, LABEL_1), (家, LABEL_1), (普, LABEL_1), (遍, LABEL_1), (关, LABEL_1), (心, LABEL_1), (的, LABEL_1), (本, LABEL_1), (品, LABEL_1), (制, LABEL_1), (度, LABEL_1), (的, LABEL_1), (，, LABEL_1), (内, LABEL_1), (容, LABEL_1), (，, LABEL_1), (参, LABEL_1), (加, LABEL_1), (很, LABEL_1), (大, LABEL_1), (。, LABEL_1), (（, LABEL_1), (网, LABEL_1), (）, LABEL_1)\n",
      "news 13 entities: (全, LABEL_1), (景, LABEL_1), (网, LABEL_1), (30, LABEL_1), (日, LABEL_1), (讯, LABEL_1), (台, LABEL_1), (湾, LABEL_1), (期, LABEL_1), (货, LABEL_1), (市, LABEL_1), (发, LABEL_1), (展, LABEL_1), (金, LABEL_1), (会, LABEL_1), (董, LABEL_1), (事, LABEL_1), (克, LABEL_1), (先, LABEL_1), (生, LABEL_1), (日, LABEL_1), (前, LABEL_1), (在, LABEL_1), (创, LABEL_1), (企, LABEL_1), (培, LABEL_1), (训, LABEL_1), (心, LABEL_1), (举, LABEL_1), (办, LABEL_1), (的, LABEL_1), (“, LABEL_1), (资, LABEL_1), (本, LABEL_1), (制, LABEL_1), (度, LABEL_1), (讨, LABEL_1), (班, LABEL_1), (”, LABEL_1), (上, LABEL_1), (做, LABEL_1), (了, LABEL_1), (题, LABEL_1), (为, LABEL_1), (“, LABEL_1), (台, LABEL_1), (湾, LABEL_1), (股, LABEL_1), (狂, LABEL_1), (飙, LABEL_1), (时, LABEL_1), (的, LABEL_1), (金, LABEL_1), (融, LABEL_1), (监, LABEL_1), (反, LABEL_1), (”, LABEL_1), (的, LABEL_1), (演, LABEL_1), (讲, LABEL_1), (。, LABEL_1), (克, LABEL_1), (华, LABEL_1), (先, LABEL_1), (生, LABEL_1), (首, LABEL_1), (先, LABEL_1), (介, LABEL_1), (绍, LABEL_1), (了, LABEL_1), (上, LABEL_1), (世, LABEL_1), (八, LABEL_1), (、, LABEL_1), (十, LABEL_1), (代, LABEL_1), (台, LABEL_1), (湾, LABEL_1), (股, LABEL_1), (伴, LABEL_1), (随, LABEL_1), (当, LABEL_1), (时, LABEL_1), (台, LABEL_1), (湾, LABEL_1), (外, LABEL_1), (差, LABEL_1), (、, LABEL_1), (外, LABEL_1), (汇, LABEL_1), (增, LABEL_1), (加, LABEL_1), (台, LABEL_1), (而, LABEL_1), (出, LABEL_1), (现, LABEL_1), (的, LABEL_1), (牛, LABEL_1), (；, LABEL_1), (在, LABEL_1), (回, LABEL_1), (了, LABEL_1), (台, LABEL_1), (湾, LABEL_1), (构, LABEL_1), (在, LABEL_1), (一, LABEL_1), (时, LABEL_1), (期, LABEL_1), (出, LABEL_1), (台, LABEL_1), (的, LABEL_1), (相, LABEL_1), (关, LABEL_1), (监, LABEL_1), (管, LABEL_1), (策, LABEL_1), (效, LABEL_1), (果, LABEL_1), (，, LABEL_1), (克, LABEL_1), (华, LABEL_1), (先, LABEL_1), (生, LABEL_1), (指, LABEL_1), (出, LABEL_1), (，, LABEL_1), (当, LABEL_1), (时, LABEL_1), (台, LABEL_1), (湾, LABEL_1), (股, LABEL_1), (如, LABEL_1), (此, LABEL_1), (飙, LABEL_1), (涨, LABEL_1), (受, LABEL_1), (策, LABEL_1), (的, LABEL_1), (影, LABEL_1), (响, LABEL_1), (相, LABEL_1), (当, LABEL_1), (，, LABEL_1), (利, LABEL_1), (来, LABEL_1), (活, LABEL_1), (跃, LABEL_1), (股, LABEL_1), (市, LABEL_1), (或, LABEL_1), (许, LABEL_1), (暂, LABEL_1), (时, LABEL_1), (造, LABEL_1), (股, LABEL_1), (勃, LABEL_1), (发, LABEL_1), (展, LABEL_1), (的, LABEL_1), (象, LABEL_1), (，, LABEL_1), (但, LABEL_1), (是, LABEL_1), (如, LABEL_1), (无, LABEL_1), (经, LABEL_1), (济, LABEL_1), (司, LABEL_1), (本, LABEL_1), (，, LABEL_1), (高, LABEL_1), (趋, LABEL_1), (股, LABEL_1), (久, LABEL_1), (，, LABEL_1), (股, LABEL_1), (高, LABEL_1), (涨, LABEL_1), (之, LABEL_1), (的, LABEL_1), (长, LABEL_1), (低, LABEL_1), (迷, LABEL_1), (会, LABEL_1), (对, LABEL_1), (经, LABEL_1), (济, LABEL_1), (产, LABEL_1), (大, LABEL_1), (的, LABEL_1), (面, LABEL_1), (影, LABEL_1), (响, LABEL_1), (，, LABEL_1), (目, LABEL_1), (前, LABEL_1), (大, LABEL_1), (陆, LABEL_1), (的, LABEL_1), (情, LABEL_1), (况, LABEL_1), (与, LABEL_1), (台, LABEL_1), (湾, LABEL_1), (当, LABEL_1), (年, LABEL_1), (存, LABEL_1), (在, LABEL_1), (惊, LABEL_1), (人, LABEL_1), (的, LABEL_1), (类, LABEL_1), (似, LABEL_1), (，, LABEL_1), (台, LABEL_1), (湾, LABEL_1), (的, LABEL_1), (，, LABEL_1), (构, LABEL_1), (制, LABEL_1), (定, LABEL_1), (相, LABEL_1), (关, LABEL_1), (策, LABEL_1), (时, LABEL_1), (，, LABEL_1), (应, LABEL_1), (治, LABEL_1), (，, LABEL_1), (疏, LABEL_1), (（, LABEL_1), (应, LABEL_1), (放, LABEL_1), (外, LABEL_1), (汇, LABEL_1), (制, LABEL_1), (，, LABEL_1), (外, LABEL_1), (）, LABEL_1), (，, LABEL_1), (而, LABEL_1), (应, LABEL_1), (效, LABEL_1), (鲧, LABEL_1), (堵, LABEL_1), (来, LABEL_1), (治, LABEL_1), (（, LABEL_1), (打, LABEL_1), (压, LABEL_1), (在, LABEL_1), (有, LABEL_1), (，, LABEL_1), (）, LABEL_1), (。, LABEL_1), (克, LABEL_1), (先, LABEL_1), (生, LABEL_1), (曾, LABEL_1), (在, LABEL_1), (台, LABEL_1), (湾, LABEL_1), (“, LABEL_1), (财, LABEL_1), (”, LABEL_1), (期, LABEL_1), (理, LABEL_1), (任, LABEL_1), (职, LABEL_1), (10, LABEL_1), (年, LABEL_1), (，, LABEL_1), (历, LABEL_1), (、, LABEL_1), (、, LABEL_1), (（, LABEL_1), (全, LABEL_1), (景, LABEL_1), (网, LABEL_1), (）, LABEL_1)\n",
      "news 14 entities: (证, LABEL_1), (时, LABEL_1), (报, LABEL_1), (记, LABEL_1), (者, LABEL_1), (周, LABEL_1), (文, LABEL_1), (本, LABEL_1), (报, LABEL_1), (讯, LABEL_1), (市, LABEL_1), (场, LABEL_1), (财, LABEL_1), (富, LABEL_1), (效, LABEL_1), (应, LABEL_1), (聚, LABEL_1), (集, LABEL_1), (人, LABEL_1), (。, LABEL_1), (昨, LABEL_1), (日, LABEL_1), (开, LABEL_1), (始, LABEL_1), (持, LABEL_1), (营, LABEL_1), (第, LABEL_1), (一, LABEL_1), (天, LABEL_1), (的, LABEL_1), (南, LABEL_1), (方, LABEL_1), (高, LABEL_1), (增, LABEL_1), ((, LABEL_1), (LOF, LABEL_1), (), LABEL_1), (当, LABEL_1), (日, LABEL_1), (紧, LABEL_1), (急, LABEL_1), (发, LABEL_1), (布, LABEL_1), (了, LABEL_1), (暂, LABEL_1), (停, LABEL_1), (告, LABEL_1), (，, LABEL_1), (今, LABEL_1), (天, LABEL_1), (（, LABEL_1), (）, LABEL_1), (将, LABEL_1), (是, LABEL_1), (基, LABEL_1), (金, LABEL_1), (此, LABEL_1), (扩, LABEL_1), (募, LABEL_1), (的, LABEL_1), (最, LABEL_1), (一, LABEL_1), (日, LABEL_1), (，, LABEL_1), (基, LABEL_1), (金, LABEL_1), (日, LABEL_1), (前, LABEL_1), (公, LABEL_1), (告, LABEL_1), (扩, LABEL_1), (募, LABEL_1), (额, LABEL_1), (40, LABEL_1), (亿, LABEL_1), (元, LABEL_1), (与, LABEL_1), (同, LABEL_1), (时, LABEL_1), (，, LABEL_1), (南, LABEL_1), (方, LABEL_1), (高, LABEL_1), (增, LABEL_1), (（, LABEL_1), (）, LABEL_1), (度, LABEL_1), (涨, LABEL_1), (停, LABEL_1), (，, LABEL_1), (昨, LABEL_1), (日, LABEL_1), (，, LABEL_1), (南, LABEL_1), (方, LABEL_1), (高, LABEL_1), (增, LABEL_1), (的, LABEL_1), (内, LABEL_1), ((, LABEL_1), (外, LABEL_1), (), LABEL_1), (申, LABEL_1), (价, LABEL_1), (（, LABEL_1), (基, LABEL_1), (金, LABEL_1), (）, LABEL_1), (为, LABEL_1), (07, LABEL_1), (##04, LABEL_1), (元, LABEL_1), (，, LABEL_1), (而, LABEL_1), (交, LABEL_1), (合, LABEL_1), (竞, LABEL_1), (价, LABEL_1), (的, LABEL_1), (价, LABEL_1), (格, LABEL_1), (则, LABEL_1), (高, LABEL_1), (达, LABEL_1), (元, LABEL_1), (南, LABEL_1), (方, LABEL_1), (基, LABEL_1), (金, LABEL_1), (再, LABEL_1), (次, LABEL_1), (提, LABEL_1), (投, LABEL_1), (者, LABEL_1), (，, LABEL_1), (如, LABEL_1), (果, LABEL_1), (要, LABEL_1), (申, LABEL_1), (购, LABEL_1), (南, LABEL_1), (方, LABEL_1), (高, LABEL_1), (增, LABEL_1), (（, LABEL_1), (LOF, LABEL_1), (）, LABEL_1), (应, LABEL_1), (基, LABEL_1), (金, LABEL_1), (日, LABEL_1), (的, LABEL_1), (值, LABEL_1), (在, LABEL_1), (外, LABEL_1), (或, LABEL_1), (者, LABEL_1), (内, LABEL_1), (申, LABEL_1), (购, LABEL_1), (，, LABEL_1), (要, LABEL_1), (以, LABEL_1), (高, LABEL_1), (溢, LABEL_1), (价, LABEL_1), (在, LABEL_1), (交, LABEL_1), (易, LABEL_1), (合, LABEL_1), (竞, LABEL_1), (价, LABEL_1), (去, LABEL_1), (购, LABEL_1), (买, LABEL_1)\n",
      "news 15 entities: (本, LABEL_1), (报, LABEL_1), (讯, LABEL_1), (易, LABEL_1), (方, LABEL_1), (达, LABEL_1), (平, LABEL_1), (增, LABEL_1), (长, LABEL_1), (基, LABEL_1), (金, LABEL_1), (今, LABEL_1), (日, LABEL_1), (发, LABEL_1), (布, LABEL_1), (大, LABEL_1), (比, LABEL_1), (例, LABEL_1), (分, LABEL_1), (红, LABEL_1), (每, LABEL_1), (10, LABEL_1), (份, LABEL_1), (基, LABEL_1), (金, LABEL_1), (额, LABEL_1), (分, LABEL_1), (配, LABEL_1), (7, LABEL_1), (., LABEL_1), (8, LABEL_1), (元, LABEL_1), (益, LABEL_1), (、, LABEL_1), (除, LABEL_1), (为, LABEL_1), (5, LABEL_1), (日, LABEL_1), (，, LABEL_1), (红, LABEL_1), (为, LABEL_1), (。, LABEL_1), (基, LABEL_1), (金, LABEL_1), (为, LABEL_1), (目, LABEL_1), (前, LABEL_1), (国, LABEL_1), (内, LABEL_1), (分, LABEL_1), (红, LABEL_1), (总, LABEL_1), (量, LABEL_1), (最, LABEL_1), (多, LABEL_1), (的, LABEL_1), (开, LABEL_1), (放, LABEL_1), (式, LABEL_1), (基, LABEL_1), (金, LABEL_1), (易, LABEL_1), (方, LABEL_1), (达, LABEL_1), (同, LABEL_1), (时, LABEL_1), (告, LABEL_1), (从, LABEL_1), (6, LABEL_1), (起, LABEL_1), (开, LABEL_1), (展, LABEL_1), (基, LABEL_1), (金, LABEL_1), (的, LABEL_1), (费, LABEL_1), (优, LABEL_1), (惠, LABEL_1), (限, LABEL_1), (促, LABEL_1), (销, LABEL_1), (动, LABEL_1), (（, LABEL_1), (周, LABEL_1), (文, LABEL_1), (亮, LABEL_1), (）, LABEL_1)\n",
      "news 16 entities: (时, LABEL_1), (报, LABEL_1), (记, LABEL_1), (者, LABEL_1), (于, LABEL_1), (扬, LABEL_1), (、, LABEL_1), (金, LABEL_1), (司, LABEL_1), (、, LABEL_1), (货, LABEL_1), (经, LABEL_1), (纪, LABEL_1), (司, LABEL_1), (明, LABEL_1), (起, LABEL_1), (会, LABEL_1), (计, LABEL_1), (则, LABEL_1), (；, LABEL_1), (金, LABEL_1), (自, LABEL_1), (明, LABEL_1), (报, LABEL_1), (讯, LABEL_1), (就, LABEL_1), (、, LABEL_1), (金, LABEL_1), (、, LABEL_1), (货, LABEL_1), (业, LABEL_1), (如, LABEL_1), (何, LABEL_1), (执, LABEL_1), (行, LABEL_1), (《, LABEL_1), (企, LABEL_1), (会, LABEL_1), (计, LABEL_1), (则, LABEL_1), (》, LABEL_1), (，, LABEL_1), (中, LABEL_1), (国, LABEL_1), (会, LABEL_1), (近, LABEL_1), (日, LABEL_1), (分, LABEL_1), (别, LABEL_1), (发, LABEL_1), (布, LABEL_1), (予, LABEL_1), (以, LABEL_1), (明, LABEL_1), (《, LABEL_1), (通, LABEL_1), (》, LABEL_1), (司, LABEL_1), (、, LABEL_1), (金, LABEL_1), (司, LABEL_1), (和, LABEL_1), (货, LABEL_1), (经, LABEL_1), (纪, LABEL_1), (司, LABEL_1), (于, LABEL_1), (起, LABEL_1), (《, LABEL_1), (会, LABEL_1), (》, LABEL_1), (；, LABEL_1), (金, LABEL_1), (于, LABEL_1), (起, LABEL_1), (行, LABEL_1), (《, LABEL_1), (企, LABEL_1), (会, LABEL_1), (》, LABEL_1), (，, LABEL_1), (使, LABEL_1), (得, LABEL_1), (广, LABEL_1), (受, LABEL_1), (内, LABEL_1), (关, LABEL_1), (注, LABEL_1), (的, LABEL_1), (、, LABEL_1), (基, LABEL_1), (金, LABEL_1), (和, LABEL_1), (期, LABEL_1), (货, LABEL_1), (行, LABEL_1), (业, LABEL_1), (何, LABEL_1), (时, LABEL_1), (行, LABEL_1), (《, LABEL_1), (企, LABEL_1), (会, LABEL_1), (计, LABEL_1), (则, LABEL_1), (》, LABEL_1), (的, LABEL_1), (问, LABEL_1), (，, LABEL_1), (得, LABEL_1), (到, LABEL_1), (了, LABEL_1), (明, LABEL_1), (答, LABEL_1), (。, LABEL_1), (通, LABEL_1), (》, LABEL_1), (明, LABEL_1), (了, LABEL_1), (、, LABEL_1), (基, LABEL_1), (金, LABEL_1), (和, LABEL_1), (期, LABEL_1), (货, LABEL_1), (业, LABEL_1), (行, LABEL_1), (《, LABEL_1), (企, LABEL_1), (会, LABEL_1), (计, LABEL_1), (则, LABEL_1), (》, LABEL_1), (的, LABEL_1), (间, LABEL_1), (表, LABEL_1), (和, LABEL_1), (过, LABEL_1), (渡, LABEL_1), (措, LABEL_1), (施, LABEL_1), (。, LABEL_1), (司, LABEL_1), (、, LABEL_1), (金, LABEL_1), (司, LABEL_1), (和, LABEL_1), (期, LABEL_1), (货, LABEL_1), (经, LABEL_1), (纪, LABEL_1), (司, LABEL_1), (于, LABEL_1), (起, LABEL_1), (行, LABEL_1), (《, LABEL_1), (企, LABEL_1), (会, LABEL_1), (计, LABEL_1), (则, LABEL_1), (》, LABEL_1), (。, LABEL_1), (些, LABEL_1), (构, LABEL_1), (年, LABEL_1), (度, LABEL_1), (报, LABEL_1), (告, LABEL_1), (照, LABEL_1), (行, LABEL_1), (《, LABEL_1), (金, LABEL_1), (融, LABEL_1), (企, LABEL_1), (会, LABEL_1), (制, LABEL_1), (度, LABEL_1), (》, LABEL_1), (和, LABEL_1), (年, LABEL_1), (报, LABEL_1), (编, LABEL_1), (报, LABEL_1), (规, LABEL_1), (定, LABEL_1), (编, LABEL_1), (制, LABEL_1), (，, LABEL_1), (同, LABEL_1), (照, LABEL_1), (会, LABEL_1), (38, LABEL_1), (会, LABEL_1), (的, LABEL_1), (规, LABEL_1), (，, LABEL_1), (编, LABEL_1), (制, LABEL_1), (会, LABEL_1), (则, LABEL_1), (的, LABEL_1), (差, LABEL_1), (异, LABEL_1), (调, LABEL_1), (节, LABEL_1), (表, LABEL_1), (；, LABEL_1), (度, LABEL_1), (报, LABEL_1), (告, LABEL_1), (，, LABEL_1), (则, LABEL_1), (应, LABEL_1), (按, LABEL_1), (照, LABEL_1), (会, LABEL_1), (则, LABEL_1), (和, LABEL_1), (编, LABEL_1), (制, LABEL_1), (度, LABEL_1), (报, LABEL_1), (告, LABEL_1), (的, LABEL_1), (相, LABEL_1), (关, LABEL_1), (规, LABEL_1), (定, LABEL_1), (要, LABEL_1), (求, LABEL_1), (编, LABEL_1), (制, LABEL_1), (为, LABEL_1), (了, LABEL_1), (会, LABEL_1), (计, LABEL_1), (则, LABEL_1), (施, LABEL_1), (行, LABEL_1), (工, LABEL_1), (作, LABEL_1), (效, LABEL_1), (、, LABEL_1), (行, LABEL_1), (，, LABEL_1), (通, LABEL_1), (知, LABEL_1), (》, LABEL_1), (给, LABEL_1), (司, LABEL_1), (、, LABEL_1), (金, LABEL_1), (司, LABEL_1), (和, LABEL_1), (期, LABEL_1), (货, LABEL_1), (经, LABEL_1), (纪, LABEL_1), (公, LABEL_1), (司, LABEL_1), (半, LABEL_1), (年, LABEL_1), (时, LABEL_1), (间, LABEL_1), (做, LABEL_1), (相, LABEL_1), (关, LABEL_1), (准, LABEL_1), (工, LABEL_1), (作, LABEL_1), (，, LABEL_1), (并, LABEL_1), (应, LABEL_1), (于, LABEL_1), (30, LABEL_1), (日, LABEL_1), (前, LABEL_1), (将, LABEL_1), (会, LABEL_1), (计, LABEL_1), (核, LABEL_1), (算, LABEL_1), (系, LABEL_1), (统, LABEL_1), (等, LABEL_1), (调, LABEL_1), (整, LABEL_1), (。, LABEL_1), (在, LABEL_1), (期, LABEL_1), (间, LABEL_1), (，, LABEL_1)\n",
      "news 17 entities: (年, LABEL_1), (报, LABEL_1), (行, LABEL_1), (相, LABEL_1), (关, LABEL_1), (规, LABEL_1), (定, LABEL_1), (编, LABEL_1), (制, LABEL_1), (编, LABEL_1), (制, LABEL_1), (会, LABEL_1), (计, LABEL_1), (准, LABEL_1), (则, LABEL_1), (的, LABEL_1), (差, LABEL_1), (异, LABEL_1), (调, LABEL_1), (节, LABEL_1), (表, LABEL_1), (本, LABEL_1), (报, LABEL_1), (记, LABEL_1), (者, LABEL_1), (丽, LABEL_1), (华, LABEL_1), (北, LABEL_1), (京, LABEL_1), (报, LABEL_1), (道, LABEL_1), (了, LABEL_1), (上, LABEL_1), (外, LABEL_1), (，, LABEL_1), (、, LABEL_1), (金, LABEL_1), (和, LABEL_1), (行, LABEL_1), (业, LABEL_1), (也, LABEL_1), (将, LABEL_1), (于, LABEL_1), (明, LABEL_1), (起, LABEL_1), (步, LABEL_1), (施, LABEL_1), (《, LABEL_1), (企, LABEL_1), (会, LABEL_1), (计, LABEL_1), (准, LABEL_1), (则, LABEL_1), (》, LABEL_1), (。, LABEL_1), (中, LABEL_1), (国, LABEL_1), (会, LABEL_1), (日, LABEL_1), (前, LABEL_1), (下, LABEL_1), (，, LABEL_1), (明, LABEL_1), (确, LABEL_1), (了, LABEL_1), (司, LABEL_1), (、, LABEL_1), (金, LABEL_1), (司, LABEL_1), (和, LABEL_1), (期, LABEL_1), (货, LABEL_1), (经, LABEL_1), (纪, LABEL_1), (司, LABEL_1), (于, LABEL_1), (起, LABEL_1), (行, LABEL_1), (《, LABEL_1), (会, LABEL_1), (则, LABEL_1), (》, LABEL_1), (；, LABEL_1), (金, LABEL_1), (于, LABEL_1), (起, LABEL_1), (行, LABEL_1), (《, LABEL_1), (会, LABEL_1), (则, LABEL_1), (》, LABEL_1), (业, LABEL_1), (内, LABEL_1), (一, LABEL_1), (直, LABEL_1), (关, LABEL_1), (注, LABEL_1), (的, LABEL_1), (、, LABEL_1), (基, LABEL_1), (金, LABEL_1), (和, LABEL_1), (货, LABEL_1), (行, LABEL_1), (业, LABEL_1), (何, LABEL_1), (时, LABEL_1), (准, LABEL_1), (终, LABEL_1), (于, LABEL_1), (有, LABEL_1), (。, LABEL_1), (三, LABEL_1), (个, LABEL_1), (是, LABEL_1), (《, LABEL_1), (关, LABEL_1), (于, LABEL_1), (行, LABEL_1), (<, LABEL_1), (企, LABEL_1), (会, LABEL_1), (计, LABEL_1), (准, LABEL_1), (则, LABEL_1), (>, LABEL_1), (的, LABEL_1), (通, LABEL_1), (知, LABEL_1), (、, LABEL_1), (《, LABEL_1), (关, LABEL_1), (于, LABEL_1), (基, LABEL_1), (金, LABEL_1), (司, LABEL_1), (投, LABEL_1), (资, LABEL_1), (金, LABEL_1), (行, LABEL_1), (<, LABEL_1), (企, LABEL_1), (会, LABEL_1), (则, LABEL_1), (>, LABEL_1), (的, LABEL_1), (通, LABEL_1), (知, LABEL_1), (》, LABEL_1), (和, LABEL_1), (《, LABEL_1), (关, LABEL_1), (于, LABEL_1), (期, LABEL_1), (货, LABEL_1), (经, LABEL_1), (纪, LABEL_1), (司, LABEL_1), (行, LABEL_1), (<, LABEL_1), (企, LABEL_1), (会, LABEL_1), (则, LABEL_1), (>, LABEL_1), (的, LABEL_1), (通, LABEL_1), (知, LABEL_1), (》, LABEL_1), (。, LABEL_1), (通, LABEL_1), (》, LABEL_1), (明, LABEL_1), (确, LABEL_1), (了, LABEL_1), (、, LABEL_1), (金, LABEL_1), (和, LABEL_1), (期, LABEL_1), (货, LABEL_1), (行, LABEL_1), (业, LABEL_1), (行, LABEL_1), (《, LABEL_1), (企, LABEL_1), (会, LABEL_1), (计, LABEL_1), (则, LABEL_1), (》, LABEL_1), (的, LABEL_1), (时, LABEL_1), (间, LABEL_1), (表, LABEL_1), (和, LABEL_1), (过, LABEL_1), (渡, LABEL_1), (措, LABEL_1), (施, LABEL_1), (要, LABEL_1), (求, LABEL_1), (、, LABEL_1), (金, LABEL_1), (和, LABEL_1), (经, LABEL_1), (纪, LABEL_1), (司, LABEL_1), (年, LABEL_1), (报, LABEL_1), (照, LABEL_1), (《, LABEL_1), (金, LABEL_1), (融, LABEL_1), (企, LABEL_1), (会, LABEL_1), (制, LABEL_1), (》, LABEL_1), (报, LABEL_1), (编, LABEL_1), (报, LABEL_1), (规, LABEL_1), (定, LABEL_1), (编, LABEL_1), (制, LABEL_1), (，, LABEL_1), (按, LABEL_1), (照, LABEL_1), (《, LABEL_1), (会, LABEL_1), (38, LABEL_1), (会, LABEL_1), (的, LABEL_1), (规, LABEL_1), (，, LABEL_1), (编, LABEL_1), (制, LABEL_1), (会, LABEL_1), (计, LABEL_1), (准, LABEL_1), (则, LABEL_1), (的, LABEL_1), (差, LABEL_1), (异, LABEL_1), (调, LABEL_1), (节, LABEL_1), (表, LABEL_1), (年, LABEL_1), (报, LABEL_1), (应, LABEL_1), (按, LABEL_1), (照, LABEL_1), (会, LABEL_1), (计, LABEL_1), (则, LABEL_1), (和, LABEL_1), (编, LABEL_1), (制, LABEL_1), (年, LABEL_1), (度, LABEL_1), (报, LABEL_1), (告, LABEL_1), (的, LABEL_1), (相, LABEL_1), (关, LABEL_1), (规, LABEL_1), (定, LABEL_1), (要, LABEL_1), (求, LABEL_1), (编, LABEL_1), (制, LABEL_1), (。, LABEL_1), (为, LABEL_1), (了, LABEL_1), (会, LABEL_1), (计, LABEL_1), (则, LABEL_1), (施, LABEL_1), (行, LABEL_1), (工, LABEL_1), (作, LABEL_1), (高, LABEL_1), (效, LABEL_1), (、, LABEL_1), (妥, LABEL_1), (地, LABEL_1), (进, LABEL_1), (行, LABEL_1), (，, LABEL_1), (给, LABEL_1), (司, LABEL_1), (、, LABEL_1), (金, LABEL_1), (理, LABEL_1), (司, LABEL_1), (和, LABEL_1), (期, LABEL_1), (货, LABEL_1), (经, LABEL_1), (纪, LABEL_1), (司, LABEL_1), (半, LABEL_1), (年, LABEL_1), (时, LABEL_1), (间, LABEL_1), (做, LABEL_1), (相, LABEL_1), (关, LABEL_1), (准, LABEL_1), (工, LABEL_1), (作, LABEL_1), (，, LABEL_1), (于, LABEL_1), (30, LABEL_1), (前, LABEL_1), (将, LABEL_1)\n",
      "news 18 entities: (《, LABEL_1), (董, LABEL_1), (监, LABEL_1), (高, LABEL_1), (理, LABEL_1), (人, LABEL_1), (员, LABEL_1), (职, LABEL_1), (资, LABEL_1), (格, LABEL_1), (监, LABEL_1), (管, LABEL_1), (法, LABEL_1), (本, LABEL_1), (报, LABEL_1), (讯, LABEL_1), (《, LABEL_1), (董, LABEL_1), (监, LABEL_1), (高, LABEL_1), (理, LABEL_1), (人, LABEL_1), (员, LABEL_1), (职, LABEL_1), (资, LABEL_1), (监, LABEL_1), (管, LABEL_1), (法, LABEL_1), (》, LABEL_1), (（, LABEL_1), (版, LABEL_1), (）, LABEL_1), (由, LABEL_1), (中, LABEL_1), (国, LABEL_1), (于, LABEL_1), (今, LABEL_1), (起, LABEL_1), (开, LABEL_1), (。, LABEL_1), (《, LABEL_1), (办, LABEL_1), (法, LABEL_1), (》, LABEL_1), (扩, LABEL_1), (大, LABEL_1), (了, LABEL_1), (职, LABEL_1), (资, LABEL_1), (格, LABEL_1), (监, LABEL_1), (管, LABEL_1), (的, LABEL_1), (范, LABEL_1), (围, LABEL_1), (，, LABEL_1), (将, LABEL_1), (独, LABEL_1), (立, LABEL_1), (董, LABEL_1), (、, LABEL_1), (董, LABEL_1), (、, LABEL_1), (监, LABEL_1), (监, LABEL_1), (管, LABEL_1), (范, LABEL_1), (围, LABEL_1), (同, LABEL_1), (时, LABEL_1), (，, LABEL_1), (高, LABEL_1), (管, LABEL_1), (人, LABEL_1), (员, LABEL_1), (的, LABEL_1), (范, LABEL_1), (围, LABEL_1), (也, LABEL_1), (扩, LABEL_1), (大, LABEL_1), (至, LABEL_1), (会, LABEL_1), (、, LABEL_1), (以, LABEL_1), (及, LABEL_1), (似, LABEL_1), (构, LABEL_1), (的, LABEL_1), (成, LABEL_1), (、, LABEL_1), (董, LABEL_1), (支, LABEL_1), (构, LABEL_1), (责, LABEL_1), (人, LABEL_1), (员, LABEL_1), (对, LABEL_1), (职, LABEL_1), (资, LABEL_1), (格, LABEL_1), (监, LABEL_1), (管, LABEL_1), (范, LABEL_1), (围, LABEL_1), (的, LABEL_1), (人, LABEL_1), (员, LABEL_1), (，, LABEL_1), (《, LABEL_1), (办, LABEL_1), (法, LABEL_1), (》, LABEL_1), (规, LABEL_1), (定, LABEL_1), (实, LABEL_1), (行, LABEL_1), (类, LABEL_1), (监, LABEL_1), (，, LABEL_1), (对, LABEL_1), (不, LABEL_1), (同, LABEL_1), (别, LABEL_1), (人, LABEL_1), (员, LABEL_1), (设, LABEL_1), (定, LABEL_1), (不, LABEL_1), (同, LABEL_1), (的, LABEL_1), (职, LABEL_1), (资, LABEL_1), (格, LABEL_1), (件, LABEL_1), (，, LABEL_1), (对, LABEL_1), (独, LABEL_1), (立, LABEL_1), (董, LABEL_1), (的, LABEL_1), (职, LABEL_1), (格, LABEL_1), (件, LABEL_1), (也, LABEL_1), (进, LABEL_1), (行, LABEL_1), (了, LABEL_1), (专, LABEL_1), (规, LABEL_1), (定, LABEL_1), (在, LABEL_1), (对, LABEL_1), (高, LABEL_1), (管, LABEL_1), (员, LABEL_1), (的, LABEL_1), (究, LABEL_1), (方, LABEL_1), (面, LABEL_1), (，, LABEL_1), (《, LABEL_1), (办, LABEL_1), (法, LABEL_1), (》, LABEL_1), (定, LABEL_1), (，, LABEL_1), (被, LABEL_1), (不, LABEL_1), (适, LABEL_1), (选, LABEL_1), (被, LABEL_1), (职, LABEL_1), (资, LABEL_1), (格, LABEL_1), (的, LABEL_1), (有, LABEL_1), (关, LABEL_1), (人, LABEL_1), (员, LABEL_1), (，, LABEL_1), (在, LABEL_1), (一, LABEL_1), (定, LABEL_1), (期, LABEL_1), (限, LABEL_1), (内, LABEL_1), (担, LABEL_1), (商, LABEL_1), (董, LABEL_1), (高, LABEL_1), (员, LABEL_1), (。, LABEL_1), (《, LABEL_1), (办, LABEL_1), (法, LABEL_1), (》, LABEL_1), (同, LABEL_1), (时, LABEL_1), (，, LABEL_1), (中, LABEL_1), (国, LABEL_1), (保, LABEL_1), (护, LABEL_1), (因, LABEL_1), (、, LABEL_1), (维, LABEL_1), (而, LABEL_1), (受, LABEL_1), (到, LABEL_1), (不, LABEL_1), (遇, LABEL_1), (董, LABEL_1), (高, LABEL_1), (管, LABEL_1), (人, LABEL_1), (员, LABEL_1), (的, LABEL_1), (合, LABEL_1), (权, LABEL_1), (益, LABEL_1), (。, LABEL_1), (政, LABEL_1), (策, LABEL_1), (会, LABEL_1), (还, LABEL_1), (同, LABEL_1), (时, LABEL_1), (《, LABEL_1), (》, LABEL_1), (配, LABEL_1), (，, LABEL_1), (对, LABEL_1), (《, LABEL_1), (》, LABEL_1), (施, LABEL_1), (的, LABEL_1), (过, LABEL_1), (作, LABEL_1), (出, LABEL_1), (相, LABEL_1), (应, LABEL_1), (安, LABEL_1), (。, LABEL_1), (如, LABEL_1), (要, LABEL_1), (求, LABEL_1), (董, LABEL_1), (会, LABEL_1), (秘, LABEL_1), (必, LABEL_1), (须, LABEL_1), (自, LABEL_1), (《, LABEL_1), (办, LABEL_1), (法, LABEL_1), (》, LABEL_1), (实, LABEL_1), (施, LABEL_1), (之, LABEL_1), (日, LABEL_1), (起, LABEL_1), (一, LABEL_1), (年, LABEL_1), (内, LABEL_1), (取, LABEL_1), (得, LABEL_1), (职, LABEL_1), (资, LABEL_1), (格, LABEL_1), (中, LABEL_1), (国, LABEL_1), (有, LABEL_1), (关, LABEL_1), (人, LABEL_1), (士, LABEL_1), (表, LABEL_1), (示, LABEL_1), (，, LABEL_1), (落, LABEL_1), (券, LABEL_1), (，, LABEL_1), (进, LABEL_1), (一, LABEL_1), (步, LABEL_1), (加, LABEL_1), (强, LABEL_1), (对, LABEL_1), (董, LABEL_1), (、, LABEL_1), (和, LABEL_1), (高, LABEL_1), (人, LABEL_1), (员, LABEL_1), (的, LABEL_1), (职, LABEL_1), (资, LABEL_1), (格, LABEL_1)\n",
      "news 19 entities: (了, LABEL_1), (政, LABEL_1), (策, LABEL_1), (的, LABEL_1), (连, LABEL_1), (续, LABEL_1), (和, LABEL_1), (《, LABEL_1), (董, LABEL_1), (、, LABEL_1), (高, LABEL_1), (理, LABEL_1), (人, LABEL_1), (员, LABEL_1), (职, LABEL_1), (资, LABEL_1), (格, LABEL_1), (监, LABEL_1), (管, LABEL_1), (》, LABEL_1), (，, LABEL_1), (中, LABEL_1), (国, LABEL_1), (同, LABEL_1), (时, LABEL_1), (布, LABEL_1), (配, LABEL_1), (，, LABEL_1), (对, LABEL_1), (法, LABEL_1), (》, LABEL_1), (实, LABEL_1), (施, LABEL_1), (的, LABEL_1), (过, LABEL_1), (渡, LABEL_1), (期, LABEL_1), (作, LABEL_1), (了, LABEL_1), (相, LABEL_1), (应, LABEL_1), (安, LABEL_1), (排, LABEL_1), (。, LABEL_1), (配, LABEL_1), (通, LABEL_1), (知, LABEL_1), (规, LABEL_1), (定, LABEL_1), (，, LABEL_1), (在, LABEL_1), (年, LABEL_1), (发, LABEL_1), (布, LABEL_1), (的, LABEL_1), (《, LABEL_1), (高, LABEL_1), (管, LABEL_1), (理, LABEL_1), (人, LABEL_1), (员, LABEL_1), (管, LABEL_1), (理, LABEL_1), (法, LABEL_1), (》, LABEL_1), (（, LABEL_1), (第, LABEL_1), (24, LABEL_1), (）, LABEL_1), (施, LABEL_1), (前, LABEL_1), (取, LABEL_1), (得, LABEL_1), (职, LABEL_1), (资, LABEL_1), (格, LABEL_1), (的, LABEL_1), (董, LABEL_1), (、, LABEL_1), (董, LABEL_1), (、, LABEL_1), (主, LABEL_1), (以, LABEL_1), (经, LABEL_1), (理, LABEL_1), (层, LABEL_1), (人, LABEL_1), (员, LABEL_1), (，, LABEL_1), (在, LABEL_1), (《, LABEL_1), (办, LABEL_1), (》, LABEL_1), (施, LABEL_1), (职, LABEL_1), (格, LABEL_1), (仍, LABEL_1), (然, LABEL_1), (有, LABEL_1), (。, LABEL_1), (上, LABEL_1), (人, LABEL_1), (员, LABEL_1), (中, LABEL_1), (尚, LABEL_1), (未, LABEL_1), (通, LABEL_1), (过, LABEL_1), (质, LABEL_1), (，, LABEL_1), (应, LABEL_1), (当, LABEL_1), (自, LABEL_1), (《, LABEL_1), (办, LABEL_1), (》, LABEL_1), (施, LABEL_1), (之, LABEL_1), (日, LABEL_1), (起, LABEL_1), (三, LABEL_1), (年, LABEL_1), (内, LABEL_1), (通, LABEL_1), (过, LABEL_1), (质, LABEL_1), (，, LABEL_1), (职, LABEL_1), (资, LABEL_1), (格, LABEL_1), (动, LABEL_1), (失, LABEL_1), (效, LABEL_1), (。, LABEL_1), (外, LABEL_1), (，, LABEL_1), (已, LABEL_1), (取, LABEL_1), (得, LABEL_1), (职, LABEL_1), (资, LABEL_1), (格, LABEL_1), (的, LABEL_1), (经, LABEL_1), (理, LABEL_1), (层, LABEL_1), (人, LABEL_1), (员, LABEL_1), (以, LABEL_1), (及, LABEL_1), (定, LABEL_1), (代, LABEL_1), (表, LABEL_1), (人, LABEL_1), (从, LABEL_1), (资, LABEL_1), (格, LABEL_1), (，, LABEL_1), (应, LABEL_1), (当, LABEL_1), (自, LABEL_1), (《, LABEL_1), (办, LABEL_1), (》, LABEL_1), (施, LABEL_1), (之, LABEL_1), (日, LABEL_1), (起, LABEL_1), (三, LABEL_1), (年, LABEL_1), (内, LABEL_1), (取, LABEL_1), (得, LABEL_1), (从, LABEL_1), (资, LABEL_1), (格, LABEL_1), (；, LABEL_1), (司, LABEL_1), (董, LABEL_1), (会, LABEL_1), (应, LABEL_1), (当, LABEL_1), (自, LABEL_1), (《, LABEL_1), (》, LABEL_1), (施, LABEL_1), (之, LABEL_1), (日, LABEL_1), (起, LABEL_1), (一, LABEL_1), (年, LABEL_1), (内, LABEL_1), (取, LABEL_1), (得, LABEL_1), (职, LABEL_1), (资, LABEL_1), (格, LABEL_1), (；, LABEL_1), (董, LABEL_1), (应, LABEL_1), (当, LABEL_1), (自, LABEL_1), (》, LABEL_1), (施, LABEL_1), (之, LABEL_1), (日, LABEL_1), (起, LABEL_1), (两, LABEL_1), (年, LABEL_1), (内, LABEL_1), (取, LABEL_1), (职, LABEL_1), (格, LABEL_1), (；, LABEL_1), (责, LABEL_1), (人, LABEL_1), (，, LABEL_1), (应, LABEL_1), (当, LABEL_1), (自, LABEL_1), (《, LABEL_1), (》, LABEL_1), (施, LABEL_1), (之, LABEL_1), (日, LABEL_1), (起, LABEL_1), (两, LABEL_1), (年, LABEL_1), (内, LABEL_1), (取, LABEL_1), (职, LABEL_1), (格, LABEL_1), (。, LABEL_1)\n",
      "news 20 entities: (中, LABEL_1), (国, LABEL_1), (日, LABEL_1), (前, LABEL_1), (布, LABEL_1), (了, LABEL_1), (版, LABEL_1), (的, LABEL_1), (《, LABEL_1), (董, LABEL_1), (监, LABEL_1), (高, LABEL_1), (理, LABEL_1), (人, LABEL_1), (员, LABEL_1), (职, LABEL_1), (资, LABEL_1), (格, LABEL_1), (监, LABEL_1), (管, LABEL_1), (法, LABEL_1), (》, LABEL_1), (，, LABEL_1), (于, LABEL_1), (今, LABEL_1), (开, LABEL_1), (施, LABEL_1), (。, LABEL_1), (《, LABEL_1), (监, LABEL_1), (管, LABEL_1), (法, LABEL_1), (》, LABEL_1), (扩, LABEL_1), (大, LABEL_1), (了, LABEL_1), (职, LABEL_1), (资, LABEL_1), (格, LABEL_1), (监, LABEL_1), (管, LABEL_1), (的, LABEL_1), (范, LABEL_1), (围, LABEL_1), (，, LABEL_1), (将, LABEL_1), (独, LABEL_1), (立, LABEL_1), (董, LABEL_1), (、, LABEL_1), (董, LABEL_1), (、, LABEL_1), (监, LABEL_1), (都, LABEL_1), (监, LABEL_1), (管, LABEL_1), (范, LABEL_1), (围, LABEL_1), (；, LABEL_1), (同, LABEL_1), (时, LABEL_1), (把, LABEL_1), (高, LABEL_1), (管, LABEL_1), (人, LABEL_1), (员, LABEL_1), (的, LABEL_1), (范, LABEL_1), (围, LABEL_1), (扩, LABEL_1), (大, LABEL_1), (至, LABEL_1), (员, LABEL_1), (会, LABEL_1), (、, LABEL_1), (会, LABEL_1), (以, LABEL_1), (及, LABEL_1), (类, LABEL_1), (似, LABEL_1), (构, LABEL_1), (的, LABEL_1), (成, LABEL_1), (、, LABEL_1), (董, LABEL_1), (、, LABEL_1), (支, LABEL_1), (构, LABEL_1), (负, LABEL_1), (责, LABEL_1), (人, LABEL_1), (等, LABEL_1), (人, LABEL_1), (员, LABEL_1), (《, LABEL_1), (监, LABEL_1), (管, LABEL_1), (法, LABEL_1), (》, LABEL_1), (对, LABEL_1), (年, LABEL_1), (施, LABEL_1), (的, LABEL_1), (《, LABEL_1), (高, LABEL_1), (理, LABEL_1), (人, LABEL_1), (员, LABEL_1), (管, LABEL_1), (理, LABEL_1), (法, LABEL_1), (》, LABEL_1), (相, LABEL_1), (关, LABEL_1), (规, LABEL_1), (的, LABEL_1), (修, LABEL_1), (订, LABEL_1), (和, LABEL_1), (理, LABEL_1), (，, LABEL_1), (主, LABEL_1), (要, LABEL_1), (有, LABEL_1), (四, LABEL_1), (大, LABEL_1), (：, LABEL_1), (一, LABEL_1), (是, LABEL_1), (与, LABEL_1), (《, LABEL_1), (》, LABEL_1), (衔, LABEL_1), (接, LABEL_1), (，, LABEL_1), (扩, LABEL_1), (大, LABEL_1), (了, LABEL_1), (职, LABEL_1), (资, LABEL_1), (格, LABEL_1), (监, LABEL_1), (管, LABEL_1), (的, LABEL_1), (范, LABEL_1), (围, LABEL_1), (；, LABEL_1), (二, LABEL_1), (是, LABEL_1), (进, LABEL_1), (一, LABEL_1), (步, LABEL_1), (了, LABEL_1), (职, LABEL_1), (资, LABEL_1), (格, LABEL_1), (申, LABEL_1), (请, LABEL_1), (的, LABEL_1), (和, LABEL_1), (程, LABEL_1), (；, LABEL_1), (三, LABEL_1), (是, LABEL_1), (进, LABEL_1), (一, LABEL_1), (步, LABEL_1), (化, LABEL_1), (了, LABEL_1), (对, LABEL_1), (董, LABEL_1), (高, LABEL_1), (管, LABEL_1), (员, LABEL_1), (的, LABEL_1), (监, LABEL_1), (；, LABEL_1), (四, LABEL_1), (是, LABEL_1), (加, LABEL_1), (强, LABEL_1), (了, LABEL_1), (对, LABEL_1), (董, LABEL_1), (监, LABEL_1), (和, LABEL_1), (高, LABEL_1), (管, LABEL_1), (员, LABEL_1), (的, LABEL_1), (追, LABEL_1), (究, LABEL_1), (保, LABEL_1), (政, LABEL_1), (策, LABEL_1), (的, LABEL_1), (连, LABEL_1), (续, LABEL_1), (性, LABEL_1), (和, LABEL_1), (《, LABEL_1), (监, LABEL_1), (》, LABEL_1), (有, LABEL_1), (，, LABEL_1), (会, LABEL_1), (还, LABEL_1), (同, LABEL_1), (时, LABEL_1), (发, LABEL_1), (布, LABEL_1), (了, LABEL_1), (配, LABEL_1), (，, LABEL_1), (对, LABEL_1), (《, LABEL_1), (监, LABEL_1), (法, LABEL_1), (》, LABEL_1), (施, LABEL_1), (的, LABEL_1), (过, LABEL_1), (期, LABEL_1), (作, LABEL_1), (出, LABEL_1), (相, LABEL_1), (应, LABEL_1), (安, LABEL_1), (如, LABEL_1), (要, LABEL_1), (求, LABEL_1), (董, LABEL_1), (秘, LABEL_1), (须, LABEL_1), (自, LABEL_1), (《, LABEL_1), (监, LABEL_1), (》, LABEL_1), (施, LABEL_1), (之, LABEL_1), (日, LABEL_1), (起, LABEL_1), (一, LABEL_1), (年, LABEL_1), (内, LABEL_1), (职, LABEL_1), (中, LABEL_1), (国, LABEL_1), (有, LABEL_1), (关, LABEL_1), (人, LABEL_1), (士, LABEL_1), (表, LABEL_1), (示, LABEL_1), (，, LABEL_1), (，, LABEL_1), (进, LABEL_1), (一, LABEL_1), (步, LABEL_1), (加, LABEL_1), (强, LABEL_1), (对, LABEL_1), (董, LABEL_1), (监, LABEL_1), (高, LABEL_1), (管, LABEL_1), (人, LABEL_1), (员, LABEL_1), (的, LABEL_1), (职, LABEL_1), (资, LABEL_1), (监, LABEL_1), (，, LABEL_1), (促, LABEL_1), (使, LABEL_1), (董, LABEL_1), (、, LABEL_1), (监, LABEL_1), (和, LABEL_1), (高, LABEL_1), (级, LABEL_1), (管, LABEL_1), (理, LABEL_1), (人, LABEL_1), (员, LABEL_1), (勤, LABEL_1), (勉, LABEL_1), (责, LABEL_1), (，, LABEL_1), (促, LABEL_1), (进, LABEL_1), (管, LABEL_1), (理, LABEL_1), (队, LABEL_1), (伍, LABEL_1), (专, LABEL_1), (化, LABEL_1), (的, LABEL_1), (一, LABEL_1), (项, LABEL_1), (重, LABEL_1), (要, LABEL_1), (举, LABEL_1), (措, LABEL_1)\n",
      "news 21 entities: (年, LABEL_1), (报, LABEL_1), (行, LABEL_1), (相, LABEL_1), (关, LABEL_1), (规, LABEL_1), (定, LABEL_1), (编, LABEL_1), (制, LABEL_1), (编, LABEL_1), (制, LABEL_1), (会, LABEL_1), (计, LABEL_1), (准, LABEL_1), (则, LABEL_1), (的, LABEL_1), (差, LABEL_1), (异, LABEL_1), (调, LABEL_1), (节, LABEL_1), (表, LABEL_1), (本, LABEL_1), (报, LABEL_1), (记, LABEL_1), (者, LABEL_1), (丽, LABEL_1), (华, LABEL_1), (北, LABEL_1), (京, LABEL_1), (报, LABEL_1), (道, LABEL_1), (了, LABEL_1), (上, LABEL_1), (外, LABEL_1), (，, LABEL_1), (、, LABEL_1), (金, LABEL_1), (和, LABEL_1), (行, LABEL_1), (业, LABEL_1), (也, LABEL_1), (将, LABEL_1), (于, LABEL_1), (明, LABEL_1), (起, LABEL_1), (步, LABEL_1), (施, LABEL_1), (《, LABEL_1), (企, LABEL_1), (会, LABEL_1), (计, LABEL_1), (准, LABEL_1), (则, LABEL_1), (》, LABEL_1), (。, LABEL_1), (中, LABEL_1), (国, LABEL_1), (会, LABEL_1), (日, LABEL_1), (前, LABEL_1), (下, LABEL_1), (，, LABEL_1), (明, LABEL_1), (确, LABEL_1), (了, LABEL_1), (司, LABEL_1), (、, LABEL_1), (金, LABEL_1), (司, LABEL_1), (和, LABEL_1), (期, LABEL_1), (货, LABEL_1), (经, LABEL_1), (纪, LABEL_1), (司, LABEL_1), (于, LABEL_1), (起, LABEL_1), (行, LABEL_1), (《, LABEL_1), (会, LABEL_1), (则, LABEL_1), (》, LABEL_1), (；, LABEL_1), (金, LABEL_1), (于, LABEL_1), (起, LABEL_1), (行, LABEL_1), (《, LABEL_1), (会, LABEL_1), (则, LABEL_1), (》, LABEL_1), (业, LABEL_1), (内, LABEL_1), (一, LABEL_1), (直, LABEL_1), (关, LABEL_1), (注, LABEL_1), (的, LABEL_1), (、, LABEL_1), (基, LABEL_1), (金, LABEL_1), (和, LABEL_1), (货, LABEL_1), (行, LABEL_1), (业, LABEL_1), (何, LABEL_1), (时, LABEL_1), (准, LABEL_1), (终, LABEL_1), (于, LABEL_1), (有, LABEL_1), (。, LABEL_1), (三, LABEL_1), (个, LABEL_1), (是, LABEL_1), (《, LABEL_1), (关, LABEL_1), (于, LABEL_1), (行, LABEL_1), (<, LABEL_1), (企, LABEL_1), (会, LABEL_1), (计, LABEL_1), (准, LABEL_1), (则, LABEL_1), (>, LABEL_1), (的, LABEL_1), (通, LABEL_1), (知, LABEL_1), (、, LABEL_1), (《, LABEL_1), (关, LABEL_1), (于, LABEL_1), (基, LABEL_1), (金, LABEL_1), (司, LABEL_1), (投, LABEL_1), (资, LABEL_1), (金, LABEL_1), (行, LABEL_1), (<, LABEL_1), (企, LABEL_1), (会, LABEL_1), (则, LABEL_1), (>, LABEL_1), (的, LABEL_1), (通, LABEL_1), (知, LABEL_1), (》, LABEL_1), (和, LABEL_1), (《, LABEL_1), (关, LABEL_1), (于, LABEL_1), (期, LABEL_1), (货, LABEL_1), (经, LABEL_1), (纪, LABEL_1), (司, LABEL_1), (行, LABEL_1), (<, LABEL_1), (企, LABEL_1), (会, LABEL_1), (则, LABEL_1), (>, LABEL_1), (的, LABEL_1), (通, LABEL_1), (知, LABEL_1), (》, LABEL_1), (。, LABEL_1), (通, LABEL_1), (》, LABEL_1), (明, LABEL_1), (确, LABEL_1), (了, LABEL_1), (、, LABEL_1), (金, LABEL_1), (和, LABEL_1), (期, LABEL_1), (货, LABEL_1), (行, LABEL_1), (业, LABEL_1), (行, LABEL_1), (《, LABEL_1), (企, LABEL_1), (会, LABEL_1), (计, LABEL_1), (则, LABEL_1), (》, LABEL_1), (的, LABEL_1), (时, LABEL_1), (间, LABEL_1), (表, LABEL_1), (和, LABEL_1), (过, LABEL_1), (渡, LABEL_1), (措, LABEL_1), (施, LABEL_1), (要, LABEL_1), (求, LABEL_1), (、, LABEL_1), (金, LABEL_1), (和, LABEL_1), (经, LABEL_1), (纪, LABEL_1), (司, LABEL_1), (年, LABEL_1), (报, LABEL_1), (照, LABEL_1), (《, LABEL_1), (金, LABEL_1), (融, LABEL_1), (企, LABEL_1), (会, LABEL_1), (制, LABEL_1), (》, LABEL_1), (报, LABEL_1), (编, LABEL_1), (报, LABEL_1), (规, LABEL_1), (定, LABEL_1), (编, LABEL_1), (制, LABEL_1), (，, LABEL_1), (按, LABEL_1), (照, LABEL_1), (《, LABEL_1), (会, LABEL_1), (38, LABEL_1), (会, LABEL_1), (的, LABEL_1), (规, LABEL_1), (，, LABEL_1), (编, LABEL_1), (制, LABEL_1), (会, LABEL_1), (计, LABEL_1), (准, LABEL_1), (则, LABEL_1), (的, LABEL_1), (差, LABEL_1), (异, LABEL_1), (调, LABEL_1), (节, LABEL_1), (表, LABEL_1), (年, LABEL_1), (报, LABEL_1), (应, LABEL_1), (按, LABEL_1), (照, LABEL_1), (会, LABEL_1), (计, LABEL_1), (则, LABEL_1), (和, LABEL_1), (编, LABEL_1), (制, LABEL_1), (年, LABEL_1), (度, LABEL_1), (报, LABEL_1), (告, LABEL_1), (的, LABEL_1), (相, LABEL_1), (关, LABEL_1), (规, LABEL_1), (定, LABEL_1), (要, LABEL_1), (求, LABEL_1), (编, LABEL_1), (制, LABEL_1), (。, LABEL_1), (为, LABEL_1), (了, LABEL_1), (会, LABEL_1), (计, LABEL_1), (则, LABEL_1), (施, LABEL_1), (行, LABEL_1), (工, LABEL_1), (作, LABEL_1), (高, LABEL_1), (效, LABEL_1), (、, LABEL_1), (妥, LABEL_1), (地, LABEL_1), (进, LABEL_1), (行, LABEL_1), (，, LABEL_1), (给, LABEL_1), (司, LABEL_1), (、, LABEL_1), (金, LABEL_1), (理, LABEL_1), (司, LABEL_1), (和, LABEL_1), (期, LABEL_1), (货, LABEL_1), (经, LABEL_1), (纪, LABEL_1), (司, LABEL_1), (半, LABEL_1), (年, LABEL_1), (时, LABEL_1), (间, LABEL_1), (做, LABEL_1), (相, LABEL_1), (关, LABEL_1), (准, LABEL_1), (工, LABEL_1), (作, LABEL_1), (，, LABEL_1), (于, LABEL_1), (30, LABEL_1), (前, LABEL_1), (将, LABEL_1)\n",
      "news 22 entities: (据, LABEL_1), (新, LABEL_1), (华, LABEL_1), (社, LABEL_1), (纽, LABEL_1), (约, LABEL_1), (交, LABEL_1), (易, LABEL_1), (集, LABEL_1), (公, LABEL_1), (首, LABEL_1), (席, LABEL_1), (执, LABEL_1), (行, LABEL_1), (官, LABEL_1), (赛, LABEL_1), (恩, LABEL_1), (昨, LABEL_1), (日, LABEL_1), (在, LABEL_1), (北, LABEL_1), (京, LABEL_1), (表, LABEL_1), (示, LABEL_1), (，, LABEL_1), (纽, LABEL_1), (交, LABEL_1), (非, LABEL_1), (常, LABEL_1), (欢, LABEL_1), (迎, LABEL_1), (中, LABEL_1), (国, LABEL_1), (型, LABEL_1), (企, LABEL_1), (到, LABEL_1), (美, LABEL_1), (国, LABEL_1), (上, LABEL_1), (市, LABEL_1), (。, LABEL_1), (赛, LABEL_1), (恩, LABEL_1), (在, LABEL_1), (间, LABEL_1), (的, LABEL_1), (媒, LABEL_1), (体, LABEL_1), (茶, LABEL_1), (话, LABEL_1), (会, LABEL_1), (上, LABEL_1), (说, LABEL_1), (，, LABEL_1), (他, LABEL_1), (也, LABEL_1), (欢, LABEL_1), (迎, LABEL_1), (中, LABEL_1), (国, LABEL_1), (国, LABEL_1), (有, LABEL_1), (企, LABEL_1), (等, LABEL_1), (到, LABEL_1), (上, LABEL_1), (市, LABEL_1), (。, LABEL_1), (他, LABEL_1), (近, LABEL_1), (日, LABEL_1), (会, LABEL_1), (了, LABEL_1), (到, LABEL_1), (美, LABEL_1), (国, LABEL_1), (上, LABEL_1), (市, LABEL_1), (的, LABEL_1), (部, LABEL_1), (分, LABEL_1), (中, LABEL_1), (国, LABEL_1), (公, LABEL_1), (司, LABEL_1), (代, LABEL_1), (表, LABEL_1), (，, LABEL_1), (包, LABEL_1), (括, LABEL_1), (乳, LABEL_1), (品, LABEL_1), (企, LABEL_1), (业, LABEL_1), (、, LABEL_1), (制, LABEL_1), (药, LABEL_1), (公, LABEL_1), (司, LABEL_1), (和, LABEL_1), (手, LABEL_1), (生, LABEL_1), (产, LABEL_1), (商, LABEL_1), (。, LABEL_1), (赛, LABEL_1), (恩, LABEL_1), (说, LABEL_1), (，, LABEL_1), (最, LABEL_1), (近, LABEL_1), (有, LABEL_1), (数, LABEL_1), (家, LABEL_1), (中, LABEL_1), (国, LABEL_1), (成, LABEL_1), (地, LABEL_1), (在, LABEL_1), (交, LABEL_1), (上, LABEL_1), (市, LABEL_1), (，, LABEL_1), (中, LABEL_1), (包, LABEL_1), (括, LABEL_1), (新, LABEL_1), (东, LABEL_1), (方, LABEL_1), (科, LABEL_1), (技, LABEL_1), (集, LABEL_1), (团, LABEL_1), (和, LABEL_1), (医, LABEL_1), (疗, LABEL_1), (。, LABEL_1), (截, LABEL_1), (至, LABEL_1), (今, LABEL_1), (年, LABEL_1), (第, LABEL_1), (三, LABEL_1), (季, LABEL_1), (度, LABEL_1), (末, LABEL_1), (，, LABEL_1), (医, LABEL_1), (疗, LABEL_1), (的, LABEL_1), (股, LABEL_1), (票, LABEL_1), (已, LABEL_1), (增, LABEL_1), (长, LABEL_1), (了, LABEL_1), (３０, LABEL_1), (％, LABEL_1), (，, LABEL_1), (新, LABEL_1), (东, LABEL_1), (方, LABEL_1), (增, LABEL_1), (长, LABEL_1), (了, LABEL_1), (４, LABEL_1), (##０, LABEL_1), (％, LABEL_1), (，, LABEL_1), (已, LABEL_1), (今, LABEL_1), (年, LABEL_1), (在, LABEL_1), (美, LABEL_1), (国, LABEL_1), (股, LABEL_1), (司, LABEL_1), (中, LABEL_1), (表, LABEL_1), (最, LABEL_1), (好, LABEL_1), (的, LABEL_1), (１０, LABEL_1), (家, LABEL_1), (行, LABEL_1), (。, LABEL_1), (赛, LABEL_1), (恩, LABEL_1), (表, LABEL_1), (示, LABEL_1), (，, LABEL_1), (美, LABEL_1), (国, LABEL_1), (的, LABEL_1), (诉, LABEL_1), (讼, LABEL_1), (环, LABEL_1), (境, LABEL_1), (已, LABEL_1), (经, LABEL_1), (吸, LABEL_1), (引, LABEL_1), (上, LABEL_1), (市, LABEL_1), (的, LABEL_1), (面, LABEL_1), (因, LABEL_1), (素, LABEL_1), (，, LABEL_1), (不, LABEL_1), (仅, LABEL_1), (不, LABEL_1), (于, LABEL_1), (中, LABEL_1), (国, LABEL_1), (企, LABEL_1), (，, LABEL_1), (也, LABEL_1), (不, LABEL_1), (于, LABEL_1), (美, LABEL_1), (国, LABEL_1), (企, LABEL_1), (。, LABEL_1), (纽, LABEL_1), (交, LABEL_1), (易, LABEL_1), (所, LABEL_1), (正, LABEL_1), (努, LABEL_1), (力, LABEL_1), (推, LABEL_1), (动, LABEL_1), (订, LABEL_1), (相, LABEL_1), (关, LABEL_1), (法, LABEL_1), (律, LABEL_1), (，, LABEL_1), (以, LABEL_1), (减, LABEL_1), (少, LABEL_1), (昂, LABEL_1), (贵, LABEL_1), (的, LABEL_1), (诉, LABEL_1), (讼, LABEL_1), (成, LABEL_1), (本, LABEL_1), (，, LABEL_1), (减, LABEL_1), (轻, LABEL_1), (上, LABEL_1), (市, LABEL_1), (行, LABEL_1), (相, LABEL_1), (关, LABEL_1), (义, LABEL_1), (务, LABEL_1), (的, LABEL_1), (成, LABEL_1), (本, LABEL_1), (。, LABEL_1), (据, LABEL_1), (纽, LABEL_1), (，, LABEL_1), (目, LABEL_1), (前, LABEL_1), (共, LABEL_1), (有, LABEL_1), (２, LABEL_1), (##７, LABEL_1), (##６, LABEL_1), (##２, LABEL_1), (家, LABEL_1), (在, LABEL_1), (上, LABEL_1), (市, LABEL_1), (，, LABEL_1), (市, LABEL_1), (高, LABEL_1), (达, LABEL_1), (２, LABEL_1), (##３, LABEL_1), (，, LABEL_1), (中, LABEL_1), (４, LABEL_1), (##５, LABEL_1), (##０, LABEL_1), (家, LABEL_1), (来, LABEL_1), (４, LABEL_1), (个, LABEL_1), (国, LABEL_1), (家, LABEL_1), (，, LABEL_1), (市, LABEL_1), (９, LABEL_1), (。, LABEL_1), (中, LABEL_1), (国, LABEL_1), (通, LABEL_1), (、, LABEL_1), (中, LABEL_1), (国, LABEL_1), (石, LABEL_1), (一, LABEL_1), (中, LABEL_1), (国, LABEL_1), (先, LABEL_1), (在, LABEL_1), (上, LABEL_1), (市, LABEL_1), (，, LABEL_1), (数, LABEL_1), (量, LABEL_1), (超, LABEL_1), (过, LABEL_1), (日, LABEL_1), (本, LABEL_1), (和, LABEL_1), (国, LABEL_1), (。, LABEL_1)\n",
      "news 23 entities: (证, LABEL_1), (券, LABEL_1), (时, LABEL_1), (报, LABEL_1), (记, LABEL_1), (者, LABEL_1), (黄, LABEL_1), (张, LABEL_1), (媛, LABEL_1), (本, LABEL_1), (报, LABEL_1), (讯, LABEL_1), (今, LABEL_1), (日, LABEL_1), (沪, LABEL_1), (交, LABEL_1), (易, LABEL_1), (合, LABEL_1), (发, LABEL_1), (布, LABEL_1), (关, LABEL_1), (于, LABEL_1), (上, LABEL_1), (股, LABEL_1), (东, LABEL_1), (其, LABEL_1), (附, LABEL_1), (属, LABEL_1), (企, LABEL_1), (业, LABEL_1), (经, LABEL_1), (营, LABEL_1), (性, LABEL_1), (资, LABEL_1), (金, LABEL_1), (占, LABEL_1), (的, LABEL_1), (告, LABEL_1), (（, LABEL_1), (七, LABEL_1), (）, LABEL_1), (。, LABEL_1), (统, LABEL_1), (计, LABEL_1), (示, LABEL_1), (，, LABEL_1), (11, LABEL_1), (月, LABEL_1), (份, LABEL_1), (股, LABEL_1), (东, LABEL_1), (金, LABEL_1), (占, LABEL_1), (用, LABEL_1), (额, LABEL_1), (由, LABEL_1), (10, LABEL_1), (底, LABEL_1), (的, LABEL_1), (54, LABEL_1), (元, LABEL_1), (减, LABEL_1), (少, LABEL_1), (至, LABEL_1), (233, LABEL_1), (42, LABEL_1), (元, LABEL_1), (目, LABEL_1), (前, LABEL_1), (市, LABEL_1), (还, LABEL_1), (有, LABEL_1), (86, LABEL_1), (家, LABEL_1), (司, LABEL_1), (仍, LABEL_1), (存, LABEL_1), (在, LABEL_1), (资, LABEL_1), (金, LABEL_1), (占, LABEL_1), (问, LABEL_1), (题, LABEL_1), (，, LABEL_1), (较, LABEL_1), (10, LABEL_1), (底, LABEL_1), (100, LABEL_1), (家, LABEL_1), (司, LABEL_1), (减, LABEL_1), (少, LABEL_1), (14, LABEL_1), (家, LABEL_1), (在, LABEL_1), (最, LABEL_1), (一, LABEL_1), (个, LABEL_1), (里, LABEL_1), (，, LABEL_1), (监, LABEL_1), (部, LABEL_1), (门, LABEL_1), (从, LABEL_1), (方, LABEL_1), (面, LABEL_1), (清, LABEL_1), (欠, LABEL_1), (工, LABEL_1), (截, LABEL_1), (至, LABEL_1), (11, LABEL_1), (30, LABEL_1), (日, LABEL_1), (，, LABEL_1), (市, LABEL_1), (共, LABEL_1), (有, LABEL_1), (325, LABEL_1), (家, LABEL_1), (上, LABEL_1), (市, LABEL_1), (司, LABEL_1), (完, LABEL_1), (成, LABEL_1), (了, LABEL_1), (清, LABEL_1), (工, LABEL_1), (作, LABEL_1), (，, LABEL_1), (56, LABEL_1), (家, LABEL_1), (上, LABEL_1), (司, LABEL_1), (部, LABEL_1), (分, LABEL_1), (完, LABEL_1), (成, LABEL_1), (清, LABEL_1), (欠, LABEL_1), (工, LABEL_1), (作, LABEL_1), (，, LABEL_1), (合, LABEL_1), (计, LABEL_1), (清, LABEL_1), (欠, LABEL_1), (金, LABEL_1), (额, LABEL_1), (256, LABEL_1), (71, LABEL_1), (亿, LABEL_1), (元, LABEL_1), (，, LABEL_1), (占, LABEL_1), (所, LABEL_1), (需, LABEL_1), (清, LABEL_1), (偿, LABEL_1), (金, LABEL_1), (额, LABEL_1), (的, LABEL_1), (52, LABEL_1), (., LABEL_1), (38, LABEL_1), (%, LABEL_1), (；, LABEL_1), (同, LABEL_1), (时, LABEL_1), (，, LABEL_1), (市, LABEL_1), (共, LABEL_1), (有, LABEL_1), (17, LABEL_1), (家, LABEL_1), (上, LABEL_1), (市, LABEL_1), (以, LABEL_1), (股, LABEL_1), (抵, LABEL_1), (以, LABEL_1), (资, LABEL_1), (抵, LABEL_1), (已, LABEL_1), (股, LABEL_1), (通, LABEL_1), (过, LABEL_1), (，, LABEL_1), (清, LABEL_1), (，, LABEL_1), (金, LABEL_1), (额, LABEL_1), (计, LABEL_1), (89, LABEL_1), (目, LABEL_1), (前, LABEL_1), (清, LABEL_1), (欠, LABEL_1), (工, LABEL_1), (作, LABEL_1), (大, LABEL_1), (限, LABEL_1), (将, LABEL_1), (近, LABEL_1), (，, LABEL_1), (资, LABEL_1), (金, LABEL_1), (占, LABEL_1), (的, LABEL_1), (形, LABEL_1), (势, LABEL_1), (依, LABEL_1), (然, LABEL_1), (严, LABEL_1), (。, LABEL_1), (统, LABEL_1), (，, LABEL_1), (截, LABEL_1), (至, LABEL_1), (11, LABEL_1), (30, LABEL_1), (日, LABEL_1), (市, LABEL_1), (还, LABEL_1), (有, LABEL_1), (86, LABEL_1), (家, LABEL_1), (司, LABEL_1), (仍, LABEL_1), (金, LABEL_1), (占, LABEL_1), (问, LABEL_1), (题, LABEL_1), (，, LABEL_1), (占, LABEL_1), (额, LABEL_1), (仍, LABEL_1), (高, LABEL_1), (达, LABEL_1), (42, LABEL_1), (元, LABEL_1), (且, LABEL_1), (未, LABEL_1), (清, LABEL_1), (普, LABEL_1), (遍, LABEL_1), (占, LABEL_1), (史, LABEL_1), (长, LABEL_1), (、, LABEL_1), (占, LABEL_1), (、, LABEL_1), (清, LABEL_1), (欠, LABEL_1), (度, LABEL_1), (特, LABEL_1), (，, LABEL_1), (部, LABEL_1), (门, LABEL_1), (以, LABEL_1), (下, LABEL_1), (工, LABEL_1), (：, LABEL_1), (是, LABEL_1), (推, LABEL_1), (动, LABEL_1), (地, LABEL_1), (方, LABEL_1), (府, LABEL_1), (资, LABEL_1), (帮, LABEL_1), (助, LABEL_1), (国, LABEL_1), (有, LABEL_1), (司, LABEL_1), (尽, LABEL_1), (快, LABEL_1), (清, LABEL_1), (欠, LABEL_1), (对, LABEL_1), (清, LABEL_1), (欠, LABEL_1), (不, LABEL_1), (和, LABEL_1), (不, LABEL_1), (责, LABEL_1), (的, LABEL_1), (国, LABEL_1), (有, LABEL_1), (股, LABEL_1), (股, LABEL_1), (东, LABEL_1), (负, LABEL_1), (责, LABEL_1), (人, LABEL_1), (和, LABEL_1), (国, LABEL_1), (有, LABEL_1), (上, LABEL_1), (负, LABEL_1), (责, LABEL_1), (人, LABEL_1), (，, LABEL_1), (建, LABEL_1), (议, LABEL_1), (当, LABEL_1), (地, LABEL_1), (资, LABEL_1), (门, LABEL_1), (和, LABEL_1), (组, LABEL_1), (织, LABEL_1), (事, LABEL_1), (门, LABEL_1), (对, LABEL_1), (其, LABEL_1), (采, LABEL_1), (取, LABEL_1), (或, LABEL_1), (分, LABEL_1), (，, LABEL_1), (究, LABEL_1), (刑, LABEL_1), (责, LABEL_1), (；, LABEL_1), (二, LABEL_1), (是, LABEL_1), (敦, LABEL_1), (促, LABEL_1), (营, LABEL_1), (股, LABEL_1), (上, LABEL_1), (市, LABEL_1), (《, LABEL_1)\n",
      "news 24 entities: (个, LABEL_1), (融, LABEL_1), (资, LABEL_1), (金, LABEL_1), (额, LABEL_1), (新, LABEL_1), (高, LABEL_1), (时, LABEL_1), (报, LABEL_1), (记, LABEL_1), (者, LABEL_1), (鹏, LABEL_1), (本, LABEL_1), (报, LABEL_1), (昨, LABEL_1), (天, LABEL_1), (是, LABEL_1), (的, LABEL_1), (最, LABEL_1), (一, LABEL_1), (个, LABEL_1), (交, LABEL_1), (易, LABEL_1), (，, LABEL_1), (度, LABEL_1), (上, LABEL_1), (扬, LABEL_1), (，, LABEL_1), (双, LABEL_1), (高, LABEL_1), (。, LABEL_1), (最, LABEL_1), (新, LABEL_1), (数, LABEL_1), (据, LABEL_1), (，, LABEL_1), (市, LABEL_1), (市, LABEL_1), (值, LABEL_1), (在, LABEL_1), (上, LABEL_1), (底, LABEL_1), (刚, LABEL_1), (刚, LABEL_1), (，, LABEL_1), (目, LABEL_1), (前, LABEL_1), (已, LABEL_1), (越, LABEL_1), (，, LABEL_1), (占, LABEL_1), (GDP, LABEL_1), (比, LABEL_1), (重, LABEL_1), (50, LABEL_1), (％, LABEL_1), (，, LABEL_1), (达, LABEL_1), (到, LABEL_1), (50, LABEL_1), (., LABEL_1), (％, LABEL_1), (。, LABEL_1), (在, LABEL_1), (级, LABEL_1), (持, LABEL_1), (走, LABEL_1), (牛, LABEL_1), (的, LABEL_1), (同, LABEL_1), (时, LABEL_1), (，, LABEL_1), (金, LABEL_1), (也, LABEL_1), (史, LABEL_1), (新, LABEL_1), (高, LABEL_1), (。, LABEL_1), (据, LABEL_1), (，, LABEL_1), (今, LABEL_1), (11, LABEL_1), (个, LABEL_1), (，, LABEL_1), (金, LABEL_1), (额, LABEL_1), (达, LABEL_1), (到, LABEL_1), (##2, LABEL_1), (，, LABEL_1), (一, LABEL_1), (超, LABEL_1), (越, LABEL_1), (的, LABEL_1), (162, LABEL_1), (##5, LABEL_1), (元, LABEL_1), (，, LABEL_1), (下, LABEL_1), (一, LABEL_1), (个, LABEL_1), (新, LABEL_1), (的, LABEL_1), (历, LABEL_1), (史, LABEL_1), (纪, LABEL_1), (录, LABEL_1), (。, LABEL_1), (如, LABEL_1), (果, LABEL_1), (算, LABEL_1), (上, LABEL_1), (目, LABEL_1), (前, LABEL_1), (已, LABEL_1), (经, LABEL_1), (进, LABEL_1), (入, LABEL_1), (，, LABEL_1), (但, LABEL_1), (尚, LABEL_1), (未, LABEL_1), (价, LABEL_1), (格, LABEL_1), (的, LABEL_1), (家, LABEL_1), (司, LABEL_1), (，, LABEL_1), (年, LABEL_1), (的, LABEL_1), (融, LABEL_1), (资, LABEL_1), (金, LABEL_1), (额, LABEL_1), (至, LABEL_1), (少, LABEL_1), (将, LABEL_1), (达, LABEL_1), (年, LABEL_1), (来, LABEL_1), (，, LABEL_1), (中, LABEL_1), (国, LABEL_1), (从, LABEL_1), (无, LABEL_1), (到, LABEL_1), (有, LABEL_1), (，, LABEL_1), (不, LABEL_1), (断, LABEL_1), (发, LABEL_1), (展, LABEL_1), (壮, LABEL_1), (大, LABEL_1), (，, LABEL_1), (就, LABEL_1), (斐, LABEL_1), (然, LABEL_1), (。, LABEL_1), (统, LABEL_1), (计, LABEL_1), (，, LABEL_1), (目, LABEL_1), (前, LABEL_1), (市, LABEL_1), (司, LABEL_1), (家, LABEL_1), (数, LABEL_1), (达, LABEL_1), (到, LABEL_1), (家, LABEL_1), (，, LABEL_1), (本, LABEL_1), (124, LABEL_1), (##35, LABEL_1), (亿, LABEL_1), (，, LABEL_1), (市, LABEL_1), (70, LABEL_1), (##85, LABEL_1), (##2, LABEL_1), (元, LABEL_1), (，, LABEL_1), (占, LABEL_1), (GDP, LABEL_1), (的, LABEL_1), (比, LABEL_1), (重, LABEL_1), (达, LABEL_1), (到, LABEL_1), (50, LABEL_1), (., LABEL_1), (％, LABEL_1), (；, LABEL_1), (而, LABEL_1), (上, LABEL_1), (破, LABEL_1), (50, LABEL_1), (%, LABEL_1), (，, LABEL_1), (还, LABEL_1), (要, LABEL_1), (追, LABEL_1), (。, LABEL_1), (尽, LABEL_1), (管, LABEL_1), (今, LABEL_1), (年, LABEL_1), (以, LABEL_1), (来, LABEL_1), (出, LABEL_1), (现, LABEL_1), (较, LABEL_1), (幅, LABEL_1), (度, LABEL_1), (的, LABEL_1), (涨, LABEL_1), (升, LABEL_1), (，, LABEL_1), (值, LABEL_1), (水, LABEL_1), (平, LABEL_1), (于, LABEL_1), (上, LABEL_1), (的, LABEL_1), (个, LABEL_1), (相, LABEL_1), (对, LABEL_1), (较, LABEL_1), (低, LABEL_1), (的, LABEL_1), (水, LABEL_1), (平, LABEL_1), (。, LABEL_1), (统, LABEL_1), (计, LABEL_1), (，, LABEL_1), (截, LABEL_1), (至, LABEL_1), (日, LABEL_1), (，, LABEL_1), (分, LABEL_1), (别, LABEL_1), (为, LABEL_1), (28, LABEL_1), (，, LABEL_1), (在, LABEL_1), (中, LABEL_1), (国, LABEL_1), (年, LABEL_1), (的, LABEL_1), (历, LABEL_1), (中, LABEL_1), (，, LABEL_1), (名, LABEL_1), (数, LABEL_1), (第, LABEL_1), (5, LABEL_1), (。, LABEL_1), (而, LABEL_1), (平, LABEL_1), (均, LABEL_1), (股, LABEL_1), (价, LABEL_1), (标, LABEL_1), (方, LABEL_1), (面, LABEL_1), (，, LABEL_1), (深, LABEL_1), (为, LABEL_1), (75, LABEL_1), (元, LABEL_1), (、, LABEL_1), (沪, LABEL_1), (为, LABEL_1), (48, LABEL_1), (元, LABEL_1), (，, LABEL_1), (名, LABEL_1), (分, LABEL_1), (别, LABEL_1), (为, LABEL_1), (数, LABEL_1), (第, LABEL_1), (6, LABEL_1), (和, LABEL_1), (数, LABEL_1), (第, LABEL_1), (4, LABEL_1), (位, LABEL_1), (。, LABEL_1)\n",
      "news 25 entities: (本, LABEL_1), (周, LABEL_1), (三, LABEL_1), (周, LABEL_1), (四, LABEL_1), (，, LABEL_1), (港, LABEL_1), (股, LABEL_1), (连, LABEL_1), (升, LABEL_1), (两, LABEL_1), (个, LABEL_1), (交, LABEL_1), (易, LABEL_1), (，, LABEL_1), (周, LABEL_1), (二, LABEL_1), (在, LABEL_1), (干, LABEL_1), (基, LABEL_1), (金, LABEL_1), (大, LABEL_1), (期, LABEL_1), (、, LABEL_1), (期, LABEL_1), (权, LABEL_1), (大, LABEL_1), (震, LABEL_1), (仓, LABEL_1), (的, LABEL_1), (“, LABEL_1), (大, LABEL_1), (跌, LABEL_1), (市, LABEL_1), (。, LABEL_1), (笔, LABEL_1), (者, LABEL_1), (，, LABEL_1), (基, LABEL_1), (金, LABEL_1), (大, LABEL_1), (此, LABEL_1), (番, LABEL_1), (在, LABEL_1), (，, LABEL_1), (暂, LABEL_1), (破, LABEL_1), (坏, LABEL_1), (港, LABEL_1), (股, LABEL_1), (好, LABEL_1), (的, LABEL_1), (，, LABEL_1), (得, LABEL_1), (于, LABEL_1), (香, LABEL_1), (港, LABEL_1), (局, LABEL_1), (密, LABEL_1), (切, LABEL_1), (注, LABEL_1), (不, LABEL_1), (当, LABEL_1), (的, LABEL_1), (市, LABEL_1), (场, LABEL_1), (行, LABEL_1), (为, LABEL_1), (，, LABEL_1), (并, LABEL_1), (化, LABEL_1), (对, LABEL_1), (衍, LABEL_1), (工, LABEL_1), (的, LABEL_1), (管, LABEL_1), (制, LABEL_1), (。, LABEL_1), (市, LABEL_1), (况, LABEL_1), (，, LABEL_1), (恒, LABEL_1), (指, LABEL_1), (数, LABEL_1), (自, LABEL_1), (的, LABEL_1), (低, LABEL_1), (位, LABEL_1), (##05, LABEL_1), (反, LABEL_1), (上, LABEL_1), (升, LABEL_1), (至, LABEL_1), (的, LABEL_1), (历, LABEL_1), (高, LABEL_1), (，, LABEL_1), (在, LABEL_1), (四, LABEL_1), (个, LABEL_1), (多, LABEL_1), (时, LABEL_1), (间, LABEL_1), (上, LABEL_1), (升, LABEL_1), (27, LABEL_1), (%, LABEL_1), (，, LABEL_1), (其, LABEL_1), (进, LABEL_1), (行, LABEL_1), (深, LABEL_1), (度, LABEL_1), (调, LABEL_1), (健, LABEL_1), (康, LABEL_1), (。, LABEL_1), (不, LABEL_1), (过, LABEL_1), (，, LABEL_1), (唯, LABEL_1), (一, LABEL_1), (笔, LABEL_1), (者, LABEL_1), (担, LABEL_1), (，, LABEL_1), (周, LABEL_1), (二, LABEL_1), (外, LABEL_1), (围, LABEL_1), (股, LABEL_1), (市, LABEL_1), (，, LABEL_1), (尤, LABEL_1), (其, LABEL_1), (是, LABEL_1), (东, LABEL_1), (京, LABEL_1), (、, LABEL_1), (新, LABEL_1), (加, LABEL_1), (亚, LABEL_1), (洲, LABEL_1), (要, LABEL_1), (股, LABEL_1), (市, LABEL_1), (经, LABEL_1), (早, LABEL_1), (段, LABEL_1), (向, LABEL_1), (下, LABEL_1), (后, LABEL_1), (，, LABEL_1), (迅, LABEL_1), (速, LABEL_1), (收, LABEL_1), (窄, LABEL_1), (跌, LABEL_1), (幅, LABEL_1), (回, LABEL_1), (稳, LABEL_1), (，, LABEL_1), (而, LABEL_1), (外, LABEL_1), (资, LABEL_1), (基, LABEL_1), (金, LABEL_1), (大, LABEL_1), (却, LABEL_1), (不, LABEL_1), (由, LABEL_1), (，, LABEL_1), (一, LABEL_1), (沽, LABEL_1), (汇, LABEL_1), (丰, LABEL_1), (（, LABEL_1), (HK, LABEL_1), (）, LABEL_1), (和, LABEL_1), (中, LABEL_1), (国, LABEL_1), (动, LABEL_1), (（, LABEL_1), (HK, LABEL_1), (）, LABEL_1), (主, LABEL_1), (要, LABEL_1), (蓝, LABEL_1), (筹, LABEL_1), (股, LABEL_1), (，, LABEL_1), (以, LABEL_1), (到, LABEL_1), (人, LABEL_1), (为, LABEL_1), (的, LABEL_1), (效, LABEL_1), (果, LABEL_1), (。, LABEL_1), (因, LABEL_1), (此, LABEL_1), (，, LABEL_1), (恒, LABEL_1), (在, LABEL_1), (周, LABEL_1), (二, LABEL_1), (大, LABEL_1), (幅, LABEL_1), (低, LABEL_1), (开, LABEL_1), (227, LABEL_1), (点, LABEL_1), (，, LABEL_1), (以, LABEL_1), (点, LABEL_1), (日, LABEL_1), (高, LABEL_1), (点, LABEL_1), (，, LABEL_1), (节, LABEL_1), (下, LABEL_1), (滑, LABEL_1), (至, LABEL_1), (最, LABEL_1), (低, LABEL_1), (，, LABEL_1), (为, LABEL_1), (53, LABEL_1), (点, LABEL_1), (，, LABEL_1), (56, LABEL_1), (48, LABEL_1), (点, LABEL_1), (，, LABEL_1), (交, LABEL_1), (元, LABEL_1), (，, LABEL_1), (较, LABEL_1), (一, LABEL_1), (元, LABEL_1), (增, LABEL_1), (长, LABEL_1), (30, LABEL_1), (., LABEL_1), (%, LABEL_1), (，, LABEL_1), (度, LABEL_1), (。, LABEL_1), (所, LABEL_1), (的, LABEL_1), (，, LABEL_1), (基, LABEL_1), (金, LABEL_1), (大, LABEL_1), (间, LABEL_1), (。, LABEL_1), (日, LABEL_1), (，, LABEL_1), (恒, LABEL_1), (上, LABEL_1), (升, LABEL_1), (55, LABEL_1), (点, LABEL_1), (，, LABEL_1), (48, LABEL_1), (点, LABEL_1), (，, LABEL_1), (一, LABEL_1), (度, LABEL_1), (关, LABEL_1), (口, LABEL_1), (。, LABEL_1), (虽, LABEL_1), (然, LABEL_1), (升, LABEL_1), (幅, LABEL_1), (不, LABEL_1), (如, LABEL_1), (市, LABEL_1), (场, LABEL_1), (人, LABEL_1), (士, LABEL_1), (憧, LABEL_1), (般, LABEL_1), (可, LABEL_1), (，, LABEL_1), (但, LABEL_1), (是, LABEL_1), (继, LABEL_1), (周, LABEL_1), (三, LABEL_1), (反, LABEL_1), (弹, LABEL_1), (4, LABEL_1), (之, LABEL_1), (后, LABEL_1), (连, LABEL_1), (续, LABEL_1), (第, LABEL_1), (二, LABEL_1), (个, LABEL_1), (交, LABEL_1), (易, LABEL_1), (上, LABEL_1), (扬, LABEL_1), (，, LABEL_1), (表, LABEL_1), (现, LABEL_1), (算, LABEL_1), (不, LABEL_1), (俗, LABEL_1), (。, LABEL_1), (昨, LABEL_1), (日, LABEL_1), (成, LABEL_1), (交, LABEL_1), (额, LABEL_1), (46, LABEL_1), (##6, LABEL_1), (67, LABEL_1), (元, LABEL_1), (，, LABEL_1), (较, LABEL_1), (上, LABEL_1), (一, LABEL_1), (个, LABEL_1), (交, LABEL_1), (易, LABEL_1), (62, LABEL_1), (元, LABEL_1), (减, LABEL_1), (少, LABEL_1), (33, LABEL_1), (99, LABEL_1)\n",
      "news 26 entities: (证, LABEL_1), (券, LABEL_1), (时, LABEL_1), (报, LABEL_1), (记, LABEL_1), (者, LABEL_1), (张, LABEL_1), (媛, LABEL_1), (媛, LABEL_1), (胡, LABEL_1), (学, LABEL_1), (本, LABEL_1), (报, LABEL_1), (讯, LABEL_1), (继, LABEL_1), (昨, LABEL_1), (日, LABEL_1), (司, LABEL_1), (中, LABEL_1), (小, LABEL_1), (，, LABEL_1), (中, LABEL_1), (小, LABEL_1), (今, LABEL_1), (日, LABEL_1), (又, LABEL_1), (来, LABEL_1), (两, LABEL_1), (司, LABEL_1), (招, LABEL_1), (，, LABEL_1), (中, LABEL_1), (小, LABEL_1), (上, LABEL_1), (家, LABEL_1), (数, LABEL_1), (家, LABEL_1), (。, LABEL_1), (有, LABEL_1), (关, LABEL_1), (人, LABEL_1), (士, LABEL_1), (预, LABEL_1), (计, LABEL_1), (，, LABEL_1), (中, LABEL_1), (小, LABEL_1), (扩, LABEL_1), (容, LABEL_1), (提, LABEL_1), (速, LABEL_1), (，, LABEL_1), (深, LABEL_1), (司, LABEL_1), (家, LABEL_1), (数, LABEL_1), (有, LABEL_1), (在, LABEL_1), (底, LABEL_1), (后, LABEL_1), (超, LABEL_1), (过, LABEL_1), (。, LABEL_1), (数, LABEL_1), (据, LABEL_1), (，, LABEL_1), (之, LABEL_1), (前, LABEL_1), (，, LABEL_1), (中, LABEL_1), (小, LABEL_1), (板, LABEL_1), (共, LABEL_1), (50, LABEL_1), (家, LABEL_1), (上, LABEL_1), (司, LABEL_1), (；, LABEL_1), (而, LABEL_1), (自, LABEL_1), (今, LABEL_1), (5, LABEL_1), (底, LABEL_1), (老, LABEL_1), (以, LABEL_1), (来, LABEL_1), (，, LABEL_1), (中, LABEL_1), (小, LABEL_1), (上, LABEL_1), (提, LABEL_1), (速, LABEL_1), (，, LABEL_1), (中, LABEL_1), (，, LABEL_1), (上, LABEL_1), (过, LABEL_1), (企, LABEL_1), (达, LABEL_1), (50, LABEL_1), (家, LABEL_1), (，, LABEL_1), (平, LABEL_1), (均, LABEL_1), (3, LABEL_1), (天, LABEL_1), (有, LABEL_1), (家, LABEL_1), (。, LABEL_1), (中, LABEL_1), (小, LABEL_1), (板, LABEL_1), (现, LABEL_1), (有, LABEL_1), (已, LABEL_1), (企, LABEL_1), (业, LABEL_1), (89, LABEL_1), (家, LABEL_1), (，, LABEL_1), (企, LABEL_1), (业, LABEL_1), (3, LABEL_1), (家, LABEL_1), (，, LABEL_1), (已, LABEL_1), (过, LABEL_1), (企, LABEL_1), (业, LABEL_1), (8, LABEL_1), (家, LABEL_1), (。, LABEL_1), (另, LABEL_1), (有, LABEL_1), (消, LABEL_1), (息, LABEL_1), (，, LABEL_1), (中, LABEL_1), (小, LABEL_1), (企, LABEL_1), (发, LABEL_1), (行, LABEL_1), (速, LABEL_1), (度, LABEL_1), (或, LABEL_1), (将, LABEL_1), (由, LABEL_1), (目, LABEL_1), (前, LABEL_1), (的, LABEL_1), (每, LABEL_1), (周, LABEL_1), (3, LABEL_1), (提, LABEL_1), (高, LABEL_1), (到, LABEL_1), (每, LABEL_1), (周, LABEL_1), (5, LABEL_1), (6, LABEL_1), (鉴, LABEL_1), (，, LABEL_1), (有, LABEL_1), (关, LABEL_1), (专, LABEL_1), (家, LABEL_1), (预, LABEL_1), (，, LABEL_1), (中, LABEL_1), (小, LABEL_1), (扩, LABEL_1), (容, LABEL_1), (提, LABEL_1), (速, LABEL_1), (，, LABEL_1), (司, LABEL_1), (家, LABEL_1), (数, LABEL_1), (有, LABEL_1), (在, LABEL_1), (底, LABEL_1), (超, LABEL_1), (过, LABEL_1), (。, LABEL_1), (截, LABEL_1), (至, LABEL_1), (28, LABEL_1), (日, LABEL_1), (，, LABEL_1), (和, LABEL_1), (上, LABEL_1), (分, LABEL_1), (别, LABEL_1), (有, LABEL_1), (56, LABEL_1), (##3, LABEL_1), (家, LABEL_1), (和, LABEL_1), (83, LABEL_1), (##1, LABEL_1), (家, LABEL_1), (司, LABEL_1), (如, LABEL_1), (按, LABEL_1), (中, LABEL_1), (小, LABEL_1), (每, LABEL_1), (周, LABEL_1), (5, LABEL_1), (—, LABEL_1), (的, LABEL_1), (速, LABEL_1), (度, LABEL_1), (，, LABEL_1), (年, LABEL_1), (约, LABEL_1), (可, LABEL_1), (240, LABEL_1), (家, LABEL_1), (司, LABEL_1), (。, LABEL_1), (按, LABEL_1), (当, LABEL_1), (前, LABEL_1), (的, LABEL_1), (速, LABEL_1), (度, LABEL_1), (，, LABEL_1), (在, LABEL_1), (30, LABEL_1), (家, LABEL_1), (以, LABEL_1), (内, LABEL_1), (因, LABEL_1), (司, LABEL_1), (多, LABEL_1), (特, LABEL_1), (征, LABEL_1), (，, LABEL_1), (在, LABEL_1), (1, LABEL_1), (以, LABEL_1), (。, LABEL_1), (据, LABEL_1), (本, LABEL_1), (息, LABEL_1), (，, LABEL_1), (市, LABEL_1), (方, LABEL_1), (面, LABEL_1), (，, LABEL_1), (截, LABEL_1), (至, LABEL_1), (昨, LABEL_1), (日, LABEL_1), (，, LABEL_1), (中, LABEL_1), (小, LABEL_1), (市, LABEL_1), (达, LABEL_1), (到, LABEL_1), (56, LABEL_1), (，, LABEL_1), (而, LABEL_1), (在, LABEL_1), (中, LABEL_1), (工, LABEL_1), (上, LABEL_1), (，, LABEL_1), (中, LABEL_1), (小, LABEL_1), (仅, LABEL_1), (为, LABEL_1), (77, LABEL_1), (##8, LABEL_1), (31, LABEL_1), (元, LABEL_1), (，, LABEL_1), (增, LABEL_1), (幅, LABEL_1), (高, LABEL_1), (达, LABEL_1), (110, LABEL_1), (%, LABEL_1), (。, LABEL_1), (募, LABEL_1), (资, LABEL_1), (方, LABEL_1), (面, LABEL_1), (，, LABEL_1), (中, LABEL_1), (小, LABEL_1), (板, LABEL_1), (今, LABEL_1), (年, LABEL_1), (IPO, LABEL_1), (募, LABEL_1), (金, LABEL_1), (额, LABEL_1), (高, LABEL_1), (于, LABEL_1), (两, LABEL_1), (个, LABEL_1), (年, LABEL_1), (头, LABEL_1), (的, LABEL_1), (募, LABEL_1), (金, LABEL_1), (额, LABEL_1), (的, LABEL_1), (总, LABEL_1), (和, LABEL_1), (。, LABEL_1), (中, LABEL_1), (小, LABEL_1), (2, LABEL_1), (年, LABEL_1), (多, LABEL_1), (来, LABEL_1), (，, LABEL_1), (募, LABEL_1), (金, LABEL_1), (额, LABEL_1), (共, LABEL_1), (计, LABEL_1), (4, LABEL_1)\n",
      "news 27 entities: (中, LABEL_1), (国, LABEL_1), (（, LABEL_1), (07, LABEL_1), (##28, LABEL_1), (HK, LABEL_1), (）, LABEL_1), (近, LABEL_1), (日, LABEL_1), (花, LABEL_1), (旗, LABEL_1), (瑞, LABEL_1), (信, LABEL_1), (上, LABEL_1), (调, LABEL_1), (股, LABEL_1), (标, LABEL_1), (价, LABEL_1), (至, LABEL_1), (05, LABEL_1), (元, LABEL_1), (2, LABEL_1), (元, LABEL_1), (。, LABEL_1), (虽, LABEL_1), (然, LABEL_1), (价, LABEL_1), (至, LABEL_1), (今, LABEL_1), (已, LABEL_1), (上, LABEL_1), (升, LABEL_1), (40, LABEL_1), (%, LABEL_1), (，, LABEL_1), (。, LABEL_1), (建, LABEL_1), (议, LABEL_1), (逢, LABEL_1), (低, LABEL_1), (价, LABEL_1), (70, LABEL_1), (港, LABEL_1), (元, LABEL_1), (，, LABEL_1), (3, LABEL_1), (30, LABEL_1), (港, LABEL_1), (元, LABEL_1), (。, LABEL_1), (（, LABEL_1), (亨, LABEL_1), (达, LABEL_1), (集, LABEL_1), (团, LABEL_1), (）, LABEL_1), (北, LABEL_1), (京, LABEL_1), (（, LABEL_1), (015, LABEL_1), (HK, LABEL_1), (）, LABEL_1), (司, LABEL_1), (上, LABEL_1), (周, LABEL_1), (北, LABEL_1), (京, LABEL_1), (地, LABEL_1), (营, LABEL_1), (司, LABEL_1), (营, LABEL_1), (公, LABEL_1), (司, LABEL_1), (北, LABEL_1), (京, LABEL_1), (地, LABEL_1), (展, LABEL_1), (有, LABEL_1), (公, LABEL_1), (司, LABEL_1), (者, LABEL_1), (别, LABEL_1), (占, LABEL_1), (51, LABEL_1), (%, LABEL_1), (49, LABEL_1), (%, LABEL_1), (的, LABEL_1), (权, LABEL_1), (益, LABEL_1), (。, LABEL_1), (随, LABEL_1), (着, LABEL_1), (北, LABEL_1), (京, LABEL_1), (2008, LABEL_1), (奥, LABEL_1), (运, LABEL_1), (，, LABEL_1), (未, LABEL_1), (来, LABEL_1), (对, LABEL_1), (有, LABEL_1), (关, LABEL_1), (信, LABEL_1), (息, LABEL_1), (需, LABEL_1), (上, LABEL_1), (升, LABEL_1), (。, LABEL_1), (我, LABEL_1), (们, LABEL_1), (给, LABEL_1), (该, LABEL_1), (股, LABEL_1), (目, LABEL_1), (标, LABEL_1), (位, LABEL_1), (4, LABEL_1), (元, LABEL_1), (，, LABEL_1), (1, LABEL_1), (港, LABEL_1), (元, LABEL_1), (。, LABEL_1), (（, LABEL_1), (信, LABEL_1), (诚, LABEL_1), (）, LABEL_1)\n",
      "news 28 entities: (证, LABEL_1), (时, LABEL_1), (报, LABEL_1), (记, LABEL_1), (者, LABEL_1), (于, LABEL_1), (扬, LABEL_1), (本, LABEL_1), (报, LABEL_1), (讯, LABEL_1), (因, LABEL_1), (河, LABEL_1), (北, LABEL_1), (、, LABEL_1), (中, LABEL_1), (关, LABEL_1), (村, LABEL_1), (、, LABEL_1), (中, LABEL_1), (国, LABEL_1), (科, LABEL_1), (、, LABEL_1), (新, LABEL_1), (疆, LABEL_1), (和, LABEL_1), (健, LABEL_1), (桥, LABEL_1), (5, LABEL_1), (家, LABEL_1), (司, LABEL_1), (经, LABEL_1), (营, LABEL_1), (，, LABEL_1), (中, LABEL_1), (国, LABEL_1), (8, LABEL_1), (作, LABEL_1), (出, LABEL_1), (定, LABEL_1), (，, LABEL_1), (撤, LABEL_1), (销, LABEL_1), (上, LABEL_1), (5, LABEL_1), (家, LABEL_1), (构, LABEL_1), (根, LABEL_1), (据, LABEL_1), (《, LABEL_1), (中, LABEL_1), (国, LABEL_1), (协, LABEL_1), (会, LABEL_1), (章, LABEL_1), (程, LABEL_1), (》, LABEL_1), (及, LABEL_1), (《, LABEL_1), (中, LABEL_1), (国, LABEL_1), (协, LABEL_1), (会, LABEL_1), (会, LABEL_1), (员, LABEL_1), (管, LABEL_1), (理, LABEL_1), (法, LABEL_1), (》, LABEL_1), (的, LABEL_1), (有, LABEL_1), (关, LABEL_1), (规, LABEL_1), (定, LABEL_1), (，, LABEL_1), (中, LABEL_1), (国, LABEL_1), (协, LABEL_1), (会, LABEL_1), (也, LABEL_1), (定, LABEL_1), (，, LABEL_1), (自, LABEL_1), (日, LABEL_1), (起, LABEL_1), (终, LABEL_1), (止, LABEL_1), (上, LABEL_1), (述, LABEL_1), (5, LABEL_1), (家, LABEL_1), (构, LABEL_1), (的, LABEL_1), (中, LABEL_1), (国, LABEL_1), (协, LABEL_1), (会, LABEL_1), (会, LABEL_1), (员, LABEL_1), (资, LABEL_1), (格, LABEL_1), (有, LABEL_1), (关, LABEL_1), (终, LABEL_1), (止, LABEL_1), (会, LABEL_1), (员, LABEL_1), (资, LABEL_1), (格, LABEL_1), (告, LABEL_1), (已, LABEL_1), (由, LABEL_1), (协, LABEL_1), (会, LABEL_1)\n",
      "news 29 entities: (中, LABEL_1), (国, LABEL_1), (日, LABEL_1), (前, LABEL_1), (布, LABEL_1), (了, LABEL_1), (版, LABEL_1), (的, LABEL_1), (《, LABEL_1), (董, LABEL_1), (监, LABEL_1), (高, LABEL_1), (理, LABEL_1), (人, LABEL_1), (员, LABEL_1), (职, LABEL_1), (资, LABEL_1), (格, LABEL_1), (监, LABEL_1), (管, LABEL_1), (法, LABEL_1), (》, LABEL_1), (，, LABEL_1), (于, LABEL_1), (今, LABEL_1), (开, LABEL_1), (施, LABEL_1), (。, LABEL_1), (《, LABEL_1), (监, LABEL_1), (管, LABEL_1), (法, LABEL_1), (》, LABEL_1), (扩, LABEL_1), (大, LABEL_1), (了, LABEL_1), (职, LABEL_1), (资, LABEL_1), (格, LABEL_1), (监, LABEL_1), (管, LABEL_1), (的, LABEL_1), (范, LABEL_1), (围, LABEL_1), (，, LABEL_1), (将, LABEL_1), (独, LABEL_1), (立, LABEL_1), (董, LABEL_1), (、, LABEL_1), (董, LABEL_1), (、, LABEL_1), (监, LABEL_1), (都, LABEL_1), (监, LABEL_1), (管, LABEL_1), (范, LABEL_1), (围, LABEL_1), (；, LABEL_1), (同, LABEL_1), (时, LABEL_1), (把, LABEL_1), (高, LABEL_1), (管, LABEL_1), (人, LABEL_1), (员, LABEL_1), (的, LABEL_1), (范, LABEL_1), (围, LABEL_1), (扩, LABEL_1), (大, LABEL_1), (至, LABEL_1), (员, LABEL_1), (会, LABEL_1), (、, LABEL_1), (会, LABEL_1), (以, LABEL_1), (及, LABEL_1), (类, LABEL_1), (似, LABEL_1), (构, LABEL_1), (的, LABEL_1), (成, LABEL_1), (、, LABEL_1), (董, LABEL_1), (、, LABEL_1), (支, LABEL_1), (构, LABEL_1), (负, LABEL_1), (责, LABEL_1), (人, LABEL_1), (等, LABEL_1), (人, LABEL_1), (员, LABEL_1), (《, LABEL_1), (监, LABEL_1), (管, LABEL_1), (法, LABEL_1), (》, LABEL_1), (对, LABEL_1), (年, LABEL_1), (施, LABEL_1), (的, LABEL_1), (《, LABEL_1), (高, LABEL_1), (理, LABEL_1), (人, LABEL_1), (员, LABEL_1), (管, LABEL_1), (理, LABEL_1), (法, LABEL_1), (》, LABEL_1), (相, LABEL_1), (关, LABEL_1), (规, LABEL_1), (的, LABEL_1), (修, LABEL_1), (订, LABEL_1), (和, LABEL_1), (理, LABEL_1), (，, LABEL_1), (主, LABEL_1), (要, LABEL_1), (有, LABEL_1), (四, LABEL_1), (大, LABEL_1), (：, LABEL_1), (一, LABEL_1), (是, LABEL_1), (与, LABEL_1), (《, LABEL_1), (》, LABEL_1), (衔, LABEL_1), (接, LABEL_1), (，, LABEL_1), (扩, LABEL_1), (大, LABEL_1), (了, LABEL_1), (职, LABEL_1), (资, LABEL_1), (格, LABEL_1), (监, LABEL_1), (管, LABEL_1), (的, LABEL_1), (范, LABEL_1), (围, LABEL_1), (；, LABEL_1), (二, LABEL_1), (是, LABEL_1), (进, LABEL_1), (一, LABEL_1), (步, LABEL_1), (了, LABEL_1), (职, LABEL_1), (资, LABEL_1), (格, LABEL_1), (申, LABEL_1), (请, LABEL_1), (的, LABEL_1), (和, LABEL_1), (程, LABEL_1), (；, LABEL_1), (三, LABEL_1), (是, LABEL_1), (进, LABEL_1), (一, LABEL_1), (步, LABEL_1), (化, LABEL_1), (了, LABEL_1), (对, LABEL_1), (董, LABEL_1), (高, LABEL_1), (管, LABEL_1), (员, LABEL_1), (的, LABEL_1), (监, LABEL_1), (；, LABEL_1), (四, LABEL_1), (是, LABEL_1), (加, LABEL_1), (强, LABEL_1), (了, LABEL_1), (对, LABEL_1), (董, LABEL_1), (监, LABEL_1), (和, LABEL_1), (高, LABEL_1), (管, LABEL_1), (员, LABEL_1), (的, LABEL_1), (追, LABEL_1), (究, LABEL_1), (保, LABEL_1), (政, LABEL_1), (策, LABEL_1), (的, LABEL_1), (连, LABEL_1), (续, LABEL_1), (性, LABEL_1), (和, LABEL_1), (《, LABEL_1), (监, LABEL_1), (》, LABEL_1), (有, LABEL_1), (，, LABEL_1), (会, LABEL_1), (还, LABEL_1), (同, LABEL_1), (时, LABEL_1), (发, LABEL_1), (布, LABEL_1), (了, LABEL_1), (配, LABEL_1), (，, LABEL_1), (对, LABEL_1), (《, LABEL_1), (监, LABEL_1), (法, LABEL_1), (》, LABEL_1), (施, LABEL_1), (的, LABEL_1), (过, LABEL_1), (期, LABEL_1), (作, LABEL_1), (出, LABEL_1), (相, LABEL_1), (应, LABEL_1), (安, LABEL_1), (如, LABEL_1), (要, LABEL_1), (求, LABEL_1), (董, LABEL_1), (秘, LABEL_1), (须, LABEL_1), (自, LABEL_1), (《, LABEL_1), (监, LABEL_1), (》, LABEL_1), (施, LABEL_1), (之, LABEL_1), (日, LABEL_1), (起, LABEL_1), (一, LABEL_1), (年, LABEL_1), (内, LABEL_1), (职, LABEL_1), (中, LABEL_1), (国, LABEL_1), (有, LABEL_1), (关, LABEL_1), (人, LABEL_1), (士, LABEL_1), (表, LABEL_1), (示, LABEL_1), (，, LABEL_1), (，, LABEL_1), (进, LABEL_1), (一, LABEL_1), (步, LABEL_1), (加, LABEL_1), (强, LABEL_1), (对, LABEL_1), (董, LABEL_1), (监, LABEL_1), (高, LABEL_1), (管, LABEL_1), (人, LABEL_1), (员, LABEL_1), (的, LABEL_1), (职, LABEL_1), (资, LABEL_1), (监, LABEL_1), (，, LABEL_1), (促, LABEL_1), (使, LABEL_1), (董, LABEL_1), (、, LABEL_1), (监, LABEL_1), (和, LABEL_1), (高, LABEL_1), (级, LABEL_1), (管, LABEL_1), (理, LABEL_1), (人, LABEL_1), (员, LABEL_1), (勤, LABEL_1), (勉, LABEL_1), (责, LABEL_1), (，, LABEL_1), (促, LABEL_1), (进, LABEL_1), (管, LABEL_1), (理, LABEL_1), (队, LABEL_1), (伍, LABEL_1), (专, LABEL_1), (化, LABEL_1), (的, LABEL_1), (一, LABEL_1), (项, LABEL_1), (重, LABEL_1), (要, LABEL_1), (举, LABEL_1), (措, LABEL_1)\n"
     ]
    }
   ],
   "source": [
    "from transformers import BertTokenizerFast, BertForTokenClassification, pipeline\n",
    "import torch\n",
    "\n",
    "# Load the pre-trained Chinese BERT model and tokenizer\n",
    "tokenizer = BertTokenizerFast.from_pretrained('bert-base-chinese')\n",
    "model = BertForTokenClassification.from_pretrained('bert-base-chinese')\n",
    "\n",
    "# Creating NER Pipelines\n",
    "nlp = pipeline(\"ner\", model=model, tokenizer=tokenizer, device=0) \n",
    "\n",
    "def get_entities(text):\n",
    "    ner_results = nlp(text)\n",
    "    # extract entities and their categories \n",
    "    entities = [(entity['word'], entity['entity']) for entity in ner_results if entity['entity'] != 'LABEL_0']\n",
    "    return entities\n",
    "# entities = news_data['NewsContent'].apply(lambda x: get_entities(x))\n",
    "\n",
    "\n",
    "\n",
    "for index, entities_list in enumerate(news_data['NewsContent'].apply(lambda x: get_entities(x))):\n",
    "\n",
    "    entities_str = ', '.join([f\"({entity[0]}, {entity[1]})\" for entity in entities_list])\n",
    "    print(f\"news {index} entities: {entities_str}\")\n",
    "\n",
    "\n"
   ]
  },
  {
   "cell_type": "markdown",
   "id": "5e7b612c6da82363",
   "metadata": {},
   "source": [
    "It can be seen that the effect of using bert-based-chinese to directly name entity recognition is not good, and the company entity cannot be correctly extracted, so we need to find another model"
   ]
  },
  {
   "cell_type": "code",
   "execution_count": 22,
   "id": "4a70dbec338ba811",
   "metadata": {
    "ExecuteTime": {
     "end_time": "2023-12-01T03:59:31.964757900Z",
     "start_time": "2023-12-01T03:59:29.515308300Z"
    }
   },
   "outputs": [
    {
     "name": "stdout",
     "output_type": "stream",
     "text": [
      "[[('Ni', '中国农业'), ('Ns', '北京'), ('Ns', '上海'), ('Nh', '杨明生'), ('Nh', '杨明生'), ('Ns', '上海'), ('Ns', '北京'), ('Ni', '中心'), ('Ni', '农行')]]\n"
     ]
    }
   ],
   "source": [
    "\n",
    "\n",
    "import torch\n",
    "from ltp import LTP\n",
    "\n",
    "ltp = LTP(\"LTP/base\")  \n",
    "if torch.cuda.is_available():\n",
    "    ltp.to(\"cuda\")\n",
    "\n",
    "output = ltp.pipeline([\"中国农业银行信用卡中心由北京搬到上海了！农行行长杨明生日前在信用卡中心揭牌仪式上表示，此举标志着农行开始了信用卡业务的新里程，其信用卡中心进入一个崭新的发展阶段。杨明生表示，银行卡业务是农行的一项优质资产。目前，农行的发卡量已经超过２．４亿张，农行金穗贷记卡的各项指标持续保持快速增长势头。他说，信用卡中心迁沪是看中了上海作为国际金融中心的区位优势，业已形成的银行卡产业环境及高素质的人才市场。    　　农行信用卡中心２００３年创建于北京，以金穗贷记卡为主营业务，具有全行信用卡产品研发中心、业务处理中心和客户服务中心的职能。据悉，农行信用卡中心已完成了所有搬迁工作并进入正常运转。\"], tasks=[\"cws\", \"pos\", \"ner\"])\n",
    "print(output.ner)  \n",
    "\n"
   ]
  },
  {
   "cell_type": "code",
   "execution_count": 23,
   "id": "f02f898a8575430b",
   "metadata": {
    "ExecuteTime": {
     "end_time": "2023-12-01T03:59:32.008489800Z",
     "start_time": "2023-12-01T03:59:31.966316700Z"
    }
   },
   "outputs": [
    {
     "name": "stdout",
     "output_type": "stream",
     "text": [
      "[('Ns', '德国'), ('Ns', '中国')]\n"
     ]
    }
   ],
   "source": [
    "index = 2\n",
    "combined_text = news_data[\"Title\"][index] + \" \" + news_data[\"NewsContent\"][index]\n",
    "output = ltp.pipeline(combined_text, tasks=[\"cws\", \"pos\", \"ner\"])\n",
    "# output = ltp.pipeline(news_data[\"NewsContent\"][8], tasks=[\"cws\", \"pos\", \"ner\"])\n",
    "print(output.ner)"
   ]
  },
  {
   "cell_type": "code",
   "execution_count": 24,
   "id": "76794240d6028eec",
   "metadata": {
    "ExecuteTime": {
     "end_time": "2023-12-01T03:59:34.971915500Z",
     "start_time": "2023-12-01T03:59:32.012712800Z"
    }
   },
   "outputs": [
    {
     "name": "stdout",
     "output_type": "stream",
     "text": [
      "news 0: No companies were mentioned\n",
      "news 1: Companies that are explicitly mentioned - 农业银行\n",
      "news 2: No companies were mentioned\n",
      "news 3: Companies that are explicitly mentioned - 生物\n",
      "news 4: No companies were mentioned\n",
      "news 5: No companies were mentioned\n",
      "news 6: No companies were mentioned\n",
      "news 7: Companies that are explicitly mentioned - 南风, 盐湖\n",
      "news 8: No companies were mentioned\n",
      "news 9: Companies that are explicitly mentioned - 招商局能源运输股份有限公司, 招商轮船\n",
      "news 10: No companies were mentioned\n",
      "news 11: No companies were mentioned\n",
      "news 12: No companies were mentioned\n",
      "news 13: No companies were mentioned\n",
      "news 14: No companies were mentioned\n",
      "news 15: No companies were mentioned\n",
      "news 16: No companies were mentioned\n",
      "news 17: No companies were mentioned\n",
      "news 18: No companies were mentioned\n",
      "news 19: No companies were mentioned\n",
      "news 20: No companies were mentioned\n",
      "news 21: No companies were mentioned\n",
      "news 22: Companies that are explicitly mentioned - 中国石化, 中国联通\n",
      "news 23: No companies were mentioned\n",
      "news 24: No companies were mentioned\n",
      "news 25: No companies were mentioned\n",
      "news 26: No companies were mentioned\n",
      "news 27: Companies that are explicitly mentioned - 中国电信\n",
      "news 28: No companies were mentioned\n",
      "news 29: No companies were mentioned\n"
     ]
    }
   ],
   "source": [
    "from Levenshtein import distance as levenshtein_distance\n",
    "from ltp import LTP\n",
    "\n",
    "# 初始化 LTP 模型\n",
    "ltp = LTP(\"LTP/base\")\n",
    "if torch.cuda.is_available():\n",
    "    ltp.to(\"cuda\")\n",
    "# Iterate over the DataFrame and add name and fullname to the vocabulary\n",
    "for _, row in a_share_df.iterrows():\n",
    "    ltp.add_word(row['name'], freq=15)\n",
    "    ltp.add_word(row['fullname'], freq=5)\n",
    "company_names = list(set(a_share_df['name'].tolist() + a_share_df['fullname'].tolist()))\n",
    "\n",
    "def print_explicit_companies(news_data, company_names, threshold=2):\n",
    "    for index, row in news_data.iterrows():\n",
    "        content = row['NewsContent'].strip()\n",
    "        output = ltp.pipeline([content], tasks=[\"cws\", \"pos\", \"ner\"])  \n",
    "        ner_entities = [entity[1] for entity in output.ner[0] if entity[0] == 'Ni']  \n",
    "\n",
    "        explicit_companies = []\n",
    "\n",
    "        for entity in ner_entities:\n",
    "            if entity in company_names:\n",
    "                explicit_companies.append(entity)\n",
    "            elif len(entity) >= 3:\n",
    "                for company in company_names:\n",
    "                    if entity in company or company in entity:\n",
    "                        levenshtein_dist = levenshtein_distance(entity, company)\n",
    "                        if levenshtein_dist <= threshold:\n",
    "                            explicit_companies.append(company)\n",
    "\n",
    "        if explicit_companies:\n",
    "            print(f\"news {index}: Companies that are explicitly mentioned - {', '.join(set(explicit_companies))}\")\n",
    "        else:\n",
    "            print(f\"news {index}: No companies were mentioned\")\n",
    "\n",
    "print_explicit_companies(news_data, company_names)\n",
    "\n",
    "\n",
    "\n",
    "\n"
   ]
  },
  {
   "cell_type": "markdown",
   "id": "4bf4fb13364cf523",
   "metadata": {},
   "source": [
    "### **RaNER**(Selected)"
   ]
  },
  {
   "cell_type": "code",
   "execution_count": 25,
   "id": "cbf8d21f345f6908",
   "metadata": {
    "ExecuteTime": {
     "end_time": "2023-12-01T03:59:39.885759900Z",
     "start_time": "2023-12-01T03:59:34.964469700Z"
    }
   },
   "outputs": [
    {
     "name": "stderr",
     "output_type": "stream",
     "text": [
      "2023-12-01 11:59:35,144 - modelscope - INFO - PyTorch version 2.1.1+cu118 Found.\n",
      "2023-12-01 11:59:35,146 - modelscope - INFO - Loading ast index from C:\\Users\\Administrator\\.cache\\modelscope\\ast_indexer\n",
      "2023-12-01 11:59:35,359 - modelscope - INFO - Loading done! Current index file version is 1.9.5, with md5 9d857e0795de1892e211da812c513b75 and a total number of 945 components indexed\n",
      "2023-12-01 11:59:38,756 - modelscope - WARNING - Model revision not specified, use revision: v1.0.0\n",
      "2023-12-01 11:59:38,996 - modelscope - INFO - initiate model from C:\\Users\\Administrator\\.cache\\modelscope\\hub\\damo\\nlp_raner_named-entity-recognition_chinese-base-news\n",
      "2023-12-01 11:59:38,996 - modelscope - INFO - initiate model from location C:\\Users\\Administrator\\.cache\\modelscope\\hub\\damo\\nlp_raner_named-entity-recognition_chinese-base-news.\n",
      "2023-12-01 11:59:39,001 - modelscope - INFO - initialize model from C:\\Users\\Administrator\\.cache\\modelscope\\hub\\damo\\nlp_raner_named-entity-recognition_chinese-base-news\n",
      "2023-12-01 11:59:39,603 - modelscope - INFO - head has no _keys_to_ignore_on_load_missing\n",
      "2023-12-01 11:59:39,842 - modelscope - INFO - All model checkpoint weights were used when initializing ModelForTokenClassificationWithCRF.\n",
      "\n",
      "2023-12-01 11:59:39,843 - modelscope - INFO - All the weights of ModelForTokenClassificationWithCRF were initialized from the model checkpoint If your task is similar to the task the model of the checkpoint was trained on, you can already use ModelForTokenClassificationWithCRF for predictions without further training.\n",
      "2023-12-01 11:59:39,848 - modelscope - WARNING - No preprocessor field found in cfg.\n",
      "2023-12-01 11:59:39,849 - modelscope - WARNING - No val key and type key found in preprocessor domain of configuration.json file.\n",
      "2023-12-01 11:59:39,850 - modelscope - WARNING - Cannot find available config to build preprocessor at mode inference, current config: {'model_dir': 'C:\\\\Users\\\\Administrator\\\\.cache\\\\modelscope\\\\hub\\\\damo\\\\nlp_raner_named-entity-recognition_chinese-base-news'}. trying to build by task and model information.\n",
      "2023-12-01 11:59:39,863 - modelscope - WARNING - No preprocessor field found in cfg.\n",
      "2023-12-01 11:59:39,863 - modelscope - WARNING - No val key and type key found in preprocessor domain of configuration.json file.\n",
      "2023-12-01 11:59:39,864 - modelscope - WARNING - Cannot find available config to build preprocessor at mode inference, current config: {'model_dir': 'C:\\\\Users\\\\Administrator\\\\.cache\\\\modelscope\\\\hub\\\\damo\\\\nlp_raner_named-entity-recognition_chinese-base-news', 'sequence_length': 512}. trying to build by task and model information.\n",
      "2023-12-01 11:59:39,872 - modelscope - WARNING - No preprocessor field found in cfg.\n",
      "2023-12-01 11:59:39,872 - modelscope - WARNING - No val key and type key found in preprocessor domain of configuration.json file.\n",
      "2023-12-01 11:59:39,872 - modelscope - WARNING - Cannot find available config to build preprocessor at mode inference, current config: {'model_dir': 'C:\\\\Users\\\\Administrator\\\\.cache\\\\modelscope\\\\hub\\\\damo\\\\nlp_raner_named-entity-recognition_chinese-base-news', 'sequence_length': 512}. trying to build by task and model information.\n"
     ]
    }
   ],
   "source": [
    "from modelscope.pipelines import pipeline\n",
    "from modelscope.utils.constant import Tasks\n",
    "\n",
    "ner_pipeline = pipeline(Tasks.named_entity_recognition, 'damo/nlp_raner_named-entity-recognition_chinese-base-news')\n",
    "import re\n",
    "\n",
    "def find_sentence_boundary(text, max_length=500):\n",
    "    boundary_punctuations = r\"[。！？!?.]\"\n",
    "    for i in range(max_length, 0, -1):\n",
    "        if re.match(boundary_punctuations, text[i]):\n",
    "            return i + 1\n",
    "    return -1\n",
    "\n",
    "def split_text(text, max_length=500):\n",
    "    segments = []\n",
    "    while len(text) > max_length:\n",
    "        boundary = find_sentence_boundary(text, max_length)\n",
    "        if boundary == -1:\n",
    "            # 如果没有找到句子边界，使用max_length作为分割点\n",
    "            boundary = max_length\n",
    "        segments.append(text[:boundary])\n",
    "        text = text[boundary:]\n",
    "    segments.append(text)\n",
    "    return segments\n",
    "\n",
    "\n",
    "def process_text(text):\n",
    "    # The text is divided and NER processed\n",
    "    segments = split_text(text)\n",
    "    result = []\n",
    "    for segment in segments:\n",
    "        if segment.strip():\n",
    "            ner_result = ner_pipeline(segment)\n",
    "            if 'output' in ner_result:\n",
    "                result.extend(ner_result['output'])\n",
    "            else:\n",
    "                pass\n",
    "    return result\n",
    "\n",
    "\n",
    "\n",
    "# {'output': [{'type': 'PER', 'start': 0, 'end': 2, 'span': '国正'}]}"
   ]
  },
  {
   "cell_type": "code",
   "execution_count": 26,
   "id": "551f00fae361deba",
   "metadata": {
    "ExecuteTime": {
     "end_time": "2023-12-01T03:59:39.899539300Z",
     "start_time": "2023-12-01T03:59:39.885759900Z"
    }
   },
   "outputs": [
    {
     "data": {
      "text/plain": [
       "device(type='cuda', index=0)"
      ]
     },
     "execution_count": 26,
     "metadata": {},
     "output_type": "execute_result"
    }
   ],
   "source": [
    "ner_pipeline.device"
   ]
  },
  {
   "cell_type": "code",
   "execution_count": 27,
   "id": "fed561250ee84770",
   "metadata": {
    "ExecuteTime": {
     "end_time": "2023-12-01T03:59:45.998526200Z",
     "start_time": "2023-12-01T03:59:39.889890700Z"
    }
   },
   "outputs": [
    {
     "name": "stderr",
     "output_type": "stream",
     "text": [
      "D:\\Anaconda3\\envs\\pytorch\\lib\\site-packages\\transformers\\modeling_utils.py:907: FutureWarning: The `device` argument is deprecated and will be removed in v5 of Transformers.\n",
      "  warnings.warn(\n"
     ]
    },
    {
     "name": "stdout",
     "output_type": "stream",
     "text": [
      "match: 中国建设银行股份有限公司\n",
      "end\n",
      "entity '中国农业银行信用卡中心' similar to company '农业银行' ，Levenshtein 7\n",
      "end\n",
      "match: 外运发展\n",
      "match: 中国国航\n",
      "end\n",
      "entity '胜利股份（000407）公司子公司' similar to company '胜利股份' ，Levenshtein 13\n",
      "end\n",
      "end\n",
      "end\n",
      "end\n",
      "match: 冠农股份\n",
      "end\n",
      "match: 博汇纸业\n",
      "end\n",
      "match: 中金公司\n",
      "match: 招商局能源运输股份有限公司\n",
      "match: 招商轮船\n",
      "end\n",
      "entity '杭汽轮' similar to company '杭汽轮B' ，Levenshtein 1\n",
      "end\n",
      "match: 山东黄金\n",
      "match: 中国银行\n",
      "match: 冀东水泥\n",
      "match: 工商银行\n",
      "match: 航天机电\n",
      "match: 三友化工\n",
      "match: 中金黄金\n",
      "match: 保利地产\n",
      "match: 天山股份\n",
      "match: 祁连山\n",
      "match: 中信证券\n",
      "match: 大秦铁路\n",
      "match: 鞍钢股份\n",
      "match: 武钢股份\n",
      "match: 新兴铸管\n",
      "end\n",
      "end\n",
      "end\n",
      "end\n",
      "end\n",
      "end\n",
      "end\n",
      "end\n",
      "end\n",
      "end\n",
      "end\n",
      "match: 中国石化\n",
      "match: 迈瑞医疗\n",
      "match: 中国联通\n",
      "end\n",
      "end\n",
      "end\n",
      "end\n",
      "match: 中工国际\n",
      "end\n",
      "match: 中国电信\n",
      "end\n",
      "end\n",
      "end\n"
     ]
    }
   ],
   "source": [
    "from Levenshtein import distance as levenshtein_distance\n",
    "\n",
    "company_names = list(set(a_share_df['name'].tolist() + a_share_df['fullname'].tolist()))\n",
    "\n",
    "# duplicate removal\n",
    "company_names = list(set(company_names))\n",
    "\n",
    "threshold = 15\n",
    "\n",
    "# Walk through each column of news content\n",
    "for content in news_data['NewsContent']:\n",
    "    ner_results = process_text(content)\n",
    "    # Extract the organization name from the NER output (contents of 'type': 'ORG')\n",
    "    ner_entities = [entity['span'] for entity in ner_results if entity['type'] == 'ORG']\n",
    "\n",
    "    # Collects entities that match directly\n",
    "    direct_matches = set()\n",
    "    for entity in ner_entities:\n",
    "        if entity in company_names:\n",
    "            direct_matches.add(entity)\n",
    "\n",
    "    # If there is a direct match, print the match result\n",
    "    if direct_matches:\n",
    "        for match in direct_matches:\n",
    "            print(f\"match: {match}\")\n",
    "    else:\n",
    "        # If there is no direct match, the Levenshtein distance is calculated\n",
    "        for entity in ner_entities:\n",
    "            if len(entity) >= 3:\n",
    "                for company in company_names:\n",
    "                    if entity in company or company in entity: \n",
    "                        levenshtein_dist = levenshtein_distance(entity, company)\n",
    "                        if levenshtein_dist <= threshold:\n",
    "                            print(f\"entity '{entity}' similar to company '{company}' ，Levenshtein {levenshtein_dist}\")\n",
    "                            break\n",
    "\n",
    "    print(\"end\")  \n"
   ]
  },
  {
   "cell_type": "markdown",
   "id": "c18125cc5147ade3",
   "metadata": {},
   "source": [
    "It is found that the use of two words le distance effect is not very good, so add some commonly used listed company abbreviations"
   ]
  },
  {
   "cell_type": "code",
   "execution_count": 6,
   "id": "179f7f85c5a573c5",
   "metadata": {
    "ExecuteTime": {
     "end_time": "2023-12-05T09:37:10.785615900Z",
     "start_time": "2023-12-05T09:37:10.772615Z"
    }
   },
   "outputs": [],
   "source": [
    "company_abbreviations ={'中国银行': '中行', '贵州茅台': '茅台', '中国石化': '中石化', '中国石油': '中石油', '中国平安': '平安', '中国人寿': '中人寿', '中国太保': '太保', '中国联通': '联通', '中国铁建': '铁建', '中国建筑': '中建', '中国国航': '国航', '中国中车': '中车', '中国国旅': '国旅', '中国神华': '神华', '中国核电': '核电', '中国黄金': '黄金', '中国铝业': '铝业', '万科A': '万科A', '深振业A': '深振业A', '神州高铁': '神州高铁', '中国宝安': '中国宝安', '深物业A': '深物业A', '南玻A': '南玻A', '沙河股份': '沙河股份', '深康佳A': '深康佳A', '深中华A': '深中华A', '深粮控股': '深粮控股', '深华发A': '深华发A', '深科技': '深科技', '特力A': '特力A', '深圳能源': '深圳能源', '深深房A': '深深房A', '富奥股份': '富奥股份', '大悦城': '大悦城', '深桑达A': '深桑达A', '神州数码': '神州数码', '中国天楹': '中国天楹', '华联控股': '华联控股', '深南电A': '深南电A', '比亚迪': '比亚迪', '海康威视': '海康', '宁德时代': '宁德', '大华股份': '大华', '恒瑞医药': '恒瑞', '药明康德': '药明', '伊利股份': '伊利', '洋河股份': '洋河', '海天味业': '海天', '泸州老窖': '泸州', '顺丰控股': '顺丰', '中兴通讯': '中兴', '海尔智家': '海尔', '长城汽车': '长城', '广汽集团': '广汽', '东风汽车': '东风', '上汽集团': '上汽', '长江电力': '长电', '华夏银行': '华夏', '兴业银行': '兴业', '浦发银行': '浦发'}\n"
   ]
  },
  {
   "cell_type": "code",
   "execution_count": 29,
   "id": "1d596bd4aff1246e",
   "metadata": {
    "ExecuteTime": {
     "end_time": "2023-12-01T03:59:51.578701100Z",
     "start_time": "2023-12-01T03:59:46.006260400Z"
    }
   },
   "outputs": [
    {
     "name": "stdout",
     "output_type": "stream",
     "text": [
      "match: 中国建设银行股份有限公司\n",
      "end\n",
      "entity '中国农业银行信用卡中心' similar to company '农业银行' ，Levenshtein 7\n",
      "end\n",
      "match: 外运发展\n",
      "match: 中国国航\n",
      "end\n",
      "entity '胜利股份（000407）公司子公司' similar to company '胜利股份' ，Levenshtein 13\n",
      "end\n",
      "match: 中行\n",
      "end\n",
      "end\n",
      "end\n",
      "match: 冠农股份\n",
      "end\n",
      "match: 博汇纸业\n",
      "end\n",
      "match: 中金公司\n",
      "match: 招商局能源运输股份有限公司\n",
      "match: 招商轮船\n",
      "end\n",
      "entity '杭汽轮' similar to company '杭汽轮B' ，Levenshtein 1\n",
      "end\n",
      "match: 山东黄金\n",
      "match: 中国银行\n",
      "match: 冀东水泥\n",
      "match: 工商银行\n",
      "match: 航天机电\n",
      "match: 三友化工\n",
      "match: 中金黄金\n",
      "match: 保利地产\n",
      "match: 天山股份\n",
      "match: 祁连山\n",
      "match: 中信证券\n",
      "match: 大秦铁路\n",
      "match: 鞍钢股份\n",
      "match: 武钢股份\n",
      "match: 新兴铸管\n",
      "end\n",
      "end\n",
      "end\n",
      "end\n",
      "end\n",
      "end\n",
      "end\n",
      "end\n",
      "end\n",
      "end\n",
      "end\n",
      "match: 中国石化\n",
      "match: 迈瑞医疗\n",
      "match: 中国联通\n",
      "end\n",
      "end\n",
      "end\n",
      "end\n",
      "match: 中工国际\n",
      "end\n",
      "match: 中国电信\n",
      "end\n",
      "end\n",
      "end\n"
     ]
    }
   ],
   "source": [
    "from Levenshtein import distance as levenshtein_distance\n",
    "\n",
    "company_names = list(set(a_share_df['name'].tolist() + a_share_df['fullname'].tolist()))\n",
    "\n",
    "\n",
    "# Add these short names from the existing company_names list\n",
    "company_names.extend(list(company_abbreviations.values()))\n",
    "\n",
    "# duplicate removal\n",
    "company_names = list(set(company_names))\n",
    "\n",
    "threshold = 1500\n",
    "\n",
    "# Walk through each column of news content\n",
    "for content in news_data['NewsContent']:\n",
    "    ner_results = process_text(content)\n",
    "    # Extract the organization name from the NER output (contents of 'type': 'ORG')\n",
    "    ner_entities = [entity['span'] for entity in ner_results if entity['type'] == 'ORG']\n",
    "\n",
    "    # Collects entities that match directly\n",
    "    direct_matches = set()\n",
    "    for entity in ner_entities:\n",
    "        if entity in company_names:\n",
    "            direct_matches.add(entity)\n",
    "\n",
    "    # If there is a direct match, print the match result\n",
    "    if direct_matches:\n",
    "        for match in direct_matches:\n",
    "            print(f\"match: {match}\")\n",
    "    else:\n",
    "        # If there is no direct match, the Levenshtein distance is calculated\n",
    "        for entity in ner_entities:\n",
    "            if len(entity) >= 3:\n",
    "                for company in company_names:\n",
    "                    if entity in company or company in entity: \n",
    "                        levenshtein_dist = levenshtein_distance(entity, company)\n",
    "                        if levenshtein_dist <= threshold:\n",
    "                            print(f\"entity '{entity}' similar to company '{company}' ，Levenshtein {levenshtein_dist}\")\n",
    "                            break\n",
    "\n",
    "    print(\"end\")  \n",
    "\n",
    "\n",
    "\n",
    "\n"
   ]
  },
  {
   "cell_type": "code",
   "execution_count": 30,
   "id": "1b8b073f863f6a86",
   "metadata": {
    "ExecuteTime": {
     "end_time": "2023-12-01T03:59:57.388911400Z",
     "start_time": "2023-12-01T03:59:51.576628500Z"
    }
   },
   "outputs": [
    {
     "name": "stderr",
     "output_type": "stream",
     "text": [
      "C:\\Users\\Administrator\\AppData\\Local\\Temp\\ipykernel_3476\\4101394737.py:18: SettingWithCopyWarning: \n",
      "A value is trying to be set on a copy of a slice from a DataFrame.\n",
      "Try using .loc[row_indexer,col_indexer] = value instead\n",
      "\n",
      "See the caveats in the documentation: https://pandas.pydata.org/pandas-docs/stable/user_guide/indexing.html#returning-a-view-versus-a-copy\n",
      "  news_data['Explicit_Company'] = ''\n",
      "Processing:  17%|█▋        | 5/30 [00:01<00:05,  4.54it/s]C:\\Users\\Administrator\\AppData\\Local\\Temp\\ipykernel_3476\\4101394737.py:47: SettingWithCopyWarning: \n",
      "A value is trying to be set on a copy of a slice from a DataFrame\n",
      "\n",
      "See the caveats in the documentation: https://pandas.pydata.org/pandas-docs/stable/user_guide/indexing.html#returning-a-view-versus-a-copy\n",
      "  news_data.drop(index, inplace=True)\n",
      "Processing:  20%|██        | 6/30 [00:01<00:05,  4.54it/s]C:\\Users\\Administrator\\AppData\\Local\\Temp\\ipykernel_3476\\4101394737.py:47: SettingWithCopyWarning: \n",
      "A value is trying to be set on a copy of a slice from a DataFrame\n",
      "\n",
      "See the caveats in the documentation: https://pandas.pydata.org/pandas-docs/stable/user_guide/indexing.html#returning-a-view-versus-a-copy\n",
      "  news_data.drop(index, inplace=True)\n",
      "Processing:  40%|████      | 12/30 [00:02<00:04,  3.91it/s]C:\\Users\\Administrator\\AppData\\Local\\Temp\\ipykernel_3476\\4101394737.py:47: SettingWithCopyWarning: \n",
      "A value is trying to be set on a copy of a slice from a DataFrame\n",
      "\n",
      "See the caveats in the documentation: https://pandas.pydata.org/pandas-docs/stable/user_guide/indexing.html#returning-a-view-versus-a-copy\n",
      "  news_data.drop(index, inplace=True)\n",
      "Processing:  43%|████▎     | 13/30 [00:02<00:03,  4.66it/s]C:\\Users\\Administrator\\AppData\\Local\\Temp\\ipykernel_3476\\4101394737.py:47: SettingWithCopyWarning: \n",
      "A value is trying to be set on a copy of a slice from a DataFrame\n",
      "\n",
      "See the caveats in the documentation: https://pandas.pydata.org/pandas-docs/stable/user_guide/indexing.html#returning-a-view-versus-a-copy\n",
      "  news_data.drop(index, inplace=True)\n",
      "Processing:  47%|████▋     | 14/30 [00:02<00:02,  5.39it/s]C:\\Users\\Administrator\\AppData\\Local\\Temp\\ipykernel_3476\\4101394737.py:47: SettingWithCopyWarning: \n",
      "A value is trying to be set on a copy of a slice from a DataFrame\n",
      "\n",
      "See the caveats in the documentation: https://pandas.pydata.org/pandas-docs/stable/user_guide/indexing.html#returning-a-view-versus-a-copy\n",
      "  news_data.drop(index, inplace=True)\n",
      "Processing:  50%|█████     | 15/30 [00:03<00:02,  6.02it/s]C:\\Users\\Administrator\\AppData\\Local\\Temp\\ipykernel_3476\\4101394737.py:47: SettingWithCopyWarning: \n",
      "A value is trying to be set on a copy of a slice from a DataFrame\n",
      "\n",
      "See the caveats in the documentation: https://pandas.pydata.org/pandas-docs/stable/user_guide/indexing.html#returning-a-view-versus-a-copy\n",
      "  news_data.drop(index, inplace=True)\n",
      "C:\\Users\\Administrator\\AppData\\Local\\Temp\\ipykernel_3476\\4101394737.py:47: SettingWithCopyWarning: \n",
      "A value is trying to be set on a copy of a slice from a DataFrame\n",
      "\n",
      "See the caveats in the documentation: https://pandas.pydata.org/pandas-docs/stable/user_guide/indexing.html#returning-a-view-versus-a-copy\n",
      "  news_data.drop(index, inplace=True)\n",
      "Processing:  57%|█████▋    | 17/30 [00:03<00:02,  5.41it/s]C:\\Users\\Administrator\\AppData\\Local\\Temp\\ipykernel_3476\\4101394737.py:47: SettingWithCopyWarning: \n",
      "A value is trying to be set on a copy of a slice from a DataFrame\n",
      "\n",
      "See the caveats in the documentation: https://pandas.pydata.org/pandas-docs/stable/user_guide/indexing.html#returning-a-view-versus-a-copy\n",
      "  news_data.drop(index, inplace=True)\n",
      "Processing:  60%|██████    | 18/30 [00:03<00:02,  5.13it/s]C:\\Users\\Administrator\\AppData\\Local\\Temp\\ipykernel_3476\\4101394737.py:47: SettingWithCopyWarning: \n",
      "A value is trying to be set on a copy of a slice from a DataFrame\n",
      "\n",
      "See the caveats in the documentation: https://pandas.pydata.org/pandas-docs/stable/user_guide/indexing.html#returning-a-view-versus-a-copy\n",
      "  news_data.drop(index, inplace=True)\n",
      "Processing:  63%|██████▎   | 19/30 [00:03<00:02,  5.01it/s]C:\\Users\\Administrator\\AppData\\Local\\Temp\\ipykernel_3476\\4101394737.py:47: SettingWithCopyWarning: \n",
      "A value is trying to be set on a copy of a slice from a DataFrame\n",
      "\n",
      "See the caveats in the documentation: https://pandas.pydata.org/pandas-docs/stable/user_guide/indexing.html#returning-a-view-versus-a-copy\n",
      "  news_data.drop(index, inplace=True)\n",
      "Processing:  67%|██████▋   | 20/30 [00:04<00:01,  5.66it/s]C:\\Users\\Administrator\\AppData\\Local\\Temp\\ipykernel_3476\\4101394737.py:47: SettingWithCopyWarning: \n",
      "A value is trying to be set on a copy of a slice from a DataFrame\n",
      "\n",
      "See the caveats in the documentation: https://pandas.pydata.org/pandas-docs/stable/user_guide/indexing.html#returning-a-view-versus-a-copy\n",
      "  news_data.drop(index, inplace=True)\n",
      "Processing:  70%|███████   | 21/30 [00:04<00:01,  6.26it/s]C:\\Users\\Administrator\\AppData\\Local\\Temp\\ipykernel_3476\\4101394737.py:47: SettingWithCopyWarning: \n",
      "A value is trying to be set on a copy of a slice from a DataFrame\n",
      "\n",
      "See the caveats in the documentation: https://pandas.pydata.org/pandas-docs/stable/user_guide/indexing.html#returning-a-view-versus-a-copy\n",
      "  news_data.drop(index, inplace=True)\n",
      "Processing:  77%|███████▋  | 23/30 [00:04<00:01,  6.14it/s]C:\\Users\\Administrator\\AppData\\Local\\Temp\\ipykernel_3476\\4101394737.py:47: SettingWithCopyWarning: \n",
      "A value is trying to be set on a copy of a slice from a DataFrame\n",
      "\n",
      "See the caveats in the documentation: https://pandas.pydata.org/pandas-docs/stable/user_guide/indexing.html#returning-a-view-versus-a-copy\n",
      "  news_data.drop(index, inplace=True)\n",
      "Processing:  80%|████████  | 24/30 [00:04<00:01,  4.78it/s]C:\\Users\\Administrator\\AppData\\Local\\Temp\\ipykernel_3476\\4101394737.py:47: SettingWithCopyWarning: \n",
      "A value is trying to be set on a copy of a slice from a DataFrame\n",
      "\n",
      "See the caveats in the documentation: https://pandas.pydata.org/pandas-docs/stable/user_guide/indexing.html#returning-a-view-versus-a-copy\n",
      "  news_data.drop(index, inplace=True)\n",
      "Processing:  83%|████████▎ | 25/30 [00:05<00:01,  4.75it/s]C:\\Users\\Administrator\\AppData\\Local\\Temp\\ipykernel_3476\\4101394737.py:47: SettingWithCopyWarning: \n",
      "A value is trying to be set on a copy of a slice from a DataFrame\n",
      "\n",
      "See the caveats in the documentation: https://pandas.pydata.org/pandas-docs/stable/user_guide/indexing.html#returning-a-view-versus-a-copy\n",
      "  news_data.drop(index, inplace=True)\n",
      "Processing:  93%|█████████▎| 28/30 [00:05<00:00,  5.45it/s]C:\\Users\\Administrator\\AppData\\Local\\Temp\\ipykernel_3476\\4101394737.py:47: SettingWithCopyWarning: \n",
      "A value is trying to be set on a copy of a slice from a DataFrame\n",
      "\n",
      "See the caveats in the documentation: https://pandas.pydata.org/pandas-docs/stable/user_guide/indexing.html#returning-a-view-versus-a-copy\n",
      "  news_data.drop(index, inplace=True)\n",
      "Processing:  97%|█████████▋| 29/30 [00:05<00:00,  6.12it/s]C:\\Users\\Administrator\\AppData\\Local\\Temp\\ipykernel_3476\\4101394737.py:47: SettingWithCopyWarning: \n",
      "A value is trying to be set on a copy of a slice from a DataFrame\n",
      "\n",
      "See the caveats in the documentation: https://pandas.pydata.org/pandas-docs/stable/user_guide/indexing.html#returning-a-view-versus-a-copy\n",
      "  news_data.drop(index, inplace=True)\n",
      "Processing: 100%|██████████| 30/30 [00:05<00:00,  5.17it/s]\n"
     ]
    }
   ],
   "source": [
    "import pandas as pd\n",
    "from Levenshtein import distance as levenshtein_distance\n",
    "from tqdm import tqdm\n",
    "import warnings\n",
    "\n",
    "\n",
    "company_names = list(set(a_share_df['name'].tolist() + a_share_df['fullname'].tolist()))\n",
    "\n",
    "company_names.extend(list(company_abbreviations.values()))\n",
    "\n",
    "company_names = list(set(company_names))\n",
    "\n",
    "threshold = 100\n",
    "warnings.filterwarnings(\"ignore\", category=FutureWarning)\n",
    "\n",
    "\n",
    "deleted_news_ids = []\n",
    "news_data['Explicit_Company'] = ''\n",
    "\n",
    "\n",
    "for index, row in tqdm(news_data.iterrows(), total=news_data.shape[0], desc=\"Processing\"):\n",
    "    content = row['NewsContent']\n",
    "    ner_results = process_text(content) \n",
    "\n",
    "    ner_entities = [entity['span'] for entity in ner_results if entity['type'] == 'ORG']\n",
    "    explicit_companies = []\n",
    "\n",
    "    for entity in ner_entities:\n",
    "        if entity in company_names:\n",
    "            # If the entity is short, it is converted to the full name\n",
    "            full_name = [key for key, value in company_abbreviations.items() if value == entity]\n",
    "            explicit_companies.extend(full_name if full_name else [entity])\n",
    "        elif len(entity) >= 3:\n",
    "            for company in company_names:\n",
    "                if entity in company or company in entity:\n",
    "                    levenshtein_dist = levenshtein_distance(entity, company)\n",
    "                    if levenshtein_dist <= threshold:\n",
    "                        # If the entity is similar to the company name, convert to the full name\n",
    "                        full_name = [key for key, value in company_abbreviations.items() if value == company]\n",
    "                        explicit_companies.extend(full_name if full_name else [company])\n",
    "\n",
    "    if explicit_companies:\n",
    "        #Add explicitly mentioned company names to the new column, separated by commas \n",
    "        news_data.at[index, 'Explicit_Company'] = ', '.join(set(explicit_companies))\n",
    "    else:\n",
    "        deleted_news_ids.append(row['NewsID'])\n",
    "        news_data.drop(index, inplace=True)\n",
    "\n",
    "news_data = news_data[['NewsID', 'NewsContent', 'Explicit_Company']]\n",
    "\n",
    "\n",
    "\n",
    "\n",
    "# news_data.to_csv('Task1.csv', index=False)\n",
    "\n"
   ]
  },
  {
   "cell_type": "code",
   "execution_count": 31,
   "id": "26ee2e931734f212",
   "metadata": {
    "ExecuteTime": {
     "end_time": "2023-12-01T03:59:57.390434Z",
     "start_time": "2023-12-01T03:59:57.386832100Z"
    }
   },
   "outputs": [],
   "source": [
    "# news_data.to_csv('remaining_news_data_1.csv', index=False)"
   ]
  },
  {
   "cell_type": "markdown",
   "id": "b4426f0737583db3",
   "metadata": {},
   "source": [
    "Merge folders that are run separately"
   ]
  },
  {
   "cell_type": "code",
   "execution_count": 32,
   "id": "e7c9963f10195ff7",
   "metadata": {
    "ExecuteTime": {
     "end_time": "2023-12-01T04:00:02.331968500Z",
     "start_time": "2023-12-01T03:59:57.391895Z"
    }
   },
   "outputs": [],
   "source": [
    "# import pandas as pd\n",
    "# \n",
    "# combined_df = pd.DataFrame()\n",
    "# \n",
    "# for i in range(1, 11):\n",
    "#     filename = f'./data_new/remaining_news_data_{i}.csv'\n",
    "# \n",
    "#     temp_df = pd.read_csv(filename)\n",
    "# \n",
    "#     combined_df = pd.concat([combined_df, temp_df])\n",
    "# \n",
    "# df=combined_df\n"
   ]
  },
  {
   "cell_type": "markdown",
   "id": "73b85a71e76ed236",
   "metadata": {},
   "source": [
    "or To make sure it works, use the entire news"
   ]
  },
  {
   "cell_type": "code",
   "execution_count": 5,
   "id": "427e6a36dbed70d1",
   "metadata": {
    "ExecuteTime": {
     "end_time": "2023-12-05T09:37:10.769616300Z",
     "start_time": "2023-12-05T09:36:45.040121700Z"
    }
   },
   "outputs": [],
   "source": [
    "df=news_data"
   ]
  },
  {
   "cell_type": "markdown",
   "id": "da1d230f91119160",
   "metadata": {},
   "source": [
    "After the check, it was found that duplicate entries were matched because the abbreviation was added. Therefore, the search was performed again to remove fullname and abbreviation and retain name"
   ]
  },
  {
   "cell_type": "code",
   "execution_count": 2,
   "id": "63d52ffac752fa87",
   "metadata": {
    "ExecuteTime": {
     "end_time": "2023-12-05T10:07:33.624808100Z",
     "start_time": "2023-12-05T10:07:01.293076400Z"
    }
   },
   "outputs": [
    {
     "data": {
      "text/plain": "         NewsID                                        NewsContent  \\\n0             1  本报记者 田雨 李京华    　　中国建设银行股份有限公司原董事长张恩照受贿案３日一审宣判，...   \n1             2  中国农业银行信用卡中心由北京搬到上海了！  　　农行行长杨明生日前在信用卡中心揭牌仪式上表示...   \n2             3  在新基金快速发行以及申购资金回流的情况下，市场总体上呈现资金流动性过剩格局，考虑到现阶段权重...   \n3             4  胜利股份（000407）公司子公司填海造地2800亩，以青岛的地价估算，静态价值在10亿元左...   \n4             5  全景网11月30日讯 外围股市造好，带动港股今早造好，恒指高开后反覆上升，最高升252点，曾...   \n...         ...                                                ...   \n489884  1037031  每经AI快讯，有投资者在投资者互动平台提问：请问公司目前有没有电解槽产能，规划情况能否详细介...   \n489885  1037032  依米康（SZ 300249，收盘价：10.38元）发布公告称，2023年10月12日，依米康...   \n489886  1037033  天风证券10月13日发布研报称，给予中核科技（000777.SZ，最新价：13.03元）买入...   \n489887  1037034  有投资者提问：抗癌药CPT获批后，公司是否应该按照股权协议继续收购沙东股权，适应症为MM的C...   \n489888  1037035  10月13日午间，根据恩捷股份发布的公告，持有公司股份5%以上的股东玉溪合益投资有限公司（下...   \n\n       Explicit_Company  label  \n0                  建设银行      0  \n1                  农业银行      1  \n2            外运发展, 中国国航      1  \n3                  胜利股份      1  \n4                  中国银行      1  \n...                 ...    ...  \n489884              亿华通      0  \n489885        依米康, 中泰证券      1  \n489886       天风证券, 中核科技      1  \n489887             海特生物      1  \n489888             恩捷股份      1  \n\n[489889 rows x 4 columns]",
      "text/html": "<div>\n<style scoped>\n    .dataframe tbody tr th:only-of-type {\n        vertical-align: middle;\n    }\n\n    .dataframe tbody tr th {\n        vertical-align: top;\n    }\n\n    .dataframe thead th {\n        text-align: right;\n    }\n</style>\n<table border=\"1\" class=\"dataframe\">\n  <thead>\n    <tr style=\"text-align: right;\">\n      <th></th>\n      <th>NewsID</th>\n      <th>NewsContent</th>\n      <th>Explicit_Company</th>\n      <th>label</th>\n    </tr>\n  </thead>\n  <tbody>\n    <tr>\n      <th>0</th>\n      <td>1</td>\n      <td>本报记者 田雨 李京华    　　中国建设银行股份有限公司原董事长张恩照受贿案３日一审宣判，...</td>\n      <td>建设银行</td>\n      <td>0</td>\n    </tr>\n    <tr>\n      <th>1</th>\n      <td>2</td>\n      <td>中国农业银行信用卡中心由北京搬到上海了！  　　农行行长杨明生日前在信用卡中心揭牌仪式上表示...</td>\n      <td>农业银行</td>\n      <td>1</td>\n    </tr>\n    <tr>\n      <th>2</th>\n      <td>3</td>\n      <td>在新基金快速发行以及申购资金回流的情况下，市场总体上呈现资金流动性过剩格局，考虑到现阶段权重...</td>\n      <td>外运发展, 中国国航</td>\n      <td>1</td>\n    </tr>\n    <tr>\n      <th>3</th>\n      <td>4</td>\n      <td>胜利股份（000407）公司子公司填海造地2800亩，以青岛的地价估算，静态价值在10亿元左...</td>\n      <td>胜利股份</td>\n      <td>1</td>\n    </tr>\n    <tr>\n      <th>4</th>\n      <td>5</td>\n      <td>全景网11月30日讯 外围股市造好，带动港股今早造好，恒指高开后反覆上升，最高升252点，曾...</td>\n      <td>中国银行</td>\n      <td>1</td>\n    </tr>\n    <tr>\n      <th>...</th>\n      <td>...</td>\n      <td>...</td>\n      <td>...</td>\n      <td>...</td>\n    </tr>\n    <tr>\n      <th>489884</th>\n      <td>1037031</td>\n      <td>每经AI快讯，有投资者在投资者互动平台提问：请问公司目前有没有电解槽产能，规划情况能否详细介...</td>\n      <td>亿华通</td>\n      <td>0</td>\n    </tr>\n    <tr>\n      <th>489885</th>\n      <td>1037032</td>\n      <td>依米康（SZ 300249，收盘价：10.38元）发布公告称，2023年10月12日，依米康...</td>\n      <td>依米康, 中泰证券</td>\n      <td>1</td>\n    </tr>\n    <tr>\n      <th>489886</th>\n      <td>1037033</td>\n      <td>天风证券10月13日发布研报称，给予中核科技（000777.SZ，最新价：13.03元）买入...</td>\n      <td>天风证券, 中核科技</td>\n      <td>1</td>\n    </tr>\n    <tr>\n      <th>489887</th>\n      <td>1037034</td>\n      <td>有投资者提问：抗癌药CPT获批后，公司是否应该按照股权协议继续收购沙东股权，适应症为MM的C...</td>\n      <td>海特生物</td>\n      <td>1</td>\n    </tr>\n    <tr>\n      <th>489888</th>\n      <td>1037035</td>\n      <td>10月13日午间，根据恩捷股份发布的公告，持有公司股份5%以上的股东玉溪合益投资有限公司（下...</td>\n      <td>恩捷股份</td>\n      <td>1</td>\n    </tr>\n  </tbody>\n</table>\n<p>489889 rows × 4 columns</p>\n</div>"
     },
     "execution_count": 2,
     "metadata": {},
     "output_type": "execute_result"
    }
   ],
   "source": [
    "import json\n",
    "\n",
    "\n",
    "file_path = './data/A_share_list.json'\n",
    "with open(file_path, 'r', encoding='utf-8') as file:\n",
    "    json_data = json.load(file)\n",
    "\n",
    "name_fullname_map = {company['fullname']: company['name'] for company in json_data}\n",
    "name_set = set(name_fullname_map.values())\n",
    "\n",
    "\n",
    "\n",
    "def process_explicit_company(row):\n",
    "    companies = set(row['Explicit_Company'].split(', '))\n",
    "    valid_companies = set()\n",
    "    for company in companies:\n",
    "        if company in name_set:\n",
    "            valid_companies.add(company)\n",
    "        elif company in name_fullname_map:\n",
    "            valid_companies.add(name_fullname_map[company])\n",
    "\n",
    "    return ', '.join(valid_companies) if valid_companies else None\n",
    "\n",
    "\n",
    "df['Explicit_Company'] = df.apply(process_explicit_company, axis=1)\n",
    "df.dropna(subset=['Explicit_Company'], inplace=True)\n",
    "\n",
    "df.to_excel('./Task1Q1.xlsx', index=False)\n",
    "df"
   ]
  }
 ],
 "metadata": {
  "kernelspec": {
   "display_name": "Python 3 (ipykernel)",
   "language": "python",
   "name": "python3"
  },
  "language_info": {
   "codemirror_mode": {
    "name": "ipython",
    "version": 3
   },
   "file_extension": ".py",
   "mimetype": "text/x-python",
   "name": "python",
   "nbconvert_exporter": "python",
   "pygments_lexer": "ipython3",
   "version": "3.8.18"
  }
 },
 "nbformat": 4,
 "nbformat_minor": 5
}
